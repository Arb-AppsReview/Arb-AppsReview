{
  "nbformat": 4,
  "nbformat_minor": 0,
  "metadata": {
    "colab": {
      "name": "Extract apps requirements issues by LDA.ipynb",
      "provenance": [],
      "collapsed_sections": [
        "rYkM7udaTDqB",
        "aQnZAFVaTwdt",
        "h1ZKSLnJ8k8q"
      ],
      "toc_visible": true,
      "authorship_tag": "ABX9TyPEIoJosL8O3UFr4eWY8jGr"
    },
    "kernelspec": {
      "name": "python3",
      "display_name": "Python 3"
    },
    "language_info": {
      "name": "python"
    }
  },
  "cells": [
    {
      "cell_type": "markdown",
      "metadata": {
        "id": "Gi0AW-jfRoBy"
      },
      "source": [
        "![تنزيل.jfif](data:image/jpeg;base64,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)\n",
        "\n",
        "# Detection of Apps Requirements Issues Based on Mining Arabic Users' Reviews:Play Store as a Case Study\n",
        "\n",
        "\n",
        "\n",
        "\n",
        "Research Project By  :         Maha Abdullah Al-shamani (4160205)\n",
        "\n",
        "Supervised by :  Dr. Mohammad Alsarem\n",
        "\n"
      ]
    },
    {
      "cell_type": "markdown",
      "metadata": {
        "id": "rYkM7udaTDqB"
      },
      "source": [
        "#Phase1: Scrapping process"
      ]
    },
    {
      "cell_type": "code",
      "metadata": {
        "colab": {
          "base_uri": "https://localhost:8080/"
        },
        "id": "fHNOWLJiTcHO",
        "outputId": "41b8fa56-c790-4bd3-c95e-ee0feb2d22c4"
      },
      "source": [
        "pip install google_play_scraper"
      ],
      "execution_count": null,
      "outputs": [
        {
          "output_type": "stream",
          "text": [
            "Collecting google_play_scraper\n",
            "\u001b[?25l  Downloading https://files.pythonhosted.org/packages/ac/de/87c97ba42c156e53f0eb67a2b68a13d6f77da98d24f6d52f70c631c8e526/google-play-scraper-0.1.2.tar.gz (49kB)\n",
            "\r\u001b[K     |██████▋                         | 10kB 12.8MB/s eta 0:00:01\r\u001b[K     |█████████████▎                  | 20kB 8.4MB/s eta 0:00:01\r\u001b[K     |████████████████████            | 30kB 8.8MB/s eta 0:00:01\r\u001b[K     |██████████████████████████▌     | 40kB 7.4MB/s eta 0:00:01\r\u001b[K     |████████████████████████████████| 51kB 2.7MB/s \n",
            "\u001b[?25hBuilding wheels for collected packages: google-play-scraper\n",
            "  Building wheel for google-play-scraper (setup.py) ... \u001b[?25l\u001b[?25hdone\n",
            "  Created wheel for google-play-scraper: filename=google_play_scraper-0.1.2-cp37-none-any.whl size=22280 sha256=98b598d1e263da1da4646290bc1b8ba9f9062d889fb106b0571a7ff07b88b60b\n",
            "  Stored in directory: /root/.cache/pip/wheels/c3/0c/dc/847f7da787b7d2c28b26a5062f86eac3f16a8cb0bdfdc1f308\n",
            "Successfully built google-play-scraper\n",
            "Installing collected packages: google-play-scraper\n",
            "Successfully installed google-play-scraper-0.1.2\n"
          ],
          "name": "stdout"
        }
      ]
    },
    {
      "cell_type": "code",
      "metadata": {
        "id": "MS6830nxShWn"
      },
      "source": [
        "# this will write the file to the default python dir in: %USERPROFILE%\\AppData\\Local\\Programs\\Python\\Python38-32 for each app id \n",
        "from google_play_scraper import Sort, reviews\n",
        "\n",
        "result, ct = reviews('com.lean.sehhaty', lang='ar', country='sa' , count= 50000)\n",
        "allreview = [ r['content'] for r in result]\n",
        " \n",
        "file=open('com.lean.sehhaty.txt', 'w' , encoding='utf8')  \n",
        "file.write('\\n'.join(allreview)) \n",
        "file.close()\n"
      ],
      "execution_count": null,
      "outputs": []
    },
    {
      "cell_type": "code",
      "metadata": {
        "colab": {
          "base_uri": "https://localhost:8080/"
        },
        "id": "HPvkDoyOv5jw",
        "outputId": "ddaa8bad-ef32-4714-fa7f-9fbbf7382e31"
      },
      "source": [
        "#output example \n",
        "from google_play_scraper import Sort, reviews\n",
        "result, ct = reviews('com.lean.sehhaty', lang='ar', country='sa' , count= 5)\n",
        "\n",
        "for r in result:\n",
        "\tprint (r['userName'] , r['content'] , r['score'] , r['at'] , sep=\" | \")\n"
      ],
      "execution_count": null,
      "outputs": [
        {
          "output_type": "stream",
          "text": [
            "HASSAN AlShammari | انا من يومين و احاول اسوي نسيت كلمة المرور وكل ما احط رقم الهويه و تاريخ الميلاد يكتب لي خطأ نرجو التحقق من البيانات المدخله و انا متاكد من رقم الهويه و تاريخ الميلاد | 3 | 2021-04-16 21:48:41\n",
            "محمود سعيد | ممتاز | 5 | 2021-04-16 21:47:46\n",
            "خالد القحطاني | ممممممممممممتاز | 5 | 2021-04-16 21:33:37\n",
            "gaaz arredh | حلو | 1 | 2021-04-16 21:23:16\n",
            "ديكورات الزجاج أيوب | برنامج جيدا جدا | 4 | 2021-04-16 20:34:09\n"
          ],
          "name": "stdout"
        }
      ]
    },
    {
      "cell_type": "code",
      "metadata": {
        "colab": {
          "base_uri": "https://localhost:8080/",
          "height": 194
        },
        "id": "o8RazfJpdUj9",
        "outputId": "eee654d9-c949-4fa0-aad4-91c05431c77c"
      },
      "source": [
        "#tetaman \n",
        "tetaman = pd.read_csv('/content/tetaman.csv',sep=';')\n",
        "tetaman = tetaman.rename(columns={'Score': 'Rating'})\n",
        "#tetaman.drop(tetaman.columns[[9]], axis=1, inplace=True)\n",
        "tetaman.rename(columns={ tetaman.columns[4]: \"thumbsUp\" }, inplace = True)\n",
        "\n",
        "tetaman['app'] = 'tetaman'\n",
        "\n",
        "tetaman.head()"
      ],
      "execution_count": null,
      "outputs": [
        {
          "output_type": "execute_result",
          "data": {
            "text/html": [
              "<div>\n",
              "<style scoped>\n",
              "    .dataframe tbody tr th:only-of-type {\n",
              "        vertical-align: middle;\n",
              "    }\n",
              "\n",
              "    .dataframe tbody tr th {\n",
              "        vertical-align: top;\n",
              "    }\n",
              "\n",
              "    .dataframe thead th {\n",
              "        text-align: right;\n",
              "    }\n",
              "</style>\n",
              "<table border=\"1\" class=\"dataframe\">\n",
              "  <thead>\n",
              "    <tr style=\"text-align: right;\">\n",
              "      <th></th>\n",
              "      <th>UserName</th>\n",
              "      <th>Review</th>\n",
              "      <th>Rating</th>\n",
              "      <th>Date/Time</th>\n",
              "      <th>thumbsUp</th>\n",
              "      <th>Version</th>\n",
              "      <th>app</th>\n",
              "    </tr>\n",
              "  </thead>\n",
              "  <tbody>\n",
              "    <tr>\n",
              "      <th>0</th>\n",
              "      <td>Yaser Co</td>\n",
              "      <td>الله يحفظ الملك سلمان وولي عهده الامير محمد و...</td>\n",
              "      <td>5</td>\n",
              "      <td>2021-01-31 16:01:09</td>\n",
              "      <td>0</td>\n",
              "      <td>1.7</td>\n",
              "      <td>tetaman</td>\n",
              "    </tr>\n",
              "    <tr>\n",
              "      <th>1</th>\n",
              "      <td>ابراهيم هزام</td>\n",
              "      <td>👍</td>\n",
              "      <td>5</td>\n",
              "      <td>2021-01-30 06:34:13</td>\n",
              "      <td>0</td>\n",
              "      <td>1.7</td>\n",
              "      <td>tetaman</td>\n",
              "    </tr>\n",
              "    <tr>\n",
              "      <th>2</th>\n",
              "      <td>نواف الحربي</td>\n",
              "      <td>تحميلك للتطبيق حتى لو بالخطأ يدخلك في عزل لمد...</td>\n",
              "      <td>1</td>\n",
              "      <td>2021-01-27 08:41:10</td>\n",
              "      <td>1</td>\n",
              "      <td>1.7</td>\n",
              "      <td>tetaman</td>\n",
              "    </tr>\n",
              "    <tr>\n",
              "      <th>3</th>\n",
              "      <td>ahmed ghazala</td>\n",
              "      <td>لا يعمل ولا يستجيب في مرحلة التسجيل لايتم ارس...</td>\n",
              "      <td>1</td>\n",
              "      <td>2021-01-23 21:49:16</td>\n",
              "      <td>0</td>\n",
              "      <td>1.7</td>\n",
              "      <td>tetaman</td>\n",
              "    </tr>\n",
              "    <tr>\n",
              "      <th>4</th>\n",
              "      <td>ELSyed Attia</td>\n",
              "      <td>للأسف تطبيق سيئ جداً بقالي يومين بحاول اسجل و...</td>\n",
              "      <td>1</td>\n",
              "      <td>2021-01-23 00:51:06</td>\n",
              "      <td>1</td>\n",
              "      <td>1.7</td>\n",
              "      <td>tetaman</td>\n",
              "    </tr>\n",
              "  </tbody>\n",
              "</table>\n",
              "</div>"
            ],
            "text/plain": [
              "         UserName  ...      app\n",
              "0       Yaser Co   ...  tetaman\n",
              "1   ابراهيم هزام   ...  tetaman\n",
              "2    نواف الحربي   ...  tetaman\n",
              "3  ahmed ghazala   ...  tetaman\n",
              "4   ELSyed Attia   ...  tetaman\n",
              "\n",
              "[5 rows x 7 columns]"
            ]
          },
          "metadata": {
            "tags": []
          },
          "execution_count": 44
        }
      ]
    },
    {
      "cell_type": "code",
      "metadata": {
        "colab": {
          "base_uri": "https://localhost:8080/"
        },
        "id": "VLH_fcA8o5rJ",
        "outputId": "7c1c70eb-e37b-434d-8186-99c14b4b40b3"
      },
      "source": [
        "tetaman.shape"
      ],
      "execution_count": null,
      "outputs": [
        {
          "output_type": "execute_result",
          "data": {
            "text/plain": [
              "(1356, 7)"
            ]
          },
          "metadata": {
            "tags": []
          },
          "execution_count": 34
        }
      ]
    },
    {
      "cell_type": "code",
      "metadata": {
        "colab": {
          "base_uri": "https://localhost:8080/",
          "height": 194
        },
        "id": "q1f0qHNbxYI0",
        "outputId": "d4846355-4172-45ec-a55c-362f3ad96624"
      },
      "source": [
        "sehhah = pd.read_csv('/content/ubieva.csv',sep=';')\n",
        "sehhah.rename(columns={ sehhah.columns[4]: \"thumbsUp\" }, inplace = True)\n",
        "\n",
        "sehhah['app'] = 'sehhah'\n",
        "\n",
        "sehhah.head()"
      ],
      "execution_count": null,
      "outputs": [
        {
          "output_type": "execute_result",
          "data": {
            "text/html": [
              "<div>\n",
              "<style scoped>\n",
              "    .dataframe tbody tr th:only-of-type {\n",
              "        vertical-align: middle;\n",
              "    }\n",
              "\n",
              "    .dataframe tbody tr th {\n",
              "        vertical-align: top;\n",
              "    }\n",
              "\n",
              "    .dataframe thead th {\n",
              "        text-align: right;\n",
              "    }\n",
              "</style>\n",
              "<table border=\"1\" class=\"dataframe\">\n",
              "  <thead>\n",
              "    <tr style=\"text-align: right;\">\n",
              "      <th></th>\n",
              "      <th>UserName</th>\n",
              "      <th>Review</th>\n",
              "      <th>Rating</th>\n",
              "      <th>Date/Time</th>\n",
              "      <th>thumbsUp</th>\n",
              "      <th>Version</th>\n",
              "      <th>app</th>\n",
              "    </tr>\n",
              "  </thead>\n",
              "  <tbody>\n",
              "    <tr>\n",
              "      <th>0</th>\n",
              "      <td>ابوعلي ؟</td>\n",
              "      <td>ممتاز</td>\n",
              "      <td>5</td>\n",
              "      <td>2021-01-31 12:59:12</td>\n",
              "      <td>0</td>\n",
              "      <td>1.0.35</td>\n",
              "      <td>sehhah</td>\n",
              "    </tr>\n",
              "    <tr>\n",
              "      <th>1</th>\n",
              "      <td>Khalifa Alking</td>\n",
              "      <td>مرحبا</td>\n",
              "      <td>5</td>\n",
              "      <td>2021-01-30 19:34:38</td>\n",
              "      <td>0</td>\n",
              "      <td>1.0.35</td>\n",
              "      <td>sehhah</td>\n",
              "    </tr>\n",
              "    <tr>\n",
              "      <th>2</th>\n",
              "      <td>Nasser A</td>\n",
              "      <td>ممتاز جدا</td>\n",
              "      <td>5</td>\n",
              "      <td>2021-01-22 18:22:45</td>\n",
              "      <td>0</td>\n",
              "      <td>1.0.35</td>\n",
              "      <td>sehhah</td>\n",
              "    </tr>\n",
              "    <tr>\n",
              "      <th>3</th>\n",
              "      <td>مناحل مواسل</td>\n",
              "      <td>ممتاز</td>\n",
              "      <td>5</td>\n",
              "      <td>2021-01-14 19:25:13</td>\n",
              "      <td>0</td>\n",
              "      <td>1.0.35</td>\n",
              "      <td>sehhah</td>\n",
              "    </tr>\n",
              "    <tr>\n",
              "      <th>4</th>\n",
              "      <td>Hamood G</td>\n",
              "      <td>جزاكم الله كل خير واسعدكم في الدارين 🌹❤️</td>\n",
              "      <td>5</td>\n",
              "      <td>2021-01-13 09:20:09</td>\n",
              "      <td>0</td>\n",
              "      <td>1.0.35</td>\n",
              "      <td>sehhah</td>\n",
              "    </tr>\n",
              "  </tbody>\n",
              "</table>\n",
              "</div>"
            ],
            "text/plain": [
              "          UserName                                      Review  ...  Version     app\n",
              "0        ابوعلي ؟                                       ممتاز   ...   1.0.35  sehhah\n",
              "1  Khalifa Alking                                       مرحبا   ...   1.0.35  sehhah\n",
              "2        Nasser A                                   ممتاز جدا   ...   1.0.35  sehhah\n",
              "3     مناحل مواسل                                       ممتاز   ...   1.0.35  sehhah\n",
              "4        Hamood G    جزاكم الله كل خير واسعدكم في الدارين 🌹❤️   ...   1.0.35  sehhah\n",
              "\n",
              "[5 rows x 7 columns]"
            ]
          },
          "metadata": {
            "tags": []
          },
          "execution_count": 36
        }
      ]
    },
    {
      "cell_type": "code",
      "metadata": {
        "colab": {
          "base_uri": "https://localhost:8080/"
        },
        "id": "UMdQ7AZkzf4i",
        "outputId": "de87f092-0040-4a3d-be33-fd9bcd2843fc"
      },
      "source": [
        "sehhah.shape"
      ],
      "execution_count": null,
      "outputs": [
        {
          "output_type": "execute_result",
          "data": {
            "text/plain": [
              "(2050, 7)"
            ]
          },
          "metadata": {
            "tags": []
          },
          "execution_count": 50
        }
      ]
    },
    {
      "cell_type": "code",
      "metadata": {
        "colab": {
          "base_uri": "https://localhost:8080/",
          "height": 194
        },
        "id": "rZ8m0DBtxxv0",
        "outputId": "aae65baf-19e1-41fe-c414-c4fd18907cb5"
      },
      "source": [
        "mawid = pd.read_csv('/content/mawid.csv',sep=';')\n",
        "mawid.drop(mawid.columns[[6,7]], axis=1, inplace=True)\n",
        "mawid.rename(columns={ mawid.columns[4]: \"thumbsUp\" }, inplace = True)\n",
        "\n",
        "\n",
        "mawid['app'] = 'mawid'\n",
        "\n",
        "mawid.head()"
      ],
      "execution_count": null,
      "outputs": [
        {
          "output_type": "execute_result",
          "data": {
            "text/html": [
              "<div>\n",
              "<style scoped>\n",
              "    .dataframe tbody tr th:only-of-type {\n",
              "        vertical-align: middle;\n",
              "    }\n",
              "\n",
              "    .dataframe tbody tr th {\n",
              "        vertical-align: top;\n",
              "    }\n",
              "\n",
              "    .dataframe thead th {\n",
              "        text-align: right;\n",
              "    }\n",
              "</style>\n",
              "<table border=\"1\" class=\"dataframe\">\n",
              "  <thead>\n",
              "    <tr style=\"text-align: right;\">\n",
              "      <th></th>\n",
              "      <th>UserName</th>\n",
              "      <th>Review</th>\n",
              "      <th>Rating</th>\n",
              "      <th>Date/Time</th>\n",
              "      <th>thumbsUp</th>\n",
              "      <th>Version</th>\n",
              "      <th>app</th>\n",
              "    </tr>\n",
              "  </thead>\n",
              "  <tbody>\n",
              "    <tr>\n",
              "      <th>0</th>\n",
              "      <td>Leen Ahmed</td>\n",
              "      <td>👍🏻</td>\n",
              "      <td>5</td>\n",
              "      <td>2021-02-02 09:33:04</td>\n",
              "      <td>0</td>\n",
              "      <td>10.8.0</td>\n",
              "      <td>mawid</td>\n",
              "    </tr>\n",
              "    <tr>\n",
              "      <th>1</th>\n",
              "      <td>abdulwahab aldhuwaihi</td>\n",
              "      <td>تطبيق ممتاز</td>\n",
              "      <td>5</td>\n",
              "      <td>2021-02-02 09:32:26</td>\n",
              "      <td>0</td>\n",
              "      <td>10.8.0</td>\n",
              "      <td>mawid</td>\n",
              "    </tr>\n",
              "    <tr>\n",
              "      <th>2</th>\n",
              "      <td>نواف السهلي</td>\n",
              "      <td>لايوجد مواعيد للأسنان ولايوجد مواعيد متاحة في...</td>\n",
              "      <td>1</td>\n",
              "      <td>2021-02-02 09:29:03</td>\n",
              "      <td>0</td>\n",
              "      <td>10.8.0</td>\n",
              "      <td>mawid</td>\n",
              "    </tr>\n",
              "    <tr>\n",
              "      <th>3</th>\n",
              "      <td>Jarallah Almalki</td>\n",
              "      <td>تطبيق ممتاز وشكرا للقائم عليه</td>\n",
              "      <td>5</td>\n",
              "      <td>2021-02-02 09:26:31</td>\n",
              "      <td>0</td>\n",
              "      <td>10.8.0</td>\n",
              "      <td>mawid</td>\n",
              "    </tr>\n",
              "    <tr>\n",
              "      <th>4</th>\n",
              "      <td>Amal Alofi</td>\n",
              "      <td>ممتاز</td>\n",
              "      <td>5</td>\n",
              "      <td>2021-02-02 09:25:37</td>\n",
              "      <td>0</td>\n",
              "      <td>10.8.0</td>\n",
              "      <td>mawid</td>\n",
              "    </tr>\n",
              "  </tbody>\n",
              "</table>\n",
              "</div>"
            ],
            "text/plain": [
              "                 UserName  ...    app\n",
              "0             Leen Ahmed   ...  mawid\n",
              "1  abdulwahab aldhuwaihi   ...  mawid\n",
              "2            نواف السهلي   ...  mawid\n",
              "3       Jarallah Almalki   ...  mawid\n",
              "4             Amal Alofi   ...  mawid\n",
              "\n",
              "[5 rows x 7 columns]"
            ]
          },
          "metadata": {
            "tags": []
          },
          "execution_count": 37
        }
      ]
    },
    {
      "cell_type": "code",
      "metadata": {
        "colab": {
          "base_uri": "https://localhost:8080/"
        },
        "id": "4cEAWexizmi8",
        "outputId": "80762f0b-69cb-4930-c934-b5bc04a6aef3"
      },
      "source": [
        "mawid.shape"
      ],
      "execution_count": null,
      "outputs": [
        {
          "output_type": "execute_result",
          "data": {
            "text/plain": [
              "(20007, 7)"
            ]
          },
          "metadata": {
            "tags": []
          },
          "execution_count": 51
        }
      ]
    },
    {
      "cell_type": "code",
      "metadata": {
        "colab": {
          "base_uri": "https://localhost:8080/",
          "height": 194
        },
        "id": "VbVvqQOKyATO",
        "outputId": "6fe5f5fd-859c-4a8c-8309-231b8d3a3a20"
      },
      "source": [
        "tabaud = pd.read_csv('/content/tabaud.csv',sep=';')\n",
        "tabaud.drop(tabaud.columns[[6,7,8]], axis=1, inplace=True)\n",
        "tabaud.rename(columns={ tabaud.columns[4]: \"thumbsUp\" }, inplace = True)\n",
        "\n",
        "tabaud['app'] = 'tabaud'\n",
        "\n",
        "tabaud.head()"
      ],
      "execution_count": null,
      "outputs": [
        {
          "output_type": "execute_result",
          "data": {
            "text/html": [
              "<div>\n",
              "<style scoped>\n",
              "    .dataframe tbody tr th:only-of-type {\n",
              "        vertical-align: middle;\n",
              "    }\n",
              "\n",
              "    .dataframe tbody tr th {\n",
              "        vertical-align: top;\n",
              "    }\n",
              "\n",
              "    .dataframe thead th {\n",
              "        text-align: right;\n",
              "    }\n",
              "</style>\n",
              "<table border=\"1\" class=\"dataframe\">\n",
              "  <thead>\n",
              "    <tr style=\"text-align: right;\">\n",
              "      <th></th>\n",
              "      <th>UserName</th>\n",
              "      <th>Review</th>\n",
              "      <th>Rating</th>\n",
              "      <th>Date/Time</th>\n",
              "      <th>thumbsUp</th>\n",
              "      <th>Version</th>\n",
              "      <th>app</th>\n",
              "    </tr>\n",
              "  </thead>\n",
              "  <tbody>\n",
              "    <tr>\n",
              "      <th>0</th>\n",
              "      <td>Running Sport</td>\n",
              "      <td>نايس</td>\n",
              "      <td>5</td>\n",
              "      <td>2021-02-02 09:55:26</td>\n",
              "      <td>0</td>\n",
              "      <td>1.2.0</td>\n",
              "      <td>tabaud</td>\n",
              "    </tr>\n",
              "    <tr>\n",
              "      <th>1</th>\n",
              "      <td>وطن عمري</td>\n",
              "      <td>منتاز</td>\n",
              "      <td>5</td>\n",
              "      <td>2021-02-02 06:46:18</td>\n",
              "      <td>0</td>\n",
              "      <td>None</td>\n",
              "      <td>tabaud</td>\n",
              "    </tr>\n",
              "    <tr>\n",
              "      <th>2</th>\n",
              "      <td>Khalid feysal</td>\n",
              "      <td>تم</td>\n",
              "      <td>5</td>\n",
              "      <td>2021-02-02 03:16:16</td>\n",
              "      <td>0</td>\n",
              "      <td>1.2.0</td>\n",
              "      <td>tabaud</td>\n",
              "    </tr>\n",
              "    <tr>\n",
              "      <th>3</th>\n",
              "      <td>سعيد باخريصة</td>\n",
              "      <td>تطبيق رائع وفكره ممتازه وسوف يكون تحت التجربه...</td>\n",
              "      <td>5</td>\n",
              "      <td>2021-02-02 02:52:40</td>\n",
              "      <td>0</td>\n",
              "      <td>1.2.0</td>\n",
              "      <td>tabaud</td>\n",
              "    </tr>\n",
              "    <tr>\n",
              "      <th>4</th>\n",
              "      <td>Adel AlAwad</td>\n",
              "      <td>جميل ع ع</td>\n",
              "      <td>3</td>\n",
              "      <td>2021-02-02 02:32:26</td>\n",
              "      <td>0</td>\n",
              "      <td>1.2.0</td>\n",
              "      <td>tabaud</td>\n",
              "    </tr>\n",
              "  </tbody>\n",
              "</table>\n",
              "</div>"
            ],
            "text/plain": [
              "         UserName  ...     app\n",
              "0  Running Sport   ...  tabaud\n",
              "1       وطن عمري   ...  tabaud\n",
              "2  Khalid feysal   ...  tabaud\n",
              "3   سعيد باخريصة   ...  tabaud\n",
              "4    Adel AlAwad   ...  tabaud\n",
              "\n",
              "[5 rows x 7 columns]"
            ]
          },
          "metadata": {
            "tags": []
          },
          "execution_count": 38
        }
      ]
    },
    {
      "cell_type": "code",
      "metadata": {
        "colab": {
          "base_uri": "https://localhost:8080/"
        },
        "id": "FteAXGeOzqke",
        "outputId": "d1e82788-dcfe-4033-e2d7-69257f2e49d8"
      },
      "source": [
        "tabaud.shape"
      ],
      "execution_count": null,
      "outputs": [
        {
          "output_type": "execute_result",
          "data": {
            "text/plain": [
              "(2369, 7)"
            ]
          },
          "metadata": {
            "tags": []
          },
          "execution_count": 52
        }
      ]
    },
    {
      "cell_type": "code",
      "metadata": {
        "colab": {
          "base_uri": "https://localhost:8080/",
          "height": 194
        },
        "id": "fJEyDWomyPFY",
        "outputId": "5d8148b9-5f56-4ea7-b7cb-41d648fd3300"
      },
      "source": [
        "sehhaty = pd.read_csv('/content/sehhaty.csv',sep=';')\n",
        "sehhaty.rename(columns={ sehhaty.columns[4]: \"thumbsUp\" }, inplace = True)\n",
        "\n",
        "sehhaty['app'] = 'sehhaty'\n",
        "#sehhaty.drop(sehhaty.columns[[9,10]], axis=1, inplace=True)\n",
        "sehhaty.head()"
      ],
      "execution_count": null,
      "outputs": [
        {
          "output_type": "execute_result",
          "data": {
            "text/html": [
              "<div>\n",
              "<style scoped>\n",
              "    .dataframe tbody tr th:only-of-type {\n",
              "        vertical-align: middle;\n",
              "    }\n",
              "\n",
              "    .dataframe tbody tr th {\n",
              "        vertical-align: top;\n",
              "    }\n",
              "\n",
              "    .dataframe thead th {\n",
              "        text-align: right;\n",
              "    }\n",
              "</style>\n",
              "<table border=\"1\" class=\"dataframe\">\n",
              "  <thead>\n",
              "    <tr style=\"text-align: right;\">\n",
              "      <th></th>\n",
              "      <th>UserName</th>\n",
              "      <th>Review</th>\n",
              "      <th>Rating</th>\n",
              "      <th>Date/Time</th>\n",
              "      <th>thumbsUp</th>\n",
              "      <th>Version</th>\n",
              "      <th>app</th>\n",
              "    </tr>\n",
              "  </thead>\n",
              "  <tbody>\n",
              "    <tr>\n",
              "      <th>0</th>\n",
              "      <td>Ahmad Badi</td>\n",
              "      <td>اشكر القائمين على البرنامج والله يوفقكم</td>\n",
              "      <td>5</td>\n",
              "      <td>2021-02-01 11:45:22</td>\n",
              "      <td>0</td>\n",
              "      <td>2.3.8</td>\n",
              "      <td>sehhaty</td>\n",
              "    </tr>\n",
              "    <tr>\n",
              "      <th>1</th>\n",
              "      <td>riyad ahmad</td>\n",
              "      <td>اشكر قايمين على هذا البرنامج</td>\n",
              "      <td>5</td>\n",
              "      <td>2021-02-01 11:33:36</td>\n",
              "      <td>0</td>\n",
              "      <td>2.3.8</td>\n",
              "      <td>sehhaty</td>\n",
              "    </tr>\n",
              "    <tr>\n",
              "      <th>2</th>\n",
              "      <td>Ahmad Alnjie</td>\n",
              "      <td>ممتاز</td>\n",
              "      <td>5</td>\n",
              "      <td>2021-02-01 11:09:11</td>\n",
              "      <td>0</td>\n",
              "      <td>2.3.7</td>\n",
              "      <td>sehhaty</td>\n",
              "    </tr>\n",
              "    <tr>\n",
              "      <th>3</th>\n",
              "      <td>Jameel Faden</td>\n",
              "      <td>واضح وسهل</td>\n",
              "      <td>4</td>\n",
              "      <td>2021-02-01 11:03:42</td>\n",
              "      <td>0</td>\n",
              "      <td>2.3.7</td>\n",
              "      <td>sehhaty</td>\n",
              "    </tr>\n",
              "    <tr>\n",
              "      <th>4</th>\n",
              "      <td>Wad Hamor</td>\n",
              "      <td>ممتاز جدا</td>\n",
              "      <td>5</td>\n",
              "      <td>2021-02-01 10:57:38</td>\n",
              "      <td>0</td>\n",
              "      <td>2.3.7</td>\n",
              "      <td>sehhaty</td>\n",
              "    </tr>\n",
              "  </tbody>\n",
              "</table>\n",
              "</div>"
            ],
            "text/plain": [
              "        UserName                                     Review  ...  Version      app\n",
              "0    Ahmad Badi    اشكر القائمين على البرنامج والله يوفقكم   ...    2.3.8  sehhaty\n",
              "1   riyad ahmad               اشكر قايمين على هذا البرنامج   ...    2.3.8  sehhaty\n",
              "2  Ahmad Alnjie                                      ممتاز   ...    2.3.7  sehhaty\n",
              "3  Jameel Faden                                  واضح وسهل   ...    2.3.7  sehhaty\n",
              "4     Wad Hamor                                  ممتاز جدا   ...    2.3.7  sehhaty\n",
              "\n",
              "[5 rows x 7 columns]"
            ]
          },
          "metadata": {
            "tags": []
          },
          "execution_count": 39
        }
      ]
    },
    {
      "cell_type": "code",
      "metadata": {
        "colab": {
          "base_uri": "https://localhost:8080/"
        },
        "id": "lMQo4FPizvTW",
        "outputId": "f4f0f1e0-211d-465c-b4b5-27231e58a942"
      },
      "source": [
        "sehhaty.shape"
      ],
      "execution_count": null,
      "outputs": [
        {
          "output_type": "execute_result",
          "data": {
            "text/plain": [
              "(4975, 7)"
            ]
          },
          "metadata": {
            "tags": []
          },
          "execution_count": 53
        }
      ]
    },
    {
      "cell_type": "code",
      "metadata": {
        "colab": {
          "base_uri": "https://localhost:8080/",
          "height": 194
        },
        "id": "LtEgdAVAyqHS",
        "outputId": "f1968d3d-d2a6-4995-cdb5-2eb8ab5bbd15"
      },
      "source": [
        "tawakkalna = pd.read_csv('/content/tawakkalna.csv',sep=';')\n",
        "tawakkalna.rename(columns={ tawakkalna.columns[4]: \"thumbsUp\" }, inplace = True)\n",
        "\n",
        "tawakkalna['app'] = 'tawakkalna'\n",
        "\n",
        "tawakkalna.head()\n"
      ],
      "execution_count": null,
      "outputs": [
        {
          "output_type": "execute_result",
          "data": {
            "text/html": [
              "<div>\n",
              "<style scoped>\n",
              "    .dataframe tbody tr th:only-of-type {\n",
              "        vertical-align: middle;\n",
              "    }\n",
              "\n",
              "    .dataframe tbody tr th {\n",
              "        vertical-align: top;\n",
              "    }\n",
              "\n",
              "    .dataframe thead th {\n",
              "        text-align: right;\n",
              "    }\n",
              "</style>\n",
              "<table border=\"1\" class=\"dataframe\">\n",
              "  <thead>\n",
              "    <tr style=\"text-align: right;\">\n",
              "      <th></th>\n",
              "      <th>UserName</th>\n",
              "      <th>Review</th>\n",
              "      <th>Rating</th>\n",
              "      <th>Date/Time</th>\n",
              "      <th>thumbsUp</th>\n",
              "      <th>Version</th>\n",
              "      <th>app</th>\n",
              "    </tr>\n",
              "  </thead>\n",
              "  <tbody>\n",
              "    <tr>\n",
              "      <th>0</th>\n",
              "      <td>خالد عبد الرحمن</td>\n",
              "      <td>ممتاز</td>\n",
              "      <td>5</td>\n",
              "      <td>2021-02-01 10:38:46</td>\n",
              "      <td>0</td>\n",
              "      <td>2.6.0</td>\n",
              "      <td>tawakkalna</td>\n",
              "    </tr>\n",
              "    <tr>\n",
              "      <th>1</th>\n",
              "      <td>زايد عواض</td>\n",
              "      <td>ممتاز جدا</td>\n",
              "      <td>5</td>\n",
              "      <td>2021-02-01 10:37:25</td>\n",
              "      <td>0</td>\n",
              "      <td>2.5.1</td>\n",
              "      <td>tawakkalna</td>\n",
              "    </tr>\n",
              "    <tr>\n",
              "      <th>2</th>\n",
              "      <td>Son of Yemen ابن اليمن</td>\n",
              "      <td>جميل جداً شكراً لكم</td>\n",
              "      <td>5</td>\n",
              "      <td>2021-02-01 10:36:08</td>\n",
              "      <td>0</td>\n",
              "      <td>2.6.0</td>\n",
              "      <td>tawakkalna</td>\n",
              "    </tr>\n",
              "    <tr>\n",
              "      <th>3</th>\n",
              "      <td>مصعب محمج</td>\n",
              "      <td>ممتاز</td>\n",
              "      <td>5</td>\n",
              "      <td>2021-02-01 10:35:02</td>\n",
              "      <td>0</td>\n",
              "      <td>2.6.0</td>\n",
              "      <td>tawakkalna</td>\n",
              "    </tr>\n",
              "    <tr>\n",
              "      <th>4</th>\n",
              "      <td>السيد السقاف</td>\n",
              "      <td>التطبيق جدا رائع ومرن وسهل الاستخدام تشكر وزا...</td>\n",
              "      <td>5</td>\n",
              "      <td>2021-02-01 10:32:27</td>\n",
              "      <td>0</td>\n",
              "      <td>2.6.0</td>\n",
              "      <td>tawakkalna</td>\n",
              "    </tr>\n",
              "  </tbody>\n",
              "</table>\n",
              "</div>"
            ],
            "text/plain": [
              "                  UserName  ...         app\n",
              "0         خالد عبد الرحمن   ...  tawakkalna\n",
              "1               زايد عواض   ...  tawakkalna\n",
              "2  Son of Yemen ابن اليمن   ...  tawakkalna\n",
              "3               مصعب محمج   ...  tawakkalna\n",
              "4            السيد السقاف   ...  tawakkalna\n",
              "\n",
              "[5 rows x 7 columns]"
            ]
          },
          "metadata": {
            "tags": []
          },
          "execution_count": 40
        }
      ]
    },
    {
      "cell_type": "code",
      "metadata": {
        "colab": {
          "base_uri": "https://localhost:8080/"
        },
        "id": "B9W1m2Cjzy7v",
        "outputId": "af37192d-33e7-4775-bfcd-15bcd199c23e"
      },
      "source": [
        "tawakkalna.shape"
      ],
      "execution_count": null,
      "outputs": [
        {
          "output_type": "execute_result",
          "data": {
            "text/plain": [
              "(21009, 7)"
            ]
          },
          "metadata": {
            "tags": []
          },
          "execution_count": 54
        }
      ]
    },
    {
      "cell_type": "code",
      "metadata": {
        "id": "3_S-Q5JnnOTH"
      },
      "source": [
        "frames = [tetaman, sehhah, mawid, tabaud, tawakkalna, sehhaty]\n",
        "\n",
        "final_df = pd.concat(frames)\n",
        "final_df.reset_index(drop=True, inplace=True)"
      ],
      "execution_count": null,
      "outputs": []
    },
    {
      "cell_type": "code",
      "metadata": {
        "colab": {
          "base_uri": "https://localhost:8080/"
        },
        "id": "ZJIksK_Gr4nO",
        "outputId": "e94eca55-daaf-43ed-b0e3-e96a8d6510e4"
      },
      "source": [
        "final_df.shape"
      ],
      "execution_count": null,
      "outputs": [
        {
          "output_type": "execute_result",
          "data": {
            "text/plain": [
              "(51766, 7)"
            ]
          },
          "metadata": {
            "tags": []
          },
          "execution_count": 46
        }
      ]
    },
    {
      "cell_type": "code",
      "metadata": {
        "colab": {
          "base_uri": "https://localhost:8080/",
          "height": 340
        },
        "id": "1oVW7jCNy6Pp",
        "outputId": "74db9f25-bac8-42e3-dff6-c3e03b6f6101"
      },
      "source": [
        "final_df.head(10)"
      ],
      "execution_count": null,
      "outputs": [
        {
          "output_type": "execute_result",
          "data": {
            "text/html": [
              "<div>\n",
              "<style scoped>\n",
              "    .dataframe tbody tr th:only-of-type {\n",
              "        vertical-align: middle;\n",
              "    }\n",
              "\n",
              "    .dataframe tbody tr th {\n",
              "        vertical-align: top;\n",
              "    }\n",
              "\n",
              "    .dataframe thead th {\n",
              "        text-align: right;\n",
              "    }\n",
              "</style>\n",
              "<table border=\"1\" class=\"dataframe\">\n",
              "  <thead>\n",
              "    <tr style=\"text-align: right;\">\n",
              "      <th></th>\n",
              "      <th>UserName</th>\n",
              "      <th>Review</th>\n",
              "      <th>Rating</th>\n",
              "      <th>Date/Time</th>\n",
              "      <th>thumbsUp</th>\n",
              "      <th>Version</th>\n",
              "      <th>app</th>\n",
              "    </tr>\n",
              "  </thead>\n",
              "  <tbody>\n",
              "    <tr>\n",
              "      <th>0</th>\n",
              "      <td>Yaser Co</td>\n",
              "      <td>الله يحفظ الملك سلمان وولي عهده الامير محمد و...</td>\n",
              "      <td>5</td>\n",
              "      <td>2021-01-31 16:01:09</td>\n",
              "      <td>0</td>\n",
              "      <td>1.7</td>\n",
              "      <td>tetaman</td>\n",
              "    </tr>\n",
              "    <tr>\n",
              "      <th>1</th>\n",
              "      <td>ابراهيم هزام</td>\n",
              "      <td>👍</td>\n",
              "      <td>5</td>\n",
              "      <td>2021-01-30 06:34:13</td>\n",
              "      <td>0</td>\n",
              "      <td>1.7</td>\n",
              "      <td>tetaman</td>\n",
              "    </tr>\n",
              "    <tr>\n",
              "      <th>2</th>\n",
              "      <td>نواف الحربي</td>\n",
              "      <td>تحميلك للتطبيق حتى لو بالخطأ يدخلك في عزل لمد...</td>\n",
              "      <td>1</td>\n",
              "      <td>2021-01-27 08:41:10</td>\n",
              "      <td>1</td>\n",
              "      <td>1.7</td>\n",
              "      <td>tetaman</td>\n",
              "    </tr>\n",
              "    <tr>\n",
              "      <th>3</th>\n",
              "      <td>ahmed ghazala</td>\n",
              "      <td>لا يعمل ولا يستجيب في مرحلة التسجيل لايتم ارس...</td>\n",
              "      <td>1</td>\n",
              "      <td>2021-01-23 21:49:16</td>\n",
              "      <td>0</td>\n",
              "      <td>1.7</td>\n",
              "      <td>tetaman</td>\n",
              "    </tr>\n",
              "    <tr>\n",
              "      <th>4</th>\n",
              "      <td>ELSyed Attia</td>\n",
              "      <td>للأسف تطبيق سيئ جداً بقالي يومين بحاول اسجل و...</td>\n",
              "      <td>1</td>\n",
              "      <td>2021-01-23 00:51:06</td>\n",
              "      <td>1</td>\n",
              "      <td>1.7</td>\n",
              "      <td>tetaman</td>\n",
              "    </tr>\n",
              "    <tr>\n",
              "      <th>5</th>\n",
              "      <td>ماجد غازي</td>\n",
              "      <td>زينه</td>\n",
              "      <td>5</td>\n",
              "      <td>2021-01-22 12:42:00</td>\n",
              "      <td>0</td>\n",
              "      <td>1.7</td>\n",
              "      <td>tetaman</td>\n",
              "    </tr>\n",
              "    <tr>\n",
              "      <th>6</th>\n",
              "      <td>انور القدسي</td>\n",
              "      <td>ما قدرت اسجل في التطبيق ، اوصل ل آخر خطوه وهي...</td>\n",
              "      <td>1</td>\n",
              "      <td>2021-01-21 23:55:30</td>\n",
              "      <td>0</td>\n",
              "      <td>None</td>\n",
              "      <td>tetaman</td>\n",
              "    </tr>\n",
              "    <tr>\n",
              "      <th>7</th>\n",
              "      <td>اسلام سعيد</td>\n",
              "      <td>نزلت البرنامج اكثر من مره وسجلت بياناتي كلها ...</td>\n",
              "      <td>1</td>\n",
              "      <td>2021-01-21 15:25:36</td>\n",
              "      <td>0</td>\n",
              "      <td>1.7</td>\n",
              "      <td>tetaman</td>\n",
              "    </tr>\n",
              "    <tr>\n",
              "      <th>8</th>\n",
              "      <td>Wesam Yousif</td>\n",
              "      <td>التطبيق لا يعمل رمز التحقق لا يصل علي الجوال ...</td>\n",
              "      <td>1</td>\n",
              "      <td>2021-01-20 23:46:16</td>\n",
              "      <td>0</td>\n",
              "      <td>1.7</td>\n",
              "      <td>tetaman</td>\n",
              "    </tr>\n",
              "    <tr>\n",
              "      <th>9</th>\n",
              "      <td>adel saed</td>\n",
              "      <td>البرنامج لايرسل لي رمز التحقق على الجوال هل ه...</td>\n",
              "      <td>1</td>\n",
              "      <td>2021-01-20 22:56:16</td>\n",
              "      <td>0</td>\n",
              "      <td>1.7</td>\n",
              "      <td>tetaman</td>\n",
              "    </tr>\n",
              "  </tbody>\n",
              "</table>\n",
              "</div>"
            ],
            "text/plain": [
              "         UserName  ...      app\n",
              "0       Yaser Co   ...  tetaman\n",
              "1   ابراهيم هزام   ...  tetaman\n",
              "2    نواف الحربي   ...  tetaman\n",
              "3  ahmed ghazala   ...  tetaman\n",
              "4   ELSyed Attia   ...  tetaman\n",
              "5      ماجد غازي   ...  tetaman\n",
              "6    انور القدسي   ...  tetaman\n",
              "7     اسلام سعيد   ...  tetaman\n",
              "8   Wesam Yousif   ...  tetaman\n",
              "9      adel saed   ...  tetaman\n",
              "\n",
              "[10 rows x 7 columns]"
            ]
          },
          "metadata": {
            "tags": []
          },
          "execution_count": 48
        }
      ]
    },
    {
      "cell_type": "code",
      "metadata": {
        "id": "maRR_E4Vr6jo"
      },
      "source": [
        "final_df.to_csv('df.csv',encoding='utf-8-sig')"
      ],
      "execution_count": null,
      "outputs": []
    },
    {
      "cell_type": "markdown",
      "metadata": {
        "id": "aQnZAFVaTwdt"
      },
      "source": [
        "# Phase2 : Feature engineering process"
      ]
    },
    {
      "cell_type": "code",
      "metadata": {
        "id": "epikUMtlT2Kg"
      },
      "source": [
        "import pandas as pd\n",
        "import numpy as np\n",
        "import matplotlib.pyplot as plt"
      ],
      "execution_count": null,
      "outputs": []
    },
    {
      "cell_type": "code",
      "metadata": {
        "id": "TvYHFSd-l1LS"
      },
      "source": [
        "df = pd.read_csv('Arabic-names-gender-classification/arabic_names_with_gender.csv') #https://github.com/bibs2091/Arabic-names-gender-classification"
      ],
      "execution_count": null,
      "outputs": []
    },
    {
      "cell_type": "code",
      "metadata": {
        "id": "IIMMm7X_0xrm"
      },
      "source": [
        "from langdetect import detect"
      ],
      "execution_count": null,
      "outputs": []
    },
    {
      "cell_type": "code",
      "metadata": {
        "id": "VAGdot5Vz_zQ"
      },
      "source": [
        "#Detect the language of reviews to help in filtering process \n",
        "lan_review = []\n",
        "for i in range(0,len(final_df.Review)):\n",
        "    try: \n",
        "        lang = detect(final_df.Review[i])\n",
        "        print(i)\n",
        "        if lang == 'ar':\n",
        "            lan_review.append('Arabic')\n",
        "        else:\n",
        "            lan_review.append('Non-Arabic')\n",
        "    except:\n",
        "        lan_review.append('Non-Arabic')"
      ],
      "execution_count": null,
      "outputs": []
    },
    {
      "cell_type": "code",
      "metadata": {
        "id": "E5dr_u9e0Yh3"
      },
      "source": [
        "#seperate the first name to help model in gender detection\n",
        "firstName = []\n",
        "for i in range(0,len(final_df.Review)):\n",
        "    x = final_df.UserName[i]\n",
        "    try:\n",
        "        first = x.split()[0]\n",
        "        firstName.append(first)\n",
        "\n",
        "        \n",
        "        print(i)\n",
        "      \n",
        "    except:\n",
        "        firstName.append('Not_found')\n",
        "final_df['firstName'] = firstName"
      ],
      "execution_count": null,
      "outputs": []
    },
    {
      "cell_type": "code",
      "metadata": {
        "id": "ao4PKBc00-rj"
      },
      "source": [
        "gender = []\n",
        "for i in range(0,len(final_df.Review)):\n",
        "    x = final_df.firstName[i]\n",
        "    try:\n",
        "        gen = predict(model,x)\n",
        "        gender.append(gen)\n",
        "\n",
        "        \n",
        "        print(i)\n",
        "      \n",
        "    except:\n",
        "        gender.append('Not_found')\n",
        "\n",
        "final_df['Gender'] = gender\n",
        "        "
      ],
      "execution_count": null,
      "outputs": []
    },
    {
      "cell_type": "code",
      "metadata": {
        "id": "l2eBmOf11JcN"
      },
      "source": [
        "#add a review length  colomn \n",
        "final_df[\"ReviewLength\"]= final_df[\"Review\"].str.len()"
      ],
      "execution_count": null,
      "outputs": []
    },
    {
      "cell_type": "code",
      "metadata": {
        "id": "AjMgx9dD1SOA"
      },
      "source": [
        "#add a word count column \n",
        "count = final_df['Review'].str.split().str.len()\n",
        "final_df[\"words_count\"] = count"
      ],
      "execution_count": null,
      "outputs": []
    },
    {
      "cell_type": "code",
      "metadata": {
        "id": "m0n4hEVb1vgM"
      },
      "source": [
        "!pip install camel-tools"
      ],
      "execution_count": null,
      "outputs": []
    },
    {
      "cell_type": "code",
      "metadata": {
        "id": "Oayfypel2CNE"
      },
      "source": [
        "import camel_tools\n",
        "from camel_tools.sentiment import SentimentAnalyzer"
      ],
      "execution_count": null,
      "outputs": []
    },
    {
      "cell_type": "code",
      "metadata": {
        "id": "7jOhasOv2C-P"
      },
      "source": [
        "sa = SentimentAnalyzer.pretrained()"
      ],
      "execution_count": null,
      "outputs": []
    },
    {
      "cell_type": "code",
      "metadata": {
        "id": "QImdZ2Hj2HGF"
      },
      "source": [
        "#predict the review sentiment \n",
        "sentiments = []\n",
        "for i in range(0,len(final_df.Review)):\n",
        "    \n",
        "    \n",
        "    x = final_df.Review[i]\n",
        "    try:\n",
        "        \n",
        "\n",
        "        xx = sa.predict_sentence(x)\n",
        "        sentiments.append(xx)\n",
        "\n",
        "\n",
        "    except:\n",
        "        sentiments.append('No_sentment_extracted')\n",
        "    print(i)"
      ],
      "execution_count": null,
      "outputs": []
    },
    {
      "cell_type": "code",
      "metadata": {
        "id": "5BxSDmvC2XRx"
      },
      "source": [
        "final_df[\"Polarity sentiment\"] = sentiments"
      ],
      "execution_count": null,
      "outputs": []
    },
    {
      "cell_type": "code",
      "metadata": {
        "id": "HFS_UOZR2bD_"
      },
      "source": [
        "#dataset after feature engineering "
      ],
      "execution_count": null,
      "outputs": []
    },
    {
      "cell_type": "code",
      "metadata": {
        "id": "avKETiiw8KaL"
      },
      "source": [
        "df = pd.read_csv(\"/content/final_df.csv\", sep=';' )"
      ],
      "execution_count": null,
      "outputs": []
    },
    {
      "cell_type": "code",
      "metadata": {
        "colab": {
          "base_uri": "https://localhost:8080/",
          "height": 295
        },
        "id": "DufjNg758XoQ",
        "outputId": "43a8befe-af5a-4491-c42d-a11ffabf414c"
      },
      "source": [
        "df.head()"
      ],
      "execution_count": null,
      "outputs": [
        {
          "output_type": "execute_result",
          "data": {
            "text/html": [
              "<div>\n",
              "<style scoped>\n",
              "    .dataframe tbody tr th:only-of-type {\n",
              "        vertical-align: middle;\n",
              "    }\n",
              "\n",
              "    .dataframe tbody tr th {\n",
              "        vertical-align: top;\n",
              "    }\n",
              "\n",
              "    .dataframe thead th {\n",
              "        text-align: right;\n",
              "    }\n",
              "</style>\n",
              "<table border=\"1\" class=\"dataframe\">\n",
              "  <thead>\n",
              "    <tr style=\"text-align: right;\">\n",
              "      <th></th>\n",
              "      <th>UserName</th>\n",
              "      <th>Review</th>\n",
              "      <th>Score</th>\n",
              "      <th>Date/Time</th>\n",
              "      <th>thumbsUp</th>\n",
              "      <th>Version</th>\n",
              "      <th>app</th>\n",
              "      <th>lan_review</th>\n",
              "      <th>firstName</th>\n",
              "      <th>Gender</th>\n",
              "      <th>ReviewLength</th>\n",
              "      <th>words_count</th>\n",
              "      <th>Polarity sentiment</th>\n",
              "    </tr>\n",
              "  </thead>\n",
              "  <tbody>\n",
              "    <tr>\n",
              "      <th>0</th>\n",
              "      <td>Yaser Co</td>\n",
              "      <td>الله يحفظ الملك سلمان وولي عهده الامير محمد و...</td>\n",
              "      <td>5.0</td>\n",
              "      <td>2021-01-31 16:01:09</td>\n",
              "      <td>0.0</td>\n",
              "      <td>1.7</td>\n",
              "      <td>tetaman</td>\n",
              "      <td>Arabic</td>\n",
              "      <td>Yaser</td>\n",
              "      <td>Male</td>\n",
              "      <td>109.0</td>\n",
              "      <td>16.0</td>\n",
              "      <td>positive</td>\n",
              "    </tr>\n",
              "    <tr>\n",
              "      <th>1</th>\n",
              "      <td>ابراهيم هزام</td>\n",
              "      <td>👍</td>\n",
              "      <td>5.0</td>\n",
              "      <td>2021-01-30 06:34:13</td>\n",
              "      <td>0.0</td>\n",
              "      <td>1.7</td>\n",
              "      <td>tetaman</td>\n",
              "      <td>Non-Arabic</td>\n",
              "      <td>ابراهيم</td>\n",
              "      <td>Male</td>\n",
              "      <td>3.0</td>\n",
              "      <td>1.0</td>\n",
              "      <td>positive</td>\n",
              "    </tr>\n",
              "    <tr>\n",
              "      <th>2</th>\n",
              "      <td>نواف الحربي</td>\n",
              "      <td>تحميلك للتطبيق حتى لو بالخطأ يدخلك في عزل لمد...</td>\n",
              "      <td>1.0</td>\n",
              "      <td>2021-01-27 08:41:10</td>\n",
              "      <td>1.0</td>\n",
              "      <td>1.7</td>\n",
              "      <td>tetaman</td>\n",
              "      <td>Arabic</td>\n",
              "      <td>نواف</td>\n",
              "      <td>Male</td>\n",
              "      <td>164.0</td>\n",
              "      <td>31.0</td>\n",
              "      <td>neutral</td>\n",
              "    </tr>\n",
              "    <tr>\n",
              "      <th>3</th>\n",
              "      <td>ahmed ghazala</td>\n",
              "      <td>لا يعمل ولا يستجيب في مرحلة التسجيل لايتم ارس...</td>\n",
              "      <td>1.0</td>\n",
              "      <td>2021-01-23 21:49:16</td>\n",
              "      <td>0.0</td>\n",
              "      <td>1.7</td>\n",
              "      <td>tetaman</td>\n",
              "      <td>Arabic</td>\n",
              "      <td>ahmed</td>\n",
              "      <td>Male</td>\n",
              "      <td>55.0</td>\n",
              "      <td>10.0</td>\n",
              "      <td>neutral</td>\n",
              "    </tr>\n",
              "    <tr>\n",
              "      <th>4</th>\n",
              "      <td>ELSyed Attia</td>\n",
              "      <td>للأسف تطبيق سيئ جداً بقالي يومين بحاول اسجل و...</td>\n",
              "      <td>1.0</td>\n",
              "      <td>2021-01-23 00:51:06</td>\n",
              "      <td>1.0</td>\n",
              "      <td>1.7</td>\n",
              "      <td>tetaman</td>\n",
              "      <td>Arabic</td>\n",
              "      <td>ELSyed</td>\n",
              "      <td>Male</td>\n",
              "      <td>67.0</td>\n",
              "      <td>12.0</td>\n",
              "      <td>negative</td>\n",
              "    </tr>\n",
              "  </tbody>\n",
              "</table>\n",
              "</div>"
            ],
            "text/plain": [
              "         UserName  ... Polarity sentiment\n",
              "0       Yaser Co   ...           positive\n",
              "1   ابراهيم هزام   ...           positive\n",
              "2    نواف الحربي   ...            neutral\n",
              "3  ahmed ghazala   ...            neutral\n",
              "4   ELSyed Attia   ...           negative\n",
              "\n",
              "[5 rows x 13 columns]"
            ]
          },
          "metadata": {
            "tags": []
          },
          "execution_count": 61
        }
      ]
    },
    {
      "cell_type": "markdown",
      "metadata": {
        "id": "h1ZKSLnJ8k8q"
      },
      "source": [
        "# Phase3 : Exploraity Data Analysis"
      ]
    },
    {
      "cell_type": "code",
      "metadata": {
        "id": "WZnwHLer8r2o"
      },
      "source": [
        "import pandas as pd\n",
        "import numpy as np\n",
        "import matplotlib.pyplot as plt\n",
        "import seaborn as sns"
      ],
      "execution_count": null,
      "outputs": []
    },
    {
      "cell_type": "code",
      "metadata": {
        "id": "a7puU83D6t22"
      },
      "source": [
        "df = pd.read_csv('/content/final_df.csv',sep=';')"
      ],
      "execution_count": null,
      "outputs": []
    },
    {
      "cell_type": "code",
      "metadata": {
        "colab": {
          "base_uri": "https://localhost:8080/"
        },
        "id": "SIWUOcpY62WV",
        "outputId": "92adb9b7-5429-4aaf-9105-5f262f8c6858"
      },
      "source": [
        "df.shape"
      ],
      "execution_count": null,
      "outputs": [
        {
          "output_type": "execute_result",
          "data": {
            "text/plain": [
              "(51766, 13)"
            ]
          },
          "metadata": {
            "tags": []
          },
          "execution_count": 4
        }
      ]
    },
    {
      "cell_type": "code",
      "metadata": {
        "colab": {
          "base_uri": "https://localhost:8080/"
        },
        "id": "JQz671Px_GZ_",
        "outputId": "2d16efee-1064-4e9e-9b17-fb1203fbf0a4"
      },
      "source": [
        "df.dtypes"
      ],
      "execution_count": null,
      "outputs": [
        {
          "output_type": "execute_result",
          "data": {
            "text/plain": [
              "UserName               object\n",
              "Review                 object\n",
              "Score                 float64\n",
              "Date/Time              object\n",
              "thumbsUp              float64\n",
              "Version                object\n",
              "app                    object\n",
              "lan_review             object\n",
              "firstName              object\n",
              "Gender                 object\n",
              "ReviewLength          float64\n",
              "words_count           float64\n",
              "Polarity sentiment     object\n",
              "dtype: object"
            ]
          },
          "metadata": {
            "tags": []
          },
          "execution_count": 23
        }
      ]
    },
    {
      "cell_type": "code",
      "metadata": {
        "colab": {
          "base_uri": "https://localhost:8080/"
        },
        "id": "j0nhtrIM65HE",
        "outputId": "eeba9674-e812-4181-80c9-07395a23393c"
      },
      "source": [
        "#missing values\n",
        "df.isnull().sum()\n"
      ],
      "execution_count": null,
      "outputs": [
        {
          "output_type": "execute_result",
          "data": {
            "text/plain": [
              "UserName               1\n",
              "Review                14\n",
              "Score                 61\n",
              "Date/Time             35\n",
              "thumbsUp              59\n",
              "Version               56\n",
              "app                    0\n",
              "lan_review             0\n",
              "firstName              0\n",
              "Gender                 0\n",
              "ReviewLength          14\n",
              "words_count           14\n",
              "Polarity sentiment     0\n",
              "dtype: int64"
            ]
          },
          "metadata": {
            "tags": []
          },
          "execution_count": 5
        }
      ]
    },
    {
      "cell_type": "code",
      "metadata": {
        "colab": {
          "base_uri": "https://localhost:8080/"
        },
        "id": "B1ryx7-K7EY6",
        "outputId": "a6eaf83c-cb17-4091-fb53-22df83744573"
      },
      "source": [
        "df.isnull().sum().sum()"
      ],
      "execution_count": null,
      "outputs": [
        {
          "output_type": "execute_result",
          "data": {
            "text/plain": [
              "254"
            ]
          },
          "metadata": {
            "tags": []
          },
          "execution_count": 6
        }
      ]
    },
    {
      "cell_type": "code",
      "metadata": {
        "colab": {
          "base_uri": "https://localhost:8080/"
        },
        "id": "dTojONfL7KpG",
        "outputId": "a0de7fe1-7143-4448-9435-1e54cf554d5d"
      },
      "source": [
        "(254/51766)*100"
      ],
      "execution_count": null,
      "outputs": [
        {
          "output_type": "execute_result",
          "data": {
            "text/plain": [
              "0.49066955144303215"
            ]
          },
          "metadata": {
            "tags": []
          },
          "execution_count": 7
        }
      ]
    },
    {
      "cell_type": "code",
      "metadata": {
        "colab": {
          "base_uri": "https://localhost:8080/",
          "height": 428
        },
        "id": "KCVGv90i7Tnh",
        "outputId": "b506164a-c15e-49e1-8978-d5449d78ff46"
      },
      "source": [
        "import matplotlib.pyplot as plt\n",
        "\n",
        "# Pie chart, where the slices will be ordered and plotted counter-clockwise:\n",
        "labels = 'Missing Values', 'Dataset'\n",
        "sizes = [0.49066, 99.50934]\n",
        "\n",
        "fig = plt.figure(figsize =(10, 7))\n",
        "plt.pie(sizes, labels = labels)\n",
        "\n",
        "\n",
        "\n",
        "plt.show"
      ],
      "execution_count": null,
      "outputs": [
        {
          "output_type": "execute_result",
          "data": {
            "text/plain": [
              "<function matplotlib.pyplot.show>"
            ]
          },
          "metadata": {
            "tags": []
          },
          "execution_count": 8
        },
        {
          "output_type": "display_data",
          "data": {
            "image/png": "[encoded data removed]",
            "text/plain": [
              "<Figure size 720x504 with 1 Axes>"
            ]
          },
          "metadata": {
            "tags": []
          }
        }
      ]
    },
    {
      "cell_type": "code",
      "metadata": {
        "id": "NsIbJEd27XH8"
      },
      "source": [
        "#Handling missing values\n",
        "df['Review'].fillna('No review', inplace=True)"
      ],
      "execution_count": null,
      "outputs": []
    },
    {
      "cell_type": "code",
      "metadata": {
        "id": "tFKn9COm7pzB"
      },
      "source": [
        "df['UserName'].fillna('No name', inplace=True)"
      ],
      "execution_count": null,
      "outputs": []
    },
    {
      "cell_type": "code",
      "metadata": {
        "id": "HP3AtsTW7tT5"
      },
      "source": [
        "df['thumbsUp'].fillna(0, inplace=True)"
      ],
      "execution_count": null,
      "outputs": []
    },
    {
      "cell_type": "code",
      "metadata": {
        "id": "5NVNjZV-7vd8"
      },
      "source": [
        "median = df['Score'].median()\n",
        "df['Score'].fillna(median, inplace=True)"
      ],
      "execution_count": null,
      "outputs": []
    },
    {
      "cell_type": "code",
      "metadata": {
        "id": "HHkcSCoD7zFr"
      },
      "source": [
        "df['ReviewLength'].fillna(0, inplace=True)"
      ],
      "execution_count": null,
      "outputs": []
    },
    {
      "cell_type": "code",
      "metadata": {
        "id": "YZifwZHJ734I"
      },
      "source": [
        "df['words_count'].fillna(0, inplace=True)"
      ],
      "execution_count": null,
      "outputs": []
    },
    {
      "cell_type": "code",
      "metadata": {
        "id": "erWgNusk76wm"
      },
      "source": [
        "df['Date/Time'].fillna(method='ffill',inplace=True)"
      ],
      "execution_count": null,
      "outputs": []
    },
    {
      "cell_type": "code",
      "metadata": {
        "id": "lUltNx2q8CEu"
      },
      "source": [
        "df['Version'].fillna(method='ffill',inplace=True)"
      ],
      "execution_count": null,
      "outputs": []
    },
    {
      "cell_type": "code",
      "metadata": {
        "colab": {
          "base_uri": "https://localhost:8080/"
        },
        "id": "7JcNzGP-8E5J",
        "outputId": "a76cf25f-6cc2-4850-d2b2-5e893fc8e400"
      },
      "source": [
        "df.isnull().sum()"
      ],
      "execution_count": null,
      "outputs": [
        {
          "output_type": "execute_result",
          "data": {
            "text/plain": [
              "UserName              0\n",
              "Review                0\n",
              "Score                 0\n",
              "Date/Time             0\n",
              "thumbsUp              0\n",
              "Version               0\n",
              "app                   0\n",
              "lan_review            0\n",
              "firstName             0\n",
              "Gender                0\n",
              "ReviewLength          0\n",
              "words_count           0\n",
              "Polarity sentiment    0\n",
              "dtype: int64"
            ]
          },
          "metadata": {
            "tags": []
          },
          "execution_count": 17
        }
      ]
    },
    {
      "cell_type": "code",
      "metadata": {
        "id": "G9iY2cAV8LH9"
      },
      "source": [
        "df.to_csv('clean_dataset.csv',encoding='UTF-8-sig')"
      ],
      "execution_count": null,
      "outputs": []
    },
    {
      "cell_type": "code",
      "metadata": {
        "colab": {
          "base_uri": "https://localhost:8080/"
        },
        "id": "0rStPFaZ8OhG",
        "outputId": "854f84d4-7c57-44e2-beb2-d5f31e9de7a2"
      },
      "source": [
        "df['ReviewLength'].mean()"
      ],
      "execution_count": null,
      "outputs": [
        {
          "output_type": "execute_result",
          "data": {
            "text/plain": [
              "29.89925820036317"
            ]
          },
          "metadata": {
            "tags": []
          },
          "execution_count": 18
        }
      ]
    },
    {
      "cell_type": "code",
      "metadata": {
        "colab": {
          "base_uri": "https://localhost:8080/"
        },
        "id": "IKYsZ_5F8fUu",
        "outputId": "e3355f09-7cb4-4ee5-b720-8e8a3e18ea08"
      },
      "source": [
        "df['words_count'].mean()"
      ],
      "execution_count": null,
      "outputs": [
        {
          "output_type": "execute_result",
          "data": {
            "text/plain": [
              "5.186396476451725"
            ]
          },
          "metadata": {
            "tags": []
          },
          "execution_count": 19
        }
      ]
    },
    {
      "cell_type": "code",
      "metadata": {
        "colab": {
          "base_uri": "https://localhost:8080/"
        },
        "id": "MOC9PhUX9QYI",
        "outputId": "ad95e0bb-5044-498a-e2e5-e5cb3f7f02b9"
      },
      "source": [
        "Review_lengths = np.array(list(map(len, df.Review.str.split(' '))))\n",
        "\n",
        "print(\"The average number of words in a review is: {}.\".format(np.mean(Review_lengths)))\n",
        "print(\"The minimum number of words in a review is: {}.\".format(min(Review_lengths)))\n",
        "print(\"The maximum number of words in a review is: {}.\".format(max(Review_lengths)))"
      ],
      "execution_count": null,
      "outputs": [
        {
          "output_type": "stream",
          "text": [
            "The average number of words in a review is: 7.184831742842793.\n",
            "The minimum number of words in a review is: 1.\n",
            "The maximum number of words in a review is: 120.\n"
          ],
          "name": "stdout"
        }
      ]
    },
    {
      "cell_type": "code",
      "metadata": {
        "colab": {
          "base_uri": "https://localhost:8080/",
          "height": 462
        },
        "id": "eNV_OvAm9ZNZ",
        "outputId": "e4c5cd80-dd8e-45c2-b334-a397520b54f1"
      },
      "source": [
        "fig, ax = plt.subplots(figsize=(15,6))\n",
        "\n",
        "ax.set_title(\"Distribution of number of words\", fontsize=16)\n",
        "ax.set_xlabel(\"Number of words\")\n",
        "sns.distplot(Review_lengths, bins=50, ax=ax);"
      ],
      "execution_count": null,
      "outputs": [
        {
          "output_type": "stream",
          "text": [
            "/usr/local/lib/python3.7/dist-packages/seaborn/distributions.py:2557: FutureWarning: `distplot` is a deprecated function and will be removed in a future version. Please adapt your code to use either `displot` (a figure-level function with similar flexibility) or `histplot` (an axes-level function for histograms).\n",
            "  warnings.warn(msg, FutureWarning)\n"
          ],
          "name": "stderr"
        },
        {
          "output_type": "display_data",
          "data": {
            "image/png": "[encoded data removed]",
            "text/plain": [
              "<Figure size 1080x432 with 1 Axes>"
            ]
          },
          "metadata": {
            "tags": [],
            "needs_background": "light"
          }
        }
      ]
    },
    {
      "cell_type": "markdown",
      "metadata": {
        "id": "YAk669qo_SHv"
      },
      "source": [
        "# Phase4 : Data Preprocessing "
      ]
    },
    {
      "cell_type": "code",
      "metadata": {
        "id": "D1TDY1zXAsIA"
      },
      "source": [
        "df = pd.read_csv(\"/content/apps_ar_reviews_dataset.csv\", sep=',' )"
      ],
      "execution_count": null,
      "outputs": []
    },
    {
      "cell_type": "code",
      "metadata": {
        "id": "v3KDYG5fCcqn"
      },
      "source": [
        "df = pd.read_csv(\"/content/final_df.csv\", sep=';')"
      ],
      "execution_count": null,
      "outputs": []
    },
    {
      "cell_type": "code",
      "metadata": {
        "colab": {
          "base_uri": "https://localhost:8080/",
          "height": 156
        },
        "id": "72_BJ27gA4OU",
        "outputId": "d04ec320-d08f-4b69-fc0e-97087c29877c"
      },
      "source": [
        "df.head(2)"
      ],
      "execution_count": null,
      "outputs": [
        {
          "output_type": "execute_result",
          "data": {
            "text/html": [
              "<div>\n",
              "<style scoped>\n",
              "    .dataframe tbody tr th:only-of-type {\n",
              "        vertical-align: middle;\n",
              "    }\n",
              "\n",
              "    .dataframe tbody tr th {\n",
              "        vertical-align: top;\n",
              "    }\n",
              "\n",
              "    .dataframe thead th {\n",
              "        text-align: right;\n",
              "    }\n",
              "</style>\n",
              "<table border=\"1\" class=\"dataframe\">\n",
              "  <thead>\n",
              "    <tr style=\"text-align: right;\">\n",
              "      <th></th>\n",
              "      <th>Unnamed: 0</th>\n",
              "      <th>UserName</th>\n",
              "      <th>Review</th>\n",
              "      <th>Score</th>\n",
              "      <th>Date/Time</th>\n",
              "      <th>thumbsUp</th>\n",
              "      <th>Version</th>\n",
              "      <th>app</th>\n",
              "      <th>lan_review</th>\n",
              "      <th>firstName</th>\n",
              "      <th>Gender</th>\n",
              "      <th>ReviewLength</th>\n",
              "      <th>words_count</th>\n",
              "      <th>Polarity sentiment</th>\n",
              "    </tr>\n",
              "  </thead>\n",
              "  <tbody>\n",
              "    <tr>\n",
              "      <th>0</th>\n",
              "      <td>0</td>\n",
              "      <td>Yaser Co</td>\n",
              "      <td>الله يحفظ الملك سلمان وولي عهده الامير محمد و...</td>\n",
              "      <td>5.0</td>\n",
              "      <td>2021-01-31 16:01:09</td>\n",
              "      <td>0.0</td>\n",
              "      <td>1.7</td>\n",
              "      <td>tetaman</td>\n",
              "      <td>Arabic</td>\n",
              "      <td>Yaser</td>\n",
              "      <td>Male</td>\n",
              "      <td>109.0</td>\n",
              "      <td>16.0</td>\n",
              "      <td>positive</td>\n",
              "    </tr>\n",
              "    <tr>\n",
              "      <th>1</th>\n",
              "      <td>1</td>\n",
              "      <td>ابراهيم هزام</td>\n",
              "      <td>👍</td>\n",
              "      <td>5.0</td>\n",
              "      <td>2021-01-30 06:34:13</td>\n",
              "      <td>0.0</td>\n",
              "      <td>1.7</td>\n",
              "      <td>tetaman</td>\n",
              "      <td>Non-Arabic</td>\n",
              "      <td>ابراهيم</td>\n",
              "      <td>Male</td>\n",
              "      <td>3.0</td>\n",
              "      <td>1.0</td>\n",
              "      <td>positive</td>\n",
              "    </tr>\n",
              "  </tbody>\n",
              "</table>\n",
              "</div>"
            ],
            "text/plain": [
              "   Unnamed: 0       UserName  ... words_count  Polarity sentiment\n",
              "0           0      Yaser Co   ...        16.0            positive\n",
              "1           1  ابراهيم هزام   ...         1.0            positive\n",
              "\n",
              "[2 rows x 14 columns]"
            ]
          },
          "metadata": {
            "tags": []
          },
          "execution_count": 25
        }
      ]
    },
    {
      "cell_type": "code",
      "metadata": {
        "id": "Aek5bLazBGtl"
      },
      "source": [
        "plt.style.use('ggplot')\n",
        "sns.set(font_scale=1.5)\n",
        "%config InlineBackend.figure_format = 'retina'\n",
        "%matplotlib inline\n",
        "\n",
        "import warnings\n",
        "warnings.filterwarnings('ignore')\n",
        "import os, pickle, re, string\n",
        "from string import punctuation\n",
        "from nltk.corpus import stopwords"
      ],
      "execution_count": null,
      "outputs": []
    },
    {
      "cell_type": "code",
      "metadata": {
        "id": "jEalZ7UKA-MR"
      },
      "source": [
        "#Preprocessing on [Review] column\n",
        "#•\tRemoved emojis from review \n",
        "df['Review'] = df['Review'].str.replace('[^\\w\\s#@/:%.,_-]', '', flags=re.UNICODE)"
      ],
      "execution_count": null,
      "outputs": []
    },
    {
      "cell_type": "code",
      "metadata": {
        "colab": {
          "base_uri": "https://localhost:8080/",
          "height": 399
        },
        "id": "vkK5gej5BJOd",
        "outputId": "c06e85d4-d1a4-410a-ed2c-25738373744b"
      },
      "source": [
        "#•\tRemoved reviews with one- or two-word counts\n",
        "# if there is one/two word count review remove the rows \n",
        "df.loc[df['words_count'] == 1.0]"
      ],
      "execution_count": null,
      "outputs": [
        {
          "output_type": "execute_result",
          "data": {
            "text/html": [
              "<div>\n",
              "<style scoped>\n",
              "    .dataframe tbody tr th:only-of-type {\n",
              "        vertical-align: middle;\n",
              "    }\n",
              "\n",
              "    .dataframe tbody tr th {\n",
              "        vertical-align: top;\n",
              "    }\n",
              "\n",
              "    .dataframe thead th {\n",
              "        text-align: right;\n",
              "    }\n",
              "</style>\n",
              "<table border=\"1\" class=\"dataframe\">\n",
              "  <thead>\n",
              "    <tr style=\"text-align: right;\">\n",
              "      <th></th>\n",
              "      <th>UserName</th>\n",
              "      <th>Review</th>\n",
              "      <th>Score</th>\n",
              "      <th>Date/Time</th>\n",
              "      <th>thumbsUp</th>\n",
              "      <th>Version</th>\n",
              "      <th>app</th>\n",
              "      <th>lan_review</th>\n",
              "      <th>firstName</th>\n",
              "      <th>Gender</th>\n",
              "      <th>ReviewLength</th>\n",
              "      <th>words_count</th>\n",
              "      <th>Polarity sentiment</th>\n",
              "    </tr>\n",
              "  </thead>\n",
              "  <tbody>\n",
              "    <tr>\n",
              "      <th>1</th>\n",
              "      <td>ابراهيم هزام</td>\n",
              "      <td></td>\n",
              "      <td>5.0</td>\n",
              "      <td>2021-01-30 06:34:13</td>\n",
              "      <td>0.0</td>\n",
              "      <td>1.7</td>\n",
              "      <td>tetaman</td>\n",
              "      <td>Non-Arabic</td>\n",
              "      <td>ابراهيم</td>\n",
              "      <td>Male</td>\n",
              "      <td>3.0</td>\n",
              "      <td>1.0</td>\n",
              "      <td>positive</td>\n",
              "    </tr>\n",
              "    <tr>\n",
              "      <th>5</th>\n",
              "      <td>ماجد غازي</td>\n",
              "      <td>زينه</td>\n",
              "      <td>5.0</td>\n",
              "      <td>2021-01-22 12:42:00</td>\n",
              "      <td>0.0</td>\n",
              "      <td>1.7</td>\n",
              "      <td>tetaman</td>\n",
              "      <td>Non-Arabic</td>\n",
              "      <td>ماجد</td>\n",
              "      <td>Male</td>\n",
              "      <td>6.0</td>\n",
              "      <td>1.0</td>\n",
              "      <td>negative</td>\n",
              "    </tr>\n",
              "    <tr>\n",
              "      <th>11</th>\n",
              "      <td>Gg B</td>\n",
              "      <td>ممتلز</td>\n",
              "      <td>5.0</td>\n",
              "      <td>2021-01-20 13:00:41</td>\n",
              "      <td>0.0</td>\n",
              "      <td>None</td>\n",
              "      <td>tetaman</td>\n",
              "      <td>Arabic</td>\n",
              "      <td>Gg</td>\n",
              "      <td>Not_found</td>\n",
              "      <td>7.0</td>\n",
              "      <td>1.0</td>\n",
              "      <td>negative</td>\n",
              "    </tr>\n",
              "    <tr>\n",
              "      <th>12</th>\n",
              "      <td>zezoo zezoo</td>\n",
              "      <td>جيد</td>\n",
              "      <td>5.0</td>\n",
              "      <td>2021-01-13 01:30:29</td>\n",
              "      <td>0.0</td>\n",
              "      <td>None</td>\n",
              "      <td>tetaman</td>\n",
              "      <td>Arabic</td>\n",
              "      <td>zezoo</td>\n",
              "      <td>Not_found</td>\n",
              "      <td>5.0</td>\n",
              "      <td>1.0</td>\n",
              "      <td>positive</td>\n",
              "    </tr>\n",
              "    <tr>\n",
              "      <th>13</th>\n",
              "      <td>tyastoo 22</td>\n",
              "      <td>جيد</td>\n",
              "      <td>5.0</td>\n",
              "      <td>2021-01-12 14:10:49</td>\n",
              "      <td>0.0</td>\n",
              "      <td>None</td>\n",
              "      <td>tetaman</td>\n",
              "      <td>Arabic</td>\n",
              "      <td>tyastoo</td>\n",
              "      <td>Not_found</td>\n",
              "      <td>5.0</td>\n",
              "      <td>1.0</td>\n",
              "      <td>positive</td>\n",
              "    </tr>\n",
              "    <tr>\n",
              "      <th>...</th>\n",
              "      <td>...</td>\n",
              "      <td>...</td>\n",
              "      <td>...</td>\n",
              "      <td>...</td>\n",
              "      <td>...</td>\n",
              "      <td>...</td>\n",
              "      <td>...</td>\n",
              "      <td>...</td>\n",
              "      <td>...</td>\n",
              "      <td>...</td>\n",
              "      <td>...</td>\n",
              "      <td>...</td>\n",
              "      <td>...</td>\n",
              "    </tr>\n",
              "    <tr>\n",
              "      <th>51748</th>\n",
              "      <td>عبدالله الأسمري</td>\n",
              "      <td>ممتاز</td>\n",
              "      <td>5.0</td>\n",
              "      <td>2019-09-25 12:49:11</td>\n",
              "      <td>2.0</td>\n",
              "      <td>1</td>\n",
              "      <td>sehhaty</td>\n",
              "      <td>Non-Arabic</td>\n",
              "      <td>عبدالله</td>\n",
              "      <td>Male</td>\n",
              "      <td>7.0</td>\n",
              "      <td>1.0</td>\n",
              "      <td>positive</td>\n",
              "    </tr>\n",
              "    <tr>\n",
              "      <th>51750</th>\n",
              "      <td>خالد عقيل</td>\n",
              "      <td>ممتاز</td>\n",
              "      <td>5.0</td>\n",
              "      <td>2019-09-24 18:03:41</td>\n",
              "      <td>1.0</td>\n",
              "      <td>1</td>\n",
              "      <td>sehhaty</td>\n",
              "      <td>Non-Arabic</td>\n",
              "      <td>خالد</td>\n",
              "      <td>Male</td>\n",
              "      <td>7.0</td>\n",
              "      <td>1.0</td>\n",
              "      <td>positive</td>\n",
              "    </tr>\n",
              "    <tr>\n",
              "      <th>51754</th>\n",
              "      <td>عبدالله عتودي</td>\n",
              "      <td>ممتاز</td>\n",
              "      <td>5.0</td>\n",
              "      <td>2019-09-23 19:49:51</td>\n",
              "      <td>1.0</td>\n",
              "      <td>1</td>\n",
              "      <td>sehhaty</td>\n",
              "      <td>Non-Arabic</td>\n",
              "      <td>عبدالله</td>\n",
              "      <td>Male</td>\n",
              "      <td>7.0</td>\n",
              "      <td>1.0</td>\n",
              "      <td>positive</td>\n",
              "    </tr>\n",
              "    <tr>\n",
              "      <th>51755</th>\n",
              "      <td>خوالي تاج راسي</td>\n",
              "      <td>Ok</td>\n",
              "      <td>5.0</td>\n",
              "      <td>2019-09-23 18:50:00</td>\n",
              "      <td>0.0</td>\n",
              "      <td>1</td>\n",
              "      <td>sehhaty</td>\n",
              "      <td>Non-Arabic</td>\n",
              "      <td>خوالي</td>\n",
              "      <td>Male</td>\n",
              "      <td>4.0</td>\n",
              "      <td>1.0</td>\n",
              "      <td>negative</td>\n",
              "    </tr>\n",
              "    <tr>\n",
              "      <th>51762</th>\n",
              "      <td>محمد علي</td>\n",
              "      <td>ممتازة</td>\n",
              "      <td>5.0</td>\n",
              "      <td>2019-09-19 18:47:00</td>\n",
              "      <td>1.0</td>\n",
              "      <td>1</td>\n",
              "      <td>sehhaty</td>\n",
              "      <td>Arabic</td>\n",
              "      <td>محمد</td>\n",
              "      <td>Male</td>\n",
              "      <td>8.0</td>\n",
              "      <td>1.0</td>\n",
              "      <td>positive</td>\n",
              "    </tr>\n",
              "  </tbody>\n",
              "</table>\n",
              "<p>21117 rows × 13 columns</p>\n",
              "</div>"
            ],
            "text/plain": [
              "               UserName    Review  ...  words_count Polarity sentiment\n",
              "1         ابراهيم هزام             ...          1.0           positive\n",
              "5            ماجد غازي      زينه   ...          1.0           negative\n",
              "11                Gg B     ممتلز   ...          1.0           negative\n",
              "12         zezoo zezoo       جيد   ...          1.0           positive\n",
              "13          tyastoo 22       جيد   ...          1.0           positive\n",
              "...                 ...       ...  ...          ...                ...\n",
              "51748  عبدالله الأسمري     ممتاز   ...          1.0           positive\n",
              "51750        خالد عقيل     ممتاز   ...          1.0           positive\n",
              "51754    عبدالله عتودي     ممتاز   ...          1.0           positive\n",
              "51755   خوالي تاج راسي        Ok   ...          1.0           negative\n",
              "51762         محمد علي    ممتازة   ...          1.0           positive\n",
              "\n",
              "[21117 rows x 13 columns]"
            ]
          },
          "metadata": {
            "tags": []
          },
          "execution_count": 48
        }
      ]
    },
    {
      "cell_type": "code",
      "metadata": {
        "colab": {
          "base_uri": "https://localhost:8080/",
          "height": 585
        },
        "id": "4gRkEtiLBU-a",
        "outputId": "8259534d-a613-4e45-b800-6320a8e4759b"
      },
      "source": [
        "df=df[df.words_count != 1.0]\n",
        "df"
      ],
      "execution_count": null,
      "outputs": [
        {
          "output_type": "execute_result",
          "data": {
            "text/html": [
              "<div>\n",
              "<style scoped>\n",
              "    .dataframe tbody tr th:only-of-type {\n",
              "        vertical-align: middle;\n",
              "    }\n",
              "\n",
              "    .dataframe tbody tr th {\n",
              "        vertical-align: top;\n",
              "    }\n",
              "\n",
              "    .dataframe thead th {\n",
              "        text-align: right;\n",
              "    }\n",
              "</style>\n",
              "<table border=\"1\" class=\"dataframe\">\n",
              "  <thead>\n",
              "    <tr style=\"text-align: right;\">\n",
              "      <th></th>\n",
              "      <th>UserName</th>\n",
              "      <th>Review</th>\n",
              "      <th>Score</th>\n",
              "      <th>Date/Time</th>\n",
              "      <th>thumbsUp</th>\n",
              "      <th>Version</th>\n",
              "      <th>app</th>\n",
              "      <th>lan_review</th>\n",
              "      <th>firstName</th>\n",
              "      <th>Gender</th>\n",
              "      <th>ReviewLength</th>\n",
              "      <th>words_count</th>\n",
              "      <th>Polarity sentiment</th>\n",
              "    </tr>\n",
              "  </thead>\n",
              "  <tbody>\n",
              "    <tr>\n",
              "      <th>0</th>\n",
              "      <td>Yaser Co</td>\n",
              "      <td>الله يحفظ الملك سلمان وولي عهده الامير محمد و...</td>\n",
              "      <td>5.0</td>\n",
              "      <td>2021-01-31 16:01:09</td>\n",
              "      <td>0.0</td>\n",
              "      <td>1.7</td>\n",
              "      <td>tetaman</td>\n",
              "      <td>Arabic</td>\n",
              "      <td>Yaser</td>\n",
              "      <td>Male</td>\n",
              "      <td>109.0</td>\n",
              "      <td>16.0</td>\n",
              "      <td>positive</td>\n",
              "    </tr>\n",
              "    <tr>\n",
              "      <th>2</th>\n",
              "      <td>نواف الحربي</td>\n",
              "      <td>تحميلك للتطبيق حتى لو بالخطأ يدخلك في عزل لمد...</td>\n",
              "      <td>1.0</td>\n",
              "      <td>2021-01-27 08:41:10</td>\n",
              "      <td>1.0</td>\n",
              "      <td>1.7</td>\n",
              "      <td>tetaman</td>\n",
              "      <td>Arabic</td>\n",
              "      <td>نواف</td>\n",
              "      <td>Male</td>\n",
              "      <td>164.0</td>\n",
              "      <td>31.0</td>\n",
              "      <td>neutral</td>\n",
              "    </tr>\n",
              "    <tr>\n",
              "      <th>3</th>\n",
              "      <td>ahmed ghazala</td>\n",
              "      <td>لا يعمل ولا يستجيب في مرحلة التسجيل لايتم ارس...</td>\n",
              "      <td>1.0</td>\n",
              "      <td>2021-01-23 21:49:16</td>\n",
              "      <td>0.0</td>\n",
              "      <td>1.7</td>\n",
              "      <td>tetaman</td>\n",
              "      <td>Arabic</td>\n",
              "      <td>ahmed</td>\n",
              "      <td>Male</td>\n",
              "      <td>55.0</td>\n",
              "      <td>10.0</td>\n",
              "      <td>neutral</td>\n",
              "    </tr>\n",
              "    <tr>\n",
              "      <th>4</th>\n",
              "      <td>ELSyed Attia</td>\n",
              "      <td>للأسف تطبيق سيئ جدا بقالي يومين بحاول اسجل ول...</td>\n",
              "      <td>1.0</td>\n",
              "      <td>2021-01-23 00:51:06</td>\n",
              "      <td>1.0</td>\n",
              "      <td>1.7</td>\n",
              "      <td>tetaman</td>\n",
              "      <td>Arabic</td>\n",
              "      <td>ELSyed</td>\n",
              "      <td>Male</td>\n",
              "      <td>67.0</td>\n",
              "      <td>12.0</td>\n",
              "      <td>negative</td>\n",
              "    </tr>\n",
              "    <tr>\n",
              "      <th>6</th>\n",
              "      <td>انور القدسي</td>\n",
              "      <td>ما قدرت اسجل في التطبيق  اوصل ل آخر خطوه وهي ...</td>\n",
              "      <td>1.0</td>\n",
              "      <td>2021-01-21 23:55:30</td>\n",
              "      <td>0.0</td>\n",
              "      <td>None</td>\n",
              "      <td>tetaman</td>\n",
              "      <td>Arabic</td>\n",
              "      <td>انور</td>\n",
              "      <td>Male</td>\n",
              "      <td>89.0</td>\n",
              "      <td>19.0</td>\n",
              "      <td>neutral</td>\n",
              "    </tr>\n",
              "    <tr>\n",
              "      <th>...</th>\n",
              "      <td>...</td>\n",
              "      <td>...</td>\n",
              "      <td>...</td>\n",
              "      <td>...</td>\n",
              "      <td>...</td>\n",
              "      <td>...</td>\n",
              "      <td>...</td>\n",
              "      <td>...</td>\n",
              "      <td>...</td>\n",
              "      <td>...</td>\n",
              "      <td>...</td>\n",
              "      <td>...</td>\n",
              "      <td>...</td>\n",
              "    </tr>\n",
              "    <tr>\n",
              "      <th>51760</th>\n",
              "      <td>Salah Najdi</td>\n",
              "      <td>لم استطع تسجيل جديد ورطونا بالاجازات المرضيه ...</td>\n",
              "      <td>1.0</td>\n",
              "      <td>2019-09-21 15:37:06</td>\n",
              "      <td>13.0</td>\n",
              "      <td>1</td>\n",
              "      <td>sehhaty</td>\n",
              "      <td>Arabic</td>\n",
              "      <td>Salah</td>\n",
              "      <td>Male</td>\n",
              "      <td>88.0</td>\n",
              "      <td>14.0</td>\n",
              "      <td>negative</td>\n",
              "    </tr>\n",
              "    <tr>\n",
              "      <th>51761</th>\n",
              "      <td>Hussein Ali</td>\n",
              "      <td>التطبيق مهم ياريت تربطون الدخول له بنفس بيانا...</td>\n",
              "      <td>2.0</td>\n",
              "      <td>2019-09-20 05:32:58</td>\n",
              "      <td>67.0</td>\n",
              "      <td>1</td>\n",
              "      <td>sehhaty</td>\n",
              "      <td>Arabic</td>\n",
              "      <td>Hussein</td>\n",
              "      <td>Male</td>\n",
              "      <td>103.0</td>\n",
              "      <td>17.0</td>\n",
              "      <td>neutral</td>\n",
              "    </tr>\n",
              "    <tr>\n",
              "      <th>51763</th>\n",
              "      <td>محمد الشريف</td>\n",
              "      <td>تجربة سيئة وتطبيق غبي لم أستطيع عمل التسجيل ا...</td>\n",
              "      <td>1.0</td>\n",
              "      <td>2019-09-19 16:39:09</td>\n",
              "      <td>14.0</td>\n",
              "      <td>1</td>\n",
              "      <td>sehhaty</td>\n",
              "      <td>Arabic</td>\n",
              "      <td>محمد</td>\n",
              "      <td>Male</td>\n",
              "      <td>52.0</td>\n",
              "      <td>9.0</td>\n",
              "      <td>negative</td>\n",
              "    </tr>\n",
              "    <tr>\n",
              "      <th>51764</th>\n",
              "      <td>Ali Aziz</td>\n",
              "      <td>فيه مشاكل لا استطيع اختيار المركز ابي اطلع ال...</td>\n",
              "      <td>2.0</td>\n",
              "      <td>2019-09-19 16:21:43</td>\n",
              "      <td>7.0</td>\n",
              "      <td>1</td>\n",
              "      <td>sehhaty</td>\n",
              "      <td>Arabic</td>\n",
              "      <td>Ali</td>\n",
              "      <td>Male</td>\n",
              "      <td>79.0</td>\n",
              "      <td>14.0</td>\n",
              "      <td>negative</td>\n",
              "    </tr>\n",
              "    <tr>\n",
              "      <th>51765</th>\n",
              "      <td>yh ha</td>\n",
              "      <td>تطبيق فاشل ليست كل المدن موجوده والا الأحياء ...</td>\n",
              "      <td>1.0</td>\n",
              "      <td>2019-09-19 00:37:20</td>\n",
              "      <td>4.0</td>\n",
              "      <td>1</td>\n",
              "      <td>sehhaty</td>\n",
              "      <td>Arabic</td>\n",
              "      <td>yh</td>\n",
              "      <td>Not_found</td>\n",
              "      <td>52.0</td>\n",
              "      <td>9.0</td>\n",
              "      <td>negative</td>\n",
              "    </tr>\n",
              "  </tbody>\n",
              "</table>\n",
              "<p>30649 rows × 13 columns</p>\n",
              "</div>"
            ],
            "text/plain": [
              "             UserName  ... Polarity sentiment\n",
              "0           Yaser Co   ...           positive\n",
              "2        نواف الحربي   ...            neutral\n",
              "3      ahmed ghazala   ...            neutral\n",
              "4       ELSyed Attia   ...           negative\n",
              "6        انور القدسي   ...            neutral\n",
              "...               ...  ...                ...\n",
              "51760    Salah Najdi   ...           negative\n",
              "51761    Hussein Ali   ...            neutral\n",
              "51763    محمد الشريف   ...           negative\n",
              "51764       Ali Aziz   ...           negative\n",
              "51765          yh ha   ...           negative\n",
              "\n",
              "[30649 rows x 13 columns]"
            ]
          },
          "metadata": {
            "tags": []
          },
          "execution_count": 49
        }
      ]
    },
    {
      "cell_type": "code",
      "metadata": {
        "colab": {
          "base_uri": "https://localhost:8080/",
          "height": 585
        },
        "id": "f6A4JI_KBw5R",
        "outputId": "02922c3c-6ccc-44b9-e70c-e75de3c6c7f1"
      },
      "source": [
        "df.loc[df['words_count'] == 2.0]\n"
      ],
      "execution_count": null,
      "outputs": [
        {
          "output_type": "execute_result",
          "data": {
            "text/html": [
              "<div>\n",
              "<style scoped>\n",
              "    .dataframe tbody tr th:only-of-type {\n",
              "        vertical-align: middle;\n",
              "    }\n",
              "\n",
              "    .dataframe tbody tr th {\n",
              "        vertical-align: top;\n",
              "    }\n",
              "\n",
              "    .dataframe thead th {\n",
              "        text-align: right;\n",
              "    }\n",
              "</style>\n",
              "<table border=\"1\" class=\"dataframe\">\n",
              "  <thead>\n",
              "    <tr style=\"text-align: right;\">\n",
              "      <th></th>\n",
              "      <th>UserName</th>\n",
              "      <th>Review</th>\n",
              "      <th>Score</th>\n",
              "      <th>Date/Time</th>\n",
              "      <th>thumbsUp</th>\n",
              "      <th>Version</th>\n",
              "      <th>app</th>\n",
              "      <th>lan_review</th>\n",
              "      <th>firstName</th>\n",
              "      <th>Gender</th>\n",
              "      <th>ReviewLength</th>\n",
              "      <th>words_count</th>\n",
              "      <th>Polarity sentiment</th>\n",
              "    </tr>\n",
              "  </thead>\n",
              "  <tbody>\n",
              "    <tr>\n",
              "      <th>10</th>\n",
              "      <td>Anon ymous</td>\n",
              "      <td>لا يعمل</td>\n",
              "      <td>1.0</td>\n",
              "      <td>2021-01-20 22:39:57</td>\n",
              "      <td>0.0</td>\n",
              "      <td>1.7</td>\n",
              "      <td>tetaman</td>\n",
              "      <td>Arabic</td>\n",
              "      <td>Anon</td>\n",
              "      <td>Not_found</td>\n",
              "      <td>9.0</td>\n",
              "      <td>2.0</td>\n",
              "      <td>negative</td>\n",
              "    </tr>\n",
              "    <tr>\n",
              "      <th>18</th>\n",
              "      <td>MOHAMED TAHER</td>\n",
              "      <td>جيد جدا</td>\n",
              "      <td>5.0</td>\n",
              "      <td>2021-01-05 10:28:03</td>\n",
              "      <td>0.0</td>\n",
              "      <td>None</td>\n",
              "      <td>tetaman</td>\n",
              "      <td>Non-Arabic</td>\n",
              "      <td>MOHAMED</td>\n",
              "      <td>Male</td>\n",
              "      <td>9.0</td>\n",
              "      <td>2.0</td>\n",
              "      <td>positive</td>\n",
              "    </tr>\n",
              "    <tr>\n",
              "      <th>24</th>\n",
              "      <td>سعد المطيري</td>\n",
              "      <td>جيد جدا</td>\n",
              "      <td>5.0</td>\n",
              "      <td>2020-12-21 00:11:52</td>\n",
              "      <td>0.0</td>\n",
              "      <td>None</td>\n",
              "      <td>tetaman</td>\n",
              "      <td>Non-Arabic</td>\n",
              "      <td>سعد</td>\n",
              "      <td>Male</td>\n",
              "      <td>9.0</td>\n",
              "      <td>2.0</td>\n",
              "      <td>positive</td>\n",
              "    </tr>\n",
              "    <tr>\n",
              "      <th>27</th>\n",
              "      <td>Yousif mobark Yousif</td>\n",
              "      <td>تحت التجربة</td>\n",
              "      <td>5.0</td>\n",
              "      <td>2020-12-19 02:31:21</td>\n",
              "      <td>0.0</td>\n",
              "      <td>None</td>\n",
              "      <td>tetaman</td>\n",
              "      <td>Arabic</td>\n",
              "      <td>Yousif</td>\n",
              "      <td>Male</td>\n",
              "      <td>13.0</td>\n",
              "      <td>2.0</td>\n",
              "      <td>negative</td>\n",
              "    </tr>\n",
              "    <tr>\n",
              "      <th>28</th>\n",
              "      <td>ابو العلا</td>\n",
              "      <td>مارضى يتحمل</td>\n",
              "      <td>5.0</td>\n",
              "      <td>2020-12-19 00:59:14</td>\n",
              "      <td>0.0</td>\n",
              "      <td>None</td>\n",
              "      <td>tetaman</td>\n",
              "      <td>Arabic</td>\n",
              "      <td>ابو</td>\n",
              "      <td>Male</td>\n",
              "      <td>13.0</td>\n",
              "      <td>2.0</td>\n",
              "      <td>negative</td>\n",
              "    </tr>\n",
              "    <tr>\n",
              "      <th>...</th>\n",
              "      <td>...</td>\n",
              "      <td>...</td>\n",
              "      <td>...</td>\n",
              "      <td>...</td>\n",
              "      <td>...</td>\n",
              "      <td>...</td>\n",
              "      <td>...</td>\n",
              "      <td>...</td>\n",
              "      <td>...</td>\n",
              "      <td>...</td>\n",
              "      <td>...</td>\n",
              "      <td>...</td>\n",
              "      <td>...</td>\n",
              "    </tr>\n",
              "    <tr>\n",
              "      <th>51693</th>\n",
              "      <td>Sara Aljafar</td>\n",
              "      <td>مااستفدت منه</td>\n",
              "      <td>1.0</td>\n",
              "      <td>2019-10-15 16:14:47</td>\n",
              "      <td>0.0</td>\n",
              "      <td>1</td>\n",
              "      <td>sehhaty</td>\n",
              "      <td>Non-Arabic</td>\n",
              "      <td>Sara</td>\n",
              "      <td>Female</td>\n",
              "      <td>14.0</td>\n",
              "      <td>2.0</td>\n",
              "      <td>negative</td>\n",
              "    </tr>\n",
              "    <tr>\n",
              "      <th>51698</th>\n",
              "      <td>حسين المشهوري</td>\n",
              "      <td>سي للغايه</td>\n",
              "      <td>1.0</td>\n",
              "      <td>2019-10-14 10:26:30</td>\n",
              "      <td>0.0</td>\n",
              "      <td>1</td>\n",
              "      <td>sehhaty</td>\n",
              "      <td>Arabic</td>\n",
              "      <td>حسين</td>\n",
              "      <td>Male</td>\n",
              "      <td>11.0</td>\n",
              "      <td>2.0</td>\n",
              "      <td>positive</td>\n",
              "    </tr>\n",
              "    <tr>\n",
              "      <th>51703</th>\n",
              "      <td>Tariq Mohammad</td>\n",
              "      <td>لا بأس</td>\n",
              "      <td>3.0</td>\n",
              "      <td>2019-10-09 12:47:46</td>\n",
              "      <td>0.0</td>\n",
              "      <td>1</td>\n",
              "      <td>sehhaty</td>\n",
              "      <td>Arabic</td>\n",
              "      <td>Tariq</td>\n",
              "      <td>Male</td>\n",
              "      <td>8.0</td>\n",
              "      <td>2.0</td>\n",
              "      <td>negative</td>\n",
              "    </tr>\n",
              "    <tr>\n",
              "      <th>51723</th>\n",
              "      <td>HASSAN Ali</td>\n",
              "      <td>سيىء جدا</td>\n",
              "      <td>1.0</td>\n",
              "      <td>2019-10-01 20:47:05</td>\n",
              "      <td>0.0</td>\n",
              "      <td>1</td>\n",
              "      <td>sehhaty</td>\n",
              "      <td>Non-Arabic</td>\n",
              "      <td>HASSAN</td>\n",
              "      <td>Male</td>\n",
              "      <td>10.0</td>\n",
              "      <td>2.0</td>\n",
              "      <td>negative</td>\n",
              "    </tr>\n",
              "    <tr>\n",
              "      <th>51757</th>\n",
              "      <td>Bssom 88</td>\n",
              "      <td>مايفتح ابدا</td>\n",
              "      <td>1.0</td>\n",
              "      <td>2019-09-23 02:59:22</td>\n",
              "      <td>2.0</td>\n",
              "      <td>1</td>\n",
              "      <td>sehhaty</td>\n",
              "      <td>Arabic</td>\n",
              "      <td>Bssom</td>\n",
              "      <td>Not_found</td>\n",
              "      <td>13.0</td>\n",
              "      <td>2.0</td>\n",
              "      <td>negative</td>\n",
              "    </tr>\n",
              "  </tbody>\n",
              "</table>\n",
              "<p>8382 rows × 13 columns</p>\n",
              "</div>"
            ],
            "text/plain": [
              "                    UserName          Review  ...  words_count Polarity sentiment\n",
              "10               Anon ymous         لا يعمل   ...          2.0           negative\n",
              "18            MOHAMED TAHER         جيد جدا   ...          2.0           positive\n",
              "24              سعد المطيري         جيد جدا   ...          2.0           positive\n",
              "27     Yousif mobark Yousif     تحت التجربة   ...          2.0           negative\n",
              "28                ابو العلا     مارضى يتحمل   ...          2.0           negative\n",
              "...                      ...             ...  ...          ...                ...\n",
              "51693          Sara Aljafar    مااستفدت منه   ...          2.0           negative\n",
              "51698         حسين المشهوري       سي للغايه   ...          2.0           positive\n",
              "51703        Tariq Mohammad          لا بأس   ...          2.0           negative\n",
              "51723            HASSAN Ali        سيىء جدا   ...          2.0           negative\n",
              "51757              Bssom 88     مايفتح ابدا   ...          2.0           negative\n",
              "\n",
              "[8382 rows x 13 columns]"
            ]
          },
          "metadata": {
            "tags": []
          },
          "execution_count": 50
        }
      ]
    },
    {
      "cell_type": "code",
      "metadata": {
        "colab": {
          "base_uri": "https://localhost:8080/",
          "height": 585
        },
        "id": "yH5By0GHB17Q",
        "outputId": "cc1d45a6-ec4e-48d6-e3ac-7b80ba034896"
      },
      "source": [
        "df=df[df.words_count != 2.0]\n",
        "df"
      ],
      "execution_count": null,
      "outputs": [
        {
          "output_type": "execute_result",
          "data": {
            "text/html": [
              "<div>\n",
              "<style scoped>\n",
              "    .dataframe tbody tr th:only-of-type {\n",
              "        vertical-align: middle;\n",
              "    }\n",
              "\n",
              "    .dataframe tbody tr th {\n",
              "        vertical-align: top;\n",
              "    }\n",
              "\n",
              "    .dataframe thead th {\n",
              "        text-align: right;\n",
              "    }\n",
              "</style>\n",
              "<table border=\"1\" class=\"dataframe\">\n",
              "  <thead>\n",
              "    <tr style=\"text-align: right;\">\n",
              "      <th></th>\n",
              "      <th>UserName</th>\n",
              "      <th>Review</th>\n",
              "      <th>Score</th>\n",
              "      <th>Date/Time</th>\n",
              "      <th>thumbsUp</th>\n",
              "      <th>Version</th>\n",
              "      <th>app</th>\n",
              "      <th>lan_review</th>\n",
              "      <th>firstName</th>\n",
              "      <th>Gender</th>\n",
              "      <th>ReviewLength</th>\n",
              "      <th>words_count</th>\n",
              "      <th>Polarity sentiment</th>\n",
              "    </tr>\n",
              "  </thead>\n",
              "  <tbody>\n",
              "    <tr>\n",
              "      <th>0</th>\n",
              "      <td>Yaser Co</td>\n",
              "      <td>الله يحفظ الملك سلمان وولي عهده الامير محمد و...</td>\n",
              "      <td>5.0</td>\n",
              "      <td>2021-01-31 16:01:09</td>\n",
              "      <td>0.0</td>\n",
              "      <td>1.7</td>\n",
              "      <td>tetaman</td>\n",
              "      <td>Arabic</td>\n",
              "      <td>Yaser</td>\n",
              "      <td>Male</td>\n",
              "      <td>109.0</td>\n",
              "      <td>16.0</td>\n",
              "      <td>positive</td>\n",
              "    </tr>\n",
              "    <tr>\n",
              "      <th>2</th>\n",
              "      <td>نواف الحربي</td>\n",
              "      <td>تحميلك للتطبيق حتى لو بالخطأ يدخلك في عزل لمد...</td>\n",
              "      <td>1.0</td>\n",
              "      <td>2021-01-27 08:41:10</td>\n",
              "      <td>1.0</td>\n",
              "      <td>1.7</td>\n",
              "      <td>tetaman</td>\n",
              "      <td>Arabic</td>\n",
              "      <td>نواف</td>\n",
              "      <td>Male</td>\n",
              "      <td>164.0</td>\n",
              "      <td>31.0</td>\n",
              "      <td>neutral</td>\n",
              "    </tr>\n",
              "    <tr>\n",
              "      <th>3</th>\n",
              "      <td>ahmed ghazala</td>\n",
              "      <td>لا يعمل ولا يستجيب في مرحلة التسجيل لايتم ارس...</td>\n",
              "      <td>1.0</td>\n",
              "      <td>2021-01-23 21:49:16</td>\n",
              "      <td>0.0</td>\n",
              "      <td>1.7</td>\n",
              "      <td>tetaman</td>\n",
              "      <td>Arabic</td>\n",
              "      <td>ahmed</td>\n",
              "      <td>Male</td>\n",
              "      <td>55.0</td>\n",
              "      <td>10.0</td>\n",
              "      <td>neutral</td>\n",
              "    </tr>\n",
              "    <tr>\n",
              "      <th>4</th>\n",
              "      <td>ELSyed Attia</td>\n",
              "      <td>للأسف تطبيق سيئ جدا بقالي يومين بحاول اسجل ول...</td>\n",
              "      <td>1.0</td>\n",
              "      <td>2021-01-23 00:51:06</td>\n",
              "      <td>1.0</td>\n",
              "      <td>1.7</td>\n",
              "      <td>tetaman</td>\n",
              "      <td>Arabic</td>\n",
              "      <td>ELSyed</td>\n",
              "      <td>Male</td>\n",
              "      <td>67.0</td>\n",
              "      <td>12.0</td>\n",
              "      <td>negative</td>\n",
              "    </tr>\n",
              "    <tr>\n",
              "      <th>6</th>\n",
              "      <td>انور القدسي</td>\n",
              "      <td>ما قدرت اسجل في التطبيق  اوصل ل آخر خطوه وهي ...</td>\n",
              "      <td>1.0</td>\n",
              "      <td>2021-01-21 23:55:30</td>\n",
              "      <td>0.0</td>\n",
              "      <td>None</td>\n",
              "      <td>tetaman</td>\n",
              "      <td>Arabic</td>\n",
              "      <td>انور</td>\n",
              "      <td>Male</td>\n",
              "      <td>89.0</td>\n",
              "      <td>19.0</td>\n",
              "      <td>neutral</td>\n",
              "    </tr>\n",
              "    <tr>\n",
              "      <th>...</th>\n",
              "      <td>...</td>\n",
              "      <td>...</td>\n",
              "      <td>...</td>\n",
              "      <td>...</td>\n",
              "      <td>...</td>\n",
              "      <td>...</td>\n",
              "      <td>...</td>\n",
              "      <td>...</td>\n",
              "      <td>...</td>\n",
              "      <td>...</td>\n",
              "      <td>...</td>\n",
              "      <td>...</td>\n",
              "      <td>...</td>\n",
              "    </tr>\n",
              "    <tr>\n",
              "      <th>51760</th>\n",
              "      <td>Salah Najdi</td>\n",
              "      <td>لم استطع تسجيل جديد ورطونا بالاجازات المرضيه ...</td>\n",
              "      <td>1.0</td>\n",
              "      <td>2019-09-21 15:37:06</td>\n",
              "      <td>13.0</td>\n",
              "      <td>1</td>\n",
              "      <td>sehhaty</td>\n",
              "      <td>Arabic</td>\n",
              "      <td>Salah</td>\n",
              "      <td>Male</td>\n",
              "      <td>88.0</td>\n",
              "      <td>14.0</td>\n",
              "      <td>negative</td>\n",
              "    </tr>\n",
              "    <tr>\n",
              "      <th>51761</th>\n",
              "      <td>Hussein Ali</td>\n",
              "      <td>التطبيق مهم ياريت تربطون الدخول له بنفس بيانا...</td>\n",
              "      <td>2.0</td>\n",
              "      <td>2019-09-20 05:32:58</td>\n",
              "      <td>67.0</td>\n",
              "      <td>1</td>\n",
              "      <td>sehhaty</td>\n",
              "      <td>Arabic</td>\n",
              "      <td>Hussein</td>\n",
              "      <td>Male</td>\n",
              "      <td>103.0</td>\n",
              "      <td>17.0</td>\n",
              "      <td>neutral</td>\n",
              "    </tr>\n",
              "    <tr>\n",
              "      <th>51763</th>\n",
              "      <td>محمد الشريف</td>\n",
              "      <td>تجربة سيئة وتطبيق غبي لم أستطيع عمل التسجيل ا...</td>\n",
              "      <td>1.0</td>\n",
              "      <td>2019-09-19 16:39:09</td>\n",
              "      <td>14.0</td>\n",
              "      <td>1</td>\n",
              "      <td>sehhaty</td>\n",
              "      <td>Arabic</td>\n",
              "      <td>محمد</td>\n",
              "      <td>Male</td>\n",
              "      <td>52.0</td>\n",
              "      <td>9.0</td>\n",
              "      <td>negative</td>\n",
              "    </tr>\n",
              "    <tr>\n",
              "      <th>51764</th>\n",
              "      <td>Ali Aziz</td>\n",
              "      <td>فيه مشاكل لا استطيع اختيار المركز ابي اطلع ال...</td>\n",
              "      <td>2.0</td>\n",
              "      <td>2019-09-19 16:21:43</td>\n",
              "      <td>7.0</td>\n",
              "      <td>1</td>\n",
              "      <td>sehhaty</td>\n",
              "      <td>Arabic</td>\n",
              "      <td>Ali</td>\n",
              "      <td>Male</td>\n",
              "      <td>79.0</td>\n",
              "      <td>14.0</td>\n",
              "      <td>negative</td>\n",
              "    </tr>\n",
              "    <tr>\n",
              "      <th>51765</th>\n",
              "      <td>yh ha</td>\n",
              "      <td>تطبيق فاشل ليست كل المدن موجوده والا الأحياء ...</td>\n",
              "      <td>1.0</td>\n",
              "      <td>2019-09-19 00:37:20</td>\n",
              "      <td>4.0</td>\n",
              "      <td>1</td>\n",
              "      <td>sehhaty</td>\n",
              "      <td>Arabic</td>\n",
              "      <td>yh</td>\n",
              "      <td>Not_found</td>\n",
              "      <td>52.0</td>\n",
              "      <td>9.0</td>\n",
              "      <td>negative</td>\n",
              "    </tr>\n",
              "  </tbody>\n",
              "</table>\n",
              "<p>22267 rows × 13 columns</p>\n",
              "</div>"
            ],
            "text/plain": [
              "             UserName  ... Polarity sentiment\n",
              "0           Yaser Co   ...           positive\n",
              "2        نواف الحربي   ...            neutral\n",
              "3      ahmed ghazala   ...            neutral\n",
              "4       ELSyed Attia   ...           negative\n",
              "6        انور القدسي   ...            neutral\n",
              "...               ...  ...                ...\n",
              "51760    Salah Najdi   ...           negative\n",
              "51761    Hussein Ali   ...            neutral\n",
              "51763    محمد الشريف   ...           negative\n",
              "51764       Ali Aziz   ...           negative\n",
              "51765          yh ha   ...           negative\n",
              "\n",
              "[22267 rows x 13 columns]"
            ]
          },
          "metadata": {
            "tags": []
          },
          "execution_count": 51
        }
      ]
    },
    {
      "cell_type": "code",
      "metadata": {
        "colab": {
          "base_uri": "https://localhost:8080/",
          "height": 585
        },
        "id": "xgJyjyiBB7Lp",
        "outputId": "be4792f5-e56b-4959-8985-d70e709a0870"
      },
      "source": [
        "#•\tRemoved reviews with 5 score rating\n",
        "df.loc[df['Score'] == 5.0]"
      ],
      "execution_count": null,
      "outputs": [
        {
          "output_type": "execute_result",
          "data": {
            "text/html": [
              "<div>\n",
              "<style scoped>\n",
              "    .dataframe tbody tr th:only-of-type {\n",
              "        vertical-align: middle;\n",
              "    }\n",
              "\n",
              "    .dataframe tbody tr th {\n",
              "        vertical-align: top;\n",
              "    }\n",
              "\n",
              "    .dataframe thead th {\n",
              "        text-align: right;\n",
              "    }\n",
              "</style>\n",
              "<table border=\"1\" class=\"dataframe\">\n",
              "  <thead>\n",
              "    <tr style=\"text-align: right;\">\n",
              "      <th></th>\n",
              "      <th>UserName</th>\n",
              "      <th>Review</th>\n",
              "      <th>Score</th>\n",
              "      <th>Date/Time</th>\n",
              "      <th>thumbsUp</th>\n",
              "      <th>Version</th>\n",
              "      <th>app</th>\n",
              "      <th>lan_review</th>\n",
              "      <th>firstName</th>\n",
              "      <th>Gender</th>\n",
              "      <th>ReviewLength</th>\n",
              "      <th>words_count</th>\n",
              "      <th>Polarity sentiment</th>\n",
              "    </tr>\n",
              "  </thead>\n",
              "  <tbody>\n",
              "    <tr>\n",
              "      <th>0</th>\n",
              "      <td>Yaser Co</td>\n",
              "      <td>الله يحفظ الملك سلمان وولي عهده الامير محمد و...</td>\n",
              "      <td>5.0</td>\n",
              "      <td>2021-01-31 16:01:09</td>\n",
              "      <td>0.0</td>\n",
              "      <td>1.7</td>\n",
              "      <td>tetaman</td>\n",
              "      <td>Arabic</td>\n",
              "      <td>Yaser</td>\n",
              "      <td>Male</td>\n",
              "      <td>109.0</td>\n",
              "      <td>16.0</td>\n",
              "      <td>positive</td>\n",
              "    </tr>\n",
              "    <tr>\n",
              "      <th>19</th>\n",
              "      <td>عبدالله السلمي</td>\n",
              "      <td>يستحق ٥ نجمات وأكثر</td>\n",
              "      <td>5.0</td>\n",
              "      <td>2020-12-29 16:02:55</td>\n",
              "      <td>0.0</td>\n",
              "      <td>None</td>\n",
              "      <td>tetaman</td>\n",
              "      <td>Arabic</td>\n",
              "      <td>عبدالله</td>\n",
              "      <td>Male</td>\n",
              "      <td>21.0</td>\n",
              "      <td>4.0</td>\n",
              "      <td>positive</td>\n",
              "    </tr>\n",
              "    <tr>\n",
              "      <th>31</th>\n",
              "      <td>عبدالحميد عرب</td>\n",
              "      <td>ليش ما يتحمل له يومين يقلي جاري التثبيت</td>\n",
              "      <td>5.0</td>\n",
              "      <td>2020-12-08 07:22:45</td>\n",
              "      <td>0.0</td>\n",
              "      <td>None</td>\n",
              "      <td>tetaman</td>\n",
              "      <td>Arabic</td>\n",
              "      <td>عبدالحميد</td>\n",
              "      <td>Male</td>\n",
              "      <td>41.0</td>\n",
              "      <td>8.0</td>\n",
              "      <td>negative</td>\n",
              "    </tr>\n",
              "    <tr>\n",
              "      <th>40</th>\n",
              "      <td>geye Eueu</td>\n",
              "      <td>تطبيق يخدم بشكل فعال للاشخاص اللذين لهم خدمات...</td>\n",
              "      <td>5.0</td>\n",
              "      <td>2020-11-28 13:15:46</td>\n",
              "      <td>0.0</td>\n",
              "      <td>1.7</td>\n",
              "      <td>tetaman</td>\n",
              "      <td>Arabic</td>\n",
              "      <td>geye</td>\n",
              "      <td>Not_found</td>\n",
              "      <td>61.0</td>\n",
              "      <td>10.0</td>\n",
              "      <td>positive</td>\n",
              "    </tr>\n",
              "    <tr>\n",
              "      <th>47</th>\n",
              "      <td>عبدالمحسن الدخيل</td>\n",
              "      <td>السلام عليكم هل يوجد مشكلة بالنظام تطمن لان ك...</td>\n",
              "      <td>5.0</td>\n",
              "      <td>2020-11-22 23:53:01</td>\n",
              "      <td>11.0</td>\n",
              "      <td>1.7</td>\n",
              "      <td>tetaman</td>\n",
              "      <td>Arabic</td>\n",
              "      <td>عبدالمحسن</td>\n",
              "      <td>Male</td>\n",
              "      <td>93.0</td>\n",
              "      <td>18.0</td>\n",
              "      <td>neutral</td>\n",
              "    </tr>\n",
              "    <tr>\n",
              "      <th>...</th>\n",
              "      <td>...</td>\n",
              "      <td>...</td>\n",
              "      <td>...</td>\n",
              "      <td>...</td>\n",
              "      <td>...</td>\n",
              "      <td>...</td>\n",
              "      <td>...</td>\n",
              "      <td>...</td>\n",
              "      <td>...</td>\n",
              "      <td>...</td>\n",
              "      <td>...</td>\n",
              "      <td>...</td>\n",
              "      <td>...</td>\n",
              "    </tr>\n",
              "    <tr>\n",
              "      <th>51628</th>\n",
              "      <td>Ali ali</td>\n",
              "      <td>لم يفتح معي</td>\n",
              "      <td>5.0</td>\n",
              "      <td>2019-11-04 14:43:28</td>\n",
              "      <td>1.0</td>\n",
              "      <td>1.1.0</td>\n",
              "      <td>sehhaty</td>\n",
              "      <td>Arabic</td>\n",
              "      <td>Ali</td>\n",
              "      <td>Male</td>\n",
              "      <td>13.0</td>\n",
              "      <td>3.0</td>\n",
              "      <td>negative</td>\n",
              "    </tr>\n",
              "    <tr>\n",
              "      <th>51671</th>\n",
              "      <td>a-_-33 m</td>\n",
              "      <td>كانت تجربه سهله وميسره</td>\n",
              "      <td>5.0</td>\n",
              "      <td>2019-10-21 11:00:28</td>\n",
              "      <td>0.0</td>\n",
              "      <td>1</td>\n",
              "      <td>sehhaty</td>\n",
              "      <td>Arabic</td>\n",
              "      <td>a-_-33</td>\n",
              "      <td>Not_found</td>\n",
              "      <td>24.0</td>\n",
              "      <td>4.0</td>\n",
              "      <td>positive</td>\n",
              "    </tr>\n",
              "    <tr>\n",
              "      <th>51679</th>\n",
              "      <td>ريما المحيميد</td>\n",
              "      <td>برنامج جيد جدا لكن واجهت مشكله في فتحه من الك...</td>\n",
              "      <td>5.0</td>\n",
              "      <td>2019-10-20 01:35:25</td>\n",
              "      <td>1.0</td>\n",
              "      <td>1</td>\n",
              "      <td>sehhaty</td>\n",
              "      <td>Arabic</td>\n",
              "      <td>ريما</td>\n",
              "      <td>Female</td>\n",
              "      <td>103.0</td>\n",
              "      <td>18.0</td>\n",
              "      <td>positive</td>\n",
              "    </tr>\n",
              "    <tr>\n",
              "      <th>51689</th>\n",
              "      <td>استغفر الله سبحان الله</td>\n",
              "      <td>كيف اطبع التقرير الطبي</td>\n",
              "      <td>5.0</td>\n",
              "      <td>2019-10-16 12:54:24</td>\n",
              "      <td>0.0</td>\n",
              "      <td>1</td>\n",
              "      <td>sehhaty</td>\n",
              "      <td>Arabic</td>\n",
              "      <td>استغفر</td>\n",
              "      <td>Not_found</td>\n",
              "      <td>24.0</td>\n",
              "      <td>4.0</td>\n",
              "      <td>neutral</td>\n",
              "    </tr>\n",
              "    <tr>\n",
              "      <th>51721</th>\n",
              "      <td>منوعات يوتيوب</td>\n",
              "      <td>السلام عليكم.. البرنامج وبكل أمانة وصدق ممتاز...</td>\n",
              "      <td>5.0</td>\n",
              "      <td>2019-10-02 08:50:52</td>\n",
              "      <td>56.0</td>\n",
              "      <td>1</td>\n",
              "      <td>sehhaty</td>\n",
              "      <td>Arabic</td>\n",
              "      <td>منوعات</td>\n",
              "      <td>Not_found</td>\n",
              "      <td>283.0</td>\n",
              "      <td>48.0</td>\n",
              "      <td>positive</td>\n",
              "    </tr>\n",
              "  </tbody>\n",
              "</table>\n",
              "<p>14482 rows × 13 columns</p>\n",
              "</div>"
            ],
            "text/plain": [
              "                      UserName  ... Polarity sentiment\n",
              "0                    Yaser Co   ...           positive\n",
              "19             عبدالله السلمي   ...           positive\n",
              "31              عبدالحميد عرب   ...           negative\n",
              "40                  geye Eueu   ...           positive\n",
              "47           عبدالمحسن الدخيل   ...            neutral\n",
              "...                        ...  ...                ...\n",
              "51628                 Ali ali   ...           negative\n",
              "51671                a-_-33 m   ...           positive\n",
              "51679           ريما المحيميد   ...           positive\n",
              "51689  استغفر الله سبحان الله   ...            neutral\n",
              "51721           منوعات يوتيوب   ...           positive\n",
              "\n",
              "[14482 rows x 13 columns]"
            ]
          },
          "metadata": {
            "tags": []
          },
          "execution_count": 52
        }
      ]
    },
    {
      "cell_type": "code",
      "metadata": {
        "colab": {
          "base_uri": "https://localhost:8080/",
          "height": 585
        },
        "id": "hVW_YkOBCAra",
        "outputId": "7bced62e-aced-4cbb-8a5d-50726715c072"
      },
      "source": [
        "df=df[df.Score != 5.0]\n",
        "df"
      ],
      "execution_count": null,
      "outputs": [
        {
          "output_type": "execute_result",
          "data": {
            "text/html": [
              "<div>\n",
              "<style scoped>\n",
              "    .dataframe tbody tr th:only-of-type {\n",
              "        vertical-align: middle;\n",
              "    }\n",
              "\n",
              "    .dataframe tbody tr th {\n",
              "        vertical-align: top;\n",
              "    }\n",
              "\n",
              "    .dataframe thead th {\n",
              "        text-align: right;\n",
              "    }\n",
              "</style>\n",
              "<table border=\"1\" class=\"dataframe\">\n",
              "  <thead>\n",
              "    <tr style=\"text-align: right;\">\n",
              "      <th></th>\n",
              "      <th>UserName</th>\n",
              "      <th>Review</th>\n",
              "      <th>Score</th>\n",
              "      <th>Date/Time</th>\n",
              "      <th>thumbsUp</th>\n",
              "      <th>Version</th>\n",
              "      <th>app</th>\n",
              "      <th>lan_review</th>\n",
              "      <th>firstName</th>\n",
              "      <th>Gender</th>\n",
              "      <th>ReviewLength</th>\n",
              "      <th>words_count</th>\n",
              "      <th>Polarity sentiment</th>\n",
              "    </tr>\n",
              "  </thead>\n",
              "  <tbody>\n",
              "    <tr>\n",
              "      <th>2</th>\n",
              "      <td>نواف الحربي</td>\n",
              "      <td>تحميلك للتطبيق حتى لو بالخطأ يدخلك في عزل لمد...</td>\n",
              "      <td>1.0</td>\n",
              "      <td>2021-01-27 08:41:10</td>\n",
              "      <td>1.0</td>\n",
              "      <td>1.7</td>\n",
              "      <td>tetaman</td>\n",
              "      <td>Arabic</td>\n",
              "      <td>نواف</td>\n",
              "      <td>Male</td>\n",
              "      <td>164.0</td>\n",
              "      <td>31.0</td>\n",
              "      <td>neutral</td>\n",
              "    </tr>\n",
              "    <tr>\n",
              "      <th>3</th>\n",
              "      <td>ahmed ghazala</td>\n",
              "      <td>لا يعمل ولا يستجيب في مرحلة التسجيل لايتم ارس...</td>\n",
              "      <td>1.0</td>\n",
              "      <td>2021-01-23 21:49:16</td>\n",
              "      <td>0.0</td>\n",
              "      <td>1.7</td>\n",
              "      <td>tetaman</td>\n",
              "      <td>Arabic</td>\n",
              "      <td>ahmed</td>\n",
              "      <td>Male</td>\n",
              "      <td>55.0</td>\n",
              "      <td>10.0</td>\n",
              "      <td>neutral</td>\n",
              "    </tr>\n",
              "    <tr>\n",
              "      <th>4</th>\n",
              "      <td>ELSyed Attia</td>\n",
              "      <td>للأسف تطبيق سيئ جدا بقالي يومين بحاول اسجل ول...</td>\n",
              "      <td>1.0</td>\n",
              "      <td>2021-01-23 00:51:06</td>\n",
              "      <td>1.0</td>\n",
              "      <td>1.7</td>\n",
              "      <td>tetaman</td>\n",
              "      <td>Arabic</td>\n",
              "      <td>ELSyed</td>\n",
              "      <td>Male</td>\n",
              "      <td>67.0</td>\n",
              "      <td>12.0</td>\n",
              "      <td>negative</td>\n",
              "    </tr>\n",
              "    <tr>\n",
              "      <th>6</th>\n",
              "      <td>انور القدسي</td>\n",
              "      <td>ما قدرت اسجل في التطبيق  اوصل ل آخر خطوه وهي ...</td>\n",
              "      <td>1.0</td>\n",
              "      <td>2021-01-21 23:55:30</td>\n",
              "      <td>0.0</td>\n",
              "      <td>None</td>\n",
              "      <td>tetaman</td>\n",
              "      <td>Arabic</td>\n",
              "      <td>انور</td>\n",
              "      <td>Male</td>\n",
              "      <td>89.0</td>\n",
              "      <td>19.0</td>\n",
              "      <td>neutral</td>\n",
              "    </tr>\n",
              "    <tr>\n",
              "      <th>7</th>\n",
              "      <td>اسلام سعيد</td>\n",
              "      <td>نزلت البرنامج اكثر من مره وسجلت بياناتي كلها ...</td>\n",
              "      <td>1.0</td>\n",
              "      <td>2021-01-21 15:25:36</td>\n",
              "      <td>0.0</td>\n",
              "      <td>1.7</td>\n",
              "      <td>tetaman</td>\n",
              "      <td>Arabic</td>\n",
              "      <td>اسلام</td>\n",
              "      <td>Male</td>\n",
              "      <td>248.0</td>\n",
              "      <td>44.0</td>\n",
              "      <td>neutral</td>\n",
              "    </tr>\n",
              "    <tr>\n",
              "      <th>...</th>\n",
              "      <td>...</td>\n",
              "      <td>...</td>\n",
              "      <td>...</td>\n",
              "      <td>...</td>\n",
              "      <td>...</td>\n",
              "      <td>...</td>\n",
              "      <td>...</td>\n",
              "      <td>...</td>\n",
              "      <td>...</td>\n",
              "      <td>...</td>\n",
              "      <td>...</td>\n",
              "      <td>...</td>\n",
              "      <td>...</td>\n",
              "    </tr>\n",
              "    <tr>\n",
              "      <th>51760</th>\n",
              "      <td>Salah Najdi</td>\n",
              "      <td>لم استطع تسجيل جديد ورطونا بالاجازات المرضيه ...</td>\n",
              "      <td>1.0</td>\n",
              "      <td>2019-09-21 15:37:06</td>\n",
              "      <td>13.0</td>\n",
              "      <td>1</td>\n",
              "      <td>sehhaty</td>\n",
              "      <td>Arabic</td>\n",
              "      <td>Salah</td>\n",
              "      <td>Male</td>\n",
              "      <td>88.0</td>\n",
              "      <td>14.0</td>\n",
              "      <td>negative</td>\n",
              "    </tr>\n",
              "    <tr>\n",
              "      <th>51761</th>\n",
              "      <td>Hussein Ali</td>\n",
              "      <td>التطبيق مهم ياريت تربطون الدخول له بنفس بيانا...</td>\n",
              "      <td>2.0</td>\n",
              "      <td>2019-09-20 05:32:58</td>\n",
              "      <td>67.0</td>\n",
              "      <td>1</td>\n",
              "      <td>sehhaty</td>\n",
              "      <td>Arabic</td>\n",
              "      <td>Hussein</td>\n",
              "      <td>Male</td>\n",
              "      <td>103.0</td>\n",
              "      <td>17.0</td>\n",
              "      <td>neutral</td>\n",
              "    </tr>\n",
              "    <tr>\n",
              "      <th>51763</th>\n",
              "      <td>محمد الشريف</td>\n",
              "      <td>تجربة سيئة وتطبيق غبي لم أستطيع عمل التسجيل ا...</td>\n",
              "      <td>1.0</td>\n",
              "      <td>2019-09-19 16:39:09</td>\n",
              "      <td>14.0</td>\n",
              "      <td>1</td>\n",
              "      <td>sehhaty</td>\n",
              "      <td>Arabic</td>\n",
              "      <td>محمد</td>\n",
              "      <td>Male</td>\n",
              "      <td>52.0</td>\n",
              "      <td>9.0</td>\n",
              "      <td>negative</td>\n",
              "    </tr>\n",
              "    <tr>\n",
              "      <th>51764</th>\n",
              "      <td>Ali Aziz</td>\n",
              "      <td>فيه مشاكل لا استطيع اختيار المركز ابي اطلع ال...</td>\n",
              "      <td>2.0</td>\n",
              "      <td>2019-09-19 16:21:43</td>\n",
              "      <td>7.0</td>\n",
              "      <td>1</td>\n",
              "      <td>sehhaty</td>\n",
              "      <td>Arabic</td>\n",
              "      <td>Ali</td>\n",
              "      <td>Male</td>\n",
              "      <td>79.0</td>\n",
              "      <td>14.0</td>\n",
              "      <td>negative</td>\n",
              "    </tr>\n",
              "    <tr>\n",
              "      <th>51765</th>\n",
              "      <td>yh ha</td>\n",
              "      <td>تطبيق فاشل ليست كل المدن موجوده والا الأحياء ...</td>\n",
              "      <td>1.0</td>\n",
              "      <td>2019-09-19 00:37:20</td>\n",
              "      <td>4.0</td>\n",
              "      <td>1</td>\n",
              "      <td>sehhaty</td>\n",
              "      <td>Arabic</td>\n",
              "      <td>yh</td>\n",
              "      <td>Not_found</td>\n",
              "      <td>52.0</td>\n",
              "      <td>9.0</td>\n",
              "      <td>negative</td>\n",
              "    </tr>\n",
              "  </tbody>\n",
              "</table>\n",
              "<p>7785 rows × 13 columns</p>\n",
              "</div>"
            ],
            "text/plain": [
              "             UserName  ... Polarity sentiment\n",
              "2        نواف الحربي   ...            neutral\n",
              "3      ahmed ghazala   ...            neutral\n",
              "4       ELSyed Attia   ...           negative\n",
              "6        انور القدسي   ...            neutral\n",
              "7         اسلام سعيد   ...            neutral\n",
              "...               ...  ...                ...\n",
              "51760    Salah Najdi   ...           negative\n",
              "51761    Hussein Ali   ...            neutral\n",
              "51763    محمد الشريف   ...           negative\n",
              "51764       Ali Aziz   ...           negative\n",
              "51765          yh ha   ...           negative\n",
              "\n",
              "[7785 rows x 13 columns]"
            ]
          },
          "metadata": {
            "tags": []
          },
          "execution_count": 53
        }
      ]
    },
    {
      "cell_type": "code",
      "metadata": {
        "colab": {
          "base_uri": "https://localhost:8080/"
        },
        "id": "PDC0egzsCSCG",
        "outputId": "d25a0e0a-4ed2-4c17-eac6-b8b19a814312"
      },
      "source": [
        "import nltk\n",
        "nltk.download('punkt')"
      ],
      "execution_count": null,
      "outputs": [
        {
          "output_type": "stream",
          "text": [
            "[nltk_data] Downloading package punkt to /root/nltk_data...\n",
            "[nltk_data]   Unzipping tokenizers/punkt.zip.\n"
          ],
          "name": "stdout"
        },
        {
          "output_type": "execute_result",
          "data": {
            "text/plain": [
              "True"
            ]
          },
          "metadata": {
            "tags": []
          },
          "execution_count": 54
        }
      ]
    },
    {
      "cell_type": "code",
      "metadata": {
        "id": "h4bSCPDHC-Bj"
      },
      "source": [
        "# detect the review that has english character only \n",
        "spec_chars = [\"A\",'B',\"C\",\"D\",\"E\",\"F\",\"G\",\"H\",\"I\",\"J\",\"K\",\"L\",\"M\",\"N\",\"O\",\"P\",\"Q\",\"S\",\"T\",\"W\",\"X\",\"Y\",\"Z\",\"a\",\"b\",\n",
        "              \"c\",\"d\",\"e\",\"f\",\"g\",\"h\",'i','j','k','l','m','n','o','p','q','s','t','w','x','y','z']\n",
        "for char in spec_chars:\n",
        "    df['Review'] = df['Review'].str.replace(char, ' ')"
      ],
      "execution_count": null,
      "outputs": []
    },
    {
      "cell_type": "code",
      "metadata": {
        "colab": {
          "base_uri": "https://localhost:8080/"
        },
        "id": "XeaWSPR0DD6W",
        "outputId": "b8f5ecef-c513-4ac4-86ed-3d5606177a89"
      },
      "source": [
        "df[\"Review\"]"
      ],
      "execution_count": null,
      "outputs": [
        {
          "output_type": "execute_result",
          "data": {
            "text/plain": [
              "2         تحميلك للتطبيق حتى لو بالخطأ يدخلك في عزل لمد...\n",
              "3         لا يعمل ولا يستجيب في مرحلة التسجيل لايتم ارس...\n",
              "4         للأسف تطبيق سيئ جدا بقالي يومين بحاول اسجل ول...\n",
              "6         ما قدرت اسجل في التطبيق  اوصل ل آخر خطوه وهي ...\n",
              "7         نزلت البرنامج اكثر من مره وسجلت بياناتي كلها ...\n",
              "                               ...                        \n",
              "51760     لم استطع تسجيل جديد ورطونا بالاجازات المرضيه ...\n",
              "51761     التطبيق مهم ياريت تربطون الدخول له بنفس بيانا...\n",
              "51763     تجربة سيئة وتطبيق غبي لم أستطيع عمل التسجيل ا...\n",
              "51764     فيه مشاكل لا استطيع اختيار المركز ابي اطلع ال...\n",
              "51765     تطبيق فاشل ليست كل المدن موجوده والا الأحياء ...\n",
              "Name: Review, Length: 7785, dtype: object"
            ]
          },
          "metadata": {
            "tags": []
          },
          "execution_count": 56
        }
      ]
    },
    {
      "cell_type": "code",
      "metadata": {
        "id": "Re46rp_5DNII"
      },
      "source": [
        "#remove the whitespace \n",
        "df.columns = df.columns.str.replace(' ', '')\n"
      ],
      "execution_count": null,
      "outputs": []
    },
    {
      "cell_type": "code",
      "metadata": {
        "colab": {
          "base_uri": "https://localhost:8080/",
          "height": 399
        },
        "id": "dB5ctEckDVjP",
        "outputId": "aebf1bf7-e0d0-4c29-9d6e-c29f1aded3da"
      },
      "source": [
        "# remove all attriburtes from main df and keep review\n",
        "clean_split = pd.DataFrame(df, columns = ['Review'])\n",
        "clean_split"
      ],
      "execution_count": null,
      "outputs": [
        {
          "output_type": "execute_result",
          "data": {
            "text/html": [
              "<div>\n",
              "<style scoped>\n",
              "    .dataframe tbody tr th:only-of-type {\n",
              "        vertical-align: middle;\n",
              "    }\n",
              "\n",
              "    .dataframe tbody tr th {\n",
              "        vertical-align: top;\n",
              "    }\n",
              "\n",
              "    .dataframe thead th {\n",
              "        text-align: right;\n",
              "    }\n",
              "</style>\n",
              "<table border=\"1\" class=\"dataframe\">\n",
              "  <thead>\n",
              "    <tr style=\"text-align: right;\">\n",
              "      <th></th>\n",
              "      <th>Review</th>\n",
              "    </tr>\n",
              "  </thead>\n",
              "  <tbody>\n",
              "    <tr>\n",
              "      <th>2</th>\n",
              "      <td>تحميلك للتطبيق حتى لو بالخطأ يدخلك في عزل لمد...</td>\n",
              "    </tr>\n",
              "    <tr>\n",
              "      <th>3</th>\n",
              "      <td>لا يعمل ولا يستجيب في مرحلة التسجيل لايتم ارس...</td>\n",
              "    </tr>\n",
              "    <tr>\n",
              "      <th>4</th>\n",
              "      <td>للأسف تطبيق سيئ جدا بقالي يومين بحاول اسجل ول...</td>\n",
              "    </tr>\n",
              "    <tr>\n",
              "      <th>6</th>\n",
              "      <td>ما قدرت اسجل في التطبيق  اوصل ل آخر خطوه وهي ...</td>\n",
              "    </tr>\n",
              "    <tr>\n",
              "      <th>7</th>\n",
              "      <td>نزلت البرنامج اكثر من مره وسجلت بياناتي كلها ...</td>\n",
              "    </tr>\n",
              "    <tr>\n",
              "      <th>...</th>\n",
              "      <td>...</td>\n",
              "    </tr>\n",
              "    <tr>\n",
              "      <th>51760</th>\n",
              "      <td>لم استطع تسجيل جديد ورطونا بالاجازات المرضيه ...</td>\n",
              "    </tr>\n",
              "    <tr>\n",
              "      <th>51761</th>\n",
              "      <td>التطبيق مهم ياريت تربطون الدخول له بنفس بيانا...</td>\n",
              "    </tr>\n",
              "    <tr>\n",
              "      <th>51763</th>\n",
              "      <td>تجربة سيئة وتطبيق غبي لم أستطيع عمل التسجيل ا...</td>\n",
              "    </tr>\n",
              "    <tr>\n",
              "      <th>51764</th>\n",
              "      <td>فيه مشاكل لا استطيع اختيار المركز ابي اطلع ال...</td>\n",
              "    </tr>\n",
              "    <tr>\n",
              "      <th>51765</th>\n",
              "      <td>تطبيق فاشل ليست كل المدن موجوده والا الأحياء ...</td>\n",
              "    </tr>\n",
              "  </tbody>\n",
              "</table>\n",
              "<p>7785 rows × 1 columns</p>\n",
              "</div>"
            ],
            "text/plain": [
              "                                                  Review\n",
              "2       تحميلك للتطبيق حتى لو بالخطأ يدخلك في عزل لمد...\n",
              "3       لا يعمل ولا يستجيب في مرحلة التسجيل لايتم ارس...\n",
              "4       للأسف تطبيق سيئ جدا بقالي يومين بحاول اسجل ول...\n",
              "6       ما قدرت اسجل في التطبيق  اوصل ل آخر خطوه وهي ...\n",
              "7       نزلت البرنامج اكثر من مره وسجلت بياناتي كلها ...\n",
              "...                                                  ...\n",
              "51760   لم استطع تسجيل جديد ورطونا بالاجازات المرضيه ...\n",
              "51761   التطبيق مهم ياريت تربطون الدخول له بنفس بيانا...\n",
              "51763   تجربة سيئة وتطبيق غبي لم أستطيع عمل التسجيل ا...\n",
              "51764   فيه مشاكل لا استطيع اختيار المركز ابي اطلع ال...\n",
              "51765   تطبيق فاشل ليست كل المدن موجوده والا الأحياء ...\n",
              "\n",
              "[7785 rows x 1 columns]"
            ]
          },
          "metadata": {
            "tags": []
          },
          "execution_count": 58
        }
      ]
    },
    {
      "cell_type": "code",
      "metadata": {
        "colab": {
          "base_uri": "https://localhost:8080/"
        },
        "id": "8rClCOK5Dwoa",
        "outputId": "3c7cf7ea-f6f5-4d34-bf2d-20c359b295f2"
      },
      "source": [
        "import nltk\n",
        "\n",
        "nltk.download('stopwords')\n",
        "stop_words = nltk.corpus.stopwords.words('arabic')"
      ],
      "execution_count": null,
      "outputs": [
        {
          "output_type": "stream",
          "text": [
            "[nltk_data] Downloading package stopwords to /root/nltk_data...\n",
            "[nltk_data]   Unzipping corpora/stopwords.zip.\n"
          ],
          "name": "stdout"
        }
      ]
    },
    {
      "cell_type": "code",
      "metadata": {
        "id": "xTjRKvLHD20d"
      },
      "source": [
        "#Spacy Imports\n",
        "import spacy\n",
        "from spacy.lang.ar import Arabic\n",
        "nlp_spacy = Arabic()"
      ],
      "execution_count": null,
      "outputs": []
    },
    {
      "cell_type": "code",
      "metadata": {
        "colab": {
          "base_uri": "https://localhost:8080/"
        },
        "id": "Kd22c0lzD87v",
        "outputId": "2f53f059-507b-4095-f390-e368ac062f3d"
      },
      "source": [
        "from gensim.parsing.preprocessing import remove_stopwords\n",
        "import nltk\n",
        "from nltk.corpus import stopwords\n",
        "from nltk.tokenize import word_tokenize \n",
        "set(stopwords.words('arabic'))"
      ],
      "execution_count": null,
      "outputs": [
        {
          "output_type": "execute_result",
          "data": {
            "text/plain": [
              "{'آه',\n",
              " 'آها',\n",
              " 'آي',\n",
              " 'أف',\n",
              " 'أقل',\n",
              " 'أكثر',\n",
              " 'ألا',\n",
              " 'أم',\n",
              " 'أما',\n",
              " 'أن',\n",
              " 'أنا',\n",
              " 'أنت',\n",
              " 'أنتم',\n",
              " 'أنتما',\n",
              " 'أنتن',\n",
              " 'أنى',\n",
              " 'أو',\n",
              " 'أولئك',\n",
              " 'أولاء',\n",
              " 'أوه',\n",
              " 'أي',\n",
              " 'أين',\n",
              " 'أينما',\n",
              " 'أيها',\n",
              " 'إذ',\n",
              " 'إذا',\n",
              " 'إذما',\n",
              " 'إذن',\n",
              " 'إلا',\n",
              " 'إلى',\n",
              " 'إليك',\n",
              " 'إليكم',\n",
              " 'إليكما',\n",
              " 'إليكن',\n",
              " 'إما',\n",
              " 'إن',\n",
              " 'إنا',\n",
              " 'إنما',\n",
              " 'إنه',\n",
              " 'إي',\n",
              " 'إيه',\n",
              " 'التي',\n",
              " 'الذي',\n",
              " 'الذين',\n",
              " 'اللائي',\n",
              " 'اللاتي',\n",
              " 'اللتان',\n",
              " 'اللتيا',\n",
              " 'اللتين',\n",
              " 'اللذان',\n",
              " 'اللذين',\n",
              " 'اللواتي',\n",
              " 'بخ',\n",
              " 'بس',\n",
              " 'بعد',\n",
              " 'بعض',\n",
              " 'بك',\n",
              " 'بكم',\n",
              " 'بكما',\n",
              " 'بكن',\n",
              " 'بل',\n",
              " 'بلى',\n",
              " 'بما',\n",
              " 'بماذا',\n",
              " 'بمن',\n",
              " 'بنا',\n",
              " 'به',\n",
              " 'بها',\n",
              " 'بهم',\n",
              " 'بهما',\n",
              " 'بهن',\n",
              " 'بي',\n",
              " 'بيد',\n",
              " 'بين',\n",
              " 'تلك',\n",
              " 'تلكم',\n",
              " 'تلكما',\n",
              " 'ته',\n",
              " 'تي',\n",
              " 'تين',\n",
              " 'تينك',\n",
              " 'ثم',\n",
              " 'ثمة',\n",
              " 'حاشا',\n",
              " 'حبذا',\n",
              " 'حتى',\n",
              " 'حيث',\n",
              " 'حيثما',\n",
              " 'حين',\n",
              " 'خلا',\n",
              " 'دون',\n",
              " 'ذا',\n",
              " 'ذات',\n",
              " 'ذاك',\n",
              " 'ذان',\n",
              " 'ذانك',\n",
              " 'ذلك',\n",
              " 'ذلكم',\n",
              " 'ذلكما',\n",
              " 'ذلكن',\n",
              " 'ذه',\n",
              " 'ذو',\n",
              " 'ذوا',\n",
              " 'ذواتا',\n",
              " 'ذواتي',\n",
              " 'ذي',\n",
              " 'ذين',\n",
              " 'ذينك',\n",
              " 'ريث',\n",
              " 'سوف',\n",
              " 'سوى',\n",
              " 'شتان',\n",
              " 'عدا',\n",
              " 'عسى',\n",
              " 'عل',\n",
              " 'على',\n",
              " 'عليك',\n",
              " 'عليه',\n",
              " 'عما',\n",
              " 'عن',\n",
              " 'عند',\n",
              " 'غير',\n",
              " 'فإذا',\n",
              " 'فإن',\n",
              " 'فلا',\n",
              " 'فمن',\n",
              " 'في',\n",
              " 'فيم',\n",
              " 'فيما',\n",
              " 'فيه',\n",
              " 'فيها',\n",
              " 'قد',\n",
              " 'كأن',\n",
              " 'كأنما',\n",
              " 'كأي',\n",
              " 'كأين',\n",
              " 'كذا',\n",
              " 'كذلك',\n",
              " 'كل',\n",
              " 'كلا',\n",
              " 'كلاهما',\n",
              " 'كلتا',\n",
              " 'كلما',\n",
              " 'كليكما',\n",
              " 'كليهما',\n",
              " 'كم',\n",
              " 'كما',\n",
              " 'كي',\n",
              " 'كيت',\n",
              " 'كيف',\n",
              " 'كيفما',\n",
              " 'لئن',\n",
              " 'لا',\n",
              " 'لاسيما',\n",
              " 'لدى',\n",
              " 'لست',\n",
              " 'لستم',\n",
              " 'لستما',\n",
              " 'لستن',\n",
              " 'لسن',\n",
              " 'لسنا',\n",
              " 'لعل',\n",
              " 'لك',\n",
              " 'لكم',\n",
              " 'لكما',\n",
              " 'لكن',\n",
              " 'لكنما',\n",
              " 'لكي',\n",
              " 'لكيلا',\n",
              " 'لم',\n",
              " 'لما',\n",
              " 'لن',\n",
              " 'لنا',\n",
              " 'له',\n",
              " 'لها',\n",
              " 'لهم',\n",
              " 'لهما',\n",
              " 'لهن',\n",
              " 'لو',\n",
              " 'لولا',\n",
              " 'لوما',\n",
              " 'لي',\n",
              " 'ليت',\n",
              " 'ليس',\n",
              " 'ليسا',\n",
              " 'ليست',\n",
              " 'ليستا',\n",
              " 'ليسوا',\n",
              " 'ما',\n",
              " 'ماذا',\n",
              " 'متى',\n",
              " 'مذ',\n",
              " 'مع',\n",
              " 'مما',\n",
              " 'ممن',\n",
              " 'من',\n",
              " 'منذ',\n",
              " 'منه',\n",
              " 'منها',\n",
              " 'مه',\n",
              " 'مهما',\n",
              " 'نحن',\n",
              " 'نحو',\n",
              " 'نعم',\n",
              " 'هؤلاء',\n",
              " 'ها',\n",
              " 'هاتان',\n",
              " 'هاته',\n",
              " 'هاتي',\n",
              " 'هاتين',\n",
              " 'هاك',\n",
              " 'هاهنا',\n",
              " 'هذا',\n",
              " 'هذان',\n",
              " 'هذه',\n",
              " 'هذي',\n",
              " 'هذين',\n",
              " 'هكذا',\n",
              " 'هل',\n",
              " 'هلا',\n",
              " 'هم',\n",
              " 'هما',\n",
              " 'هن',\n",
              " 'هنا',\n",
              " 'هناك',\n",
              " 'هنالك',\n",
              " 'هو',\n",
              " 'هي',\n",
              " 'هيا',\n",
              " 'هيت',\n",
              " 'هيهات',\n",
              " 'وإذ',\n",
              " 'وإذا',\n",
              " 'وإن',\n",
              " 'والذي',\n",
              " 'والذين',\n",
              " 'ولا',\n",
              " 'ولكن',\n",
              " 'ولو',\n",
              " 'وما',\n",
              " 'ومن',\n",
              " 'وهو',\n",
              " 'يا'}"
            ]
          },
          "metadata": {
            "tags": []
          },
          "execution_count": 61
        }
      ]
    },
    {
      "cell_type": "code",
      "metadata": {
        "id": "qbqARzNdECKY"
      },
      "source": [
        "#NLTK Imports\n",
        "from nltk.corpus import stopwords "
      ],
      "execution_count": null,
      "outputs": []
    },
    {
      "cell_type": "code",
      "metadata": {
        "colab": {
          "base_uri": "https://localhost:8080/"
        },
        "id": "SS7y03h0EEsk",
        "outputId": "89f206ac-e628-42cc-e6c1-88fefab62221"
      },
      "source": [
        "import nltk\n",
        "from nltk.tokenize import WhitespaceTokenizer\n",
        "\n",
        "nltk.download('stopwords')\n",
        "stop_words = nltk.corpus.stopwords.words('arabic')\n",
        "\n",
        "tokenizer = WhitespaceTokenizer()\n",
        "\n",
        "clean_words = [tokenizer.tokenize(t) for t in clean_split]\n",
        "\n",
        "clean_words = [[t for t in text if t not in stop_words] for text in clean_words]"
      ],
      "execution_count": null,
      "outputs": [
        {
          "output_type": "stream",
          "text": [
            "[nltk_data] Downloading package stopwords to /root/nltk_data...\n",
            "[nltk_data]   Package stopwords is already up-to-date!\n"
          ],
          "name": "stdout"
        }
      ]
    },
    {
      "cell_type": "code",
      "metadata": {
        "colab": {
          "base_uri": "https://localhost:8080/"
        },
        "id": "L6Fxxz1ZEOmu",
        "outputId": "50839cd3-1b75-4569-c47a-cec40f7820b0"
      },
      "source": [
        "example_review = clean_split.iloc[6000]\n",
        "print(example_review['Review'])"
      ],
      "execution_count": null,
      "outputs": [
        {
          "output_type": "stream",
          "text": [
            " التطبيق لايتحمل معلق ومشكورين على حرصكم وزادكم الله من فضله \n"
          ],
          "name": "stdout"
        }
      ]
    },
    {
      "cell_type": "code",
      "metadata": {
        "colab": {
          "base_uri": "https://localhost:8080/"
        },
        "id": "rtN7auP5ERZc",
        "outputId": "ee043882-8a9d-4153-b8ce-5b83c65af610"
      },
      "source": [
        "import nltk\n",
        "print (nltk.word_tokenize(example_review['Review']))"
      ],
      "execution_count": null,
      "outputs": [
        {
          "output_type": "stream",
          "text": [
            "['التطبيق', 'لايتحمل', 'معلق', 'ومشكورين', 'على', 'حرصكم', 'وزادكم', 'الله', 'من', 'فضله']\n"
          ],
          "name": "stdout"
        }
      ]
    },
    {
      "cell_type": "code",
      "metadata": {
        "id": "TegIRonPEZ3-"
      },
      "source": [
        "clean_split['Review']=clean_split['Review'].apply(str)"
      ],
      "execution_count": null,
      "outputs": []
    },
    {
      "cell_type": "code",
      "metadata": {
        "id": "XWGXkKGjEbsD"
      },
      "source": [
        "def identify_tokens(row):\n",
        "    review = row['Review']\n",
        "    tokens = nltk.word_tokenize(review)\n",
        "    # taken only words (not punctuation)\n",
        "    token_words = [w for w in tokens if w.isalnum()]\n",
        "    return token_words\n",
        "\n",
        "clean_split['words'] = clean_split.apply(identify_tokens, axis=1)"
      ],
      "execution_count": null,
      "outputs": []
    },
    {
      "cell_type": "code",
      "metadata": {
        "id": "cKY61lcCE8k-"
      },
      "source": [
        "from nltk.stem import PorterStemmer\n",
        "stemming = PorterStemmer()"
      ],
      "execution_count": null,
      "outputs": []
    },
    {
      "cell_type": "code",
      "metadata": {
        "id": "8m9BIW1qFTQY"
      },
      "source": [
        "def stem_list(row):\n",
        "    my_list = row['words']\n",
        "    stemmed_list = [stemming.stem(word) for word in my_list]\n",
        "    return (stemmed_list)\n",
        "\n",
        "clean_split['stemmed_words'] = clean_split.apply(stem_list, axis=1)"
      ],
      "execution_count": null,
      "outputs": []
    },
    {
      "cell_type": "code",
      "metadata": {
        "id": "ej7sQhWzFaVi"
      },
      "source": [
        "from nltk.corpus import stopwords\n",
        "stops = set(stopwords.words(\"arabic\"))                  \n",
        "\n",
        "def remove_stops(row):\n",
        "    my_list = row['stemmed_words']\n",
        "    meaningful_words = [w for w in my_list if not w in stops]\n",
        "    return (meaningful_words)\n",
        "\n",
        "clean_split['stem_meaningful'] = clean_split.apply(remove_stops, axis=1)"
      ],
      "execution_count": null,
      "outputs": []
    },
    {
      "cell_type": "code",
      "metadata": {
        "id": "B_hvIRsTFd_7"
      },
      "source": [
        "def rejoin_words(row):\n",
        "    my_list = row['stem_meaningful']\n",
        "    joined_words = ( \" \".join(my_list))\n",
        "    return joined_words\n",
        "\n",
        "clean_split['processed'] = clean_split.apply(rejoin_words, axis=1)"
      ],
      "execution_count": null,
      "outputs": []
    },
    {
      "cell_type": "code",
      "metadata": {
        "colab": {
          "base_uri": "https://localhost:8080/",
          "height": 551
        },
        "id": "RqlaqxcOFi7C",
        "outputId": "43e098e3-f201-4569-cdeb-fe5567f30a8d"
      },
      "source": [
        "clean_split\n"
      ],
      "execution_count": null,
      "outputs": [
        {
          "output_type": "execute_result",
          "data": {
            "text/html": [
              "<div>\n",
              "<style scoped>\n",
              "    .dataframe tbody tr th:only-of-type {\n",
              "        vertical-align: middle;\n",
              "    }\n",
              "\n",
              "    .dataframe tbody tr th {\n",
              "        vertical-align: top;\n",
              "    }\n",
              "\n",
              "    .dataframe thead th {\n",
              "        text-align: right;\n",
              "    }\n",
              "</style>\n",
              "<table border=\"1\" class=\"dataframe\">\n",
              "  <thead>\n",
              "    <tr style=\"text-align: right;\">\n",
              "      <th></th>\n",
              "      <th>Review</th>\n",
              "      <th>words</th>\n",
              "      <th>stemmed_words</th>\n",
              "      <th>stem_meaningful</th>\n",
              "      <th>processed</th>\n",
              "    </tr>\n",
              "  </thead>\n",
              "  <tbody>\n",
              "    <tr>\n",
              "      <th>2</th>\n",
              "      <td>تحميلك للتطبيق حتى لو بالخطأ يدخلك في عزل لمد...</td>\n",
              "      <td>[تحميلك, للتطبيق, حتى, لو, بالخطأ, يدخلك, في, ...</td>\n",
              "      <td>[تحميلك, للتطبيق, حتى, لو, بالخطأ, يدخلك, في, ...</td>\n",
              "      <td>[تحميلك, للتطبيق, بالخطأ, يدخلك, عزل, لمدة, ١٤...</td>\n",
              "      <td>تحميلك للتطبيق بالخطأ يدخلك عزل لمدة ١٤ يوم بش...</td>\n",
              "    </tr>\n",
              "    <tr>\n",
              "      <th>3</th>\n",
              "      <td>لا يعمل ولا يستجيب في مرحلة التسجيل لايتم ارس...</td>\n",
              "      <td>[لا, يعمل, ولا, يستجيب, في, مرحلة, التسجيل, لا...</td>\n",
              "      <td>[لا, يعمل, ولا, يستجيب, في, مرحلة, التسجيل, لا...</td>\n",
              "      <td>[يعمل, يستجيب, مرحلة, التسجيل, لايتم, ارسال, ا...</td>\n",
              "      <td>يعمل يستجيب مرحلة التسجيل لايتم ارسال الكود</td>\n",
              "    </tr>\n",
              "    <tr>\n",
              "      <th>4</th>\n",
              "      <td>للأسف تطبيق سيئ جدا بقالي يومين بحاول اسجل ول...</td>\n",
              "      <td>[للأسف, تطبيق, سيئ, جدا, بقالي, يومين, بحاول, ...</td>\n",
              "      <td>[للأسف, تطبيق, سيئ, جدا, بقالي, يومين, بحاول, ...</td>\n",
              "      <td>[للأسف, تطبيق, سيئ, جدا, بقالي, يومين, بحاول, ...</td>\n",
              "      <td>للأسف تطبيق سيئ جدا بقالي يومين بحاول اسجل يرس...</td>\n",
              "    </tr>\n",
              "    <tr>\n",
              "      <th>6</th>\n",
              "      <td>ما قدرت اسجل في التطبيق  اوصل ل آخر خطوه وهي ...</td>\n",
              "      <td>[ما, قدرت, اسجل, في, التطبيق, اوصل, ل, آخر, خط...</td>\n",
              "      <td>[ما, قدرت, اسجل, في, التطبيق, اوصل, ل, آخر, خط...</td>\n",
              "      <td>[قدرت, اسجل, التطبيق, اوصل, ل, آخر, خطوه, وهي,...</td>\n",
              "      <td>قدرت اسجل التطبيق اوصل ل آخر خطوه وهي كود التح...</td>\n",
              "    </tr>\n",
              "    <tr>\n",
              "      <th>7</th>\n",
              "      <td>نزلت البرنامج اكثر من مره وسجلت بياناتي كلها ...</td>\n",
              "      <td>[نزلت, البرنامج, اكثر, من, مره, وسجلت, بياناتي...</td>\n",
              "      <td>[نزلت, البرنامج, اكثر, من, مره, وسجلت, بياناتي...</td>\n",
              "      <td>[نزلت, البرنامج, اكثر, مره, وسجلت, بياناتي, كل...</td>\n",
              "      <td>نزلت البرنامج اكثر مره وسجلت بياناتي كلها لاني...</td>\n",
              "    </tr>\n",
              "    <tr>\n",
              "      <th>...</th>\n",
              "      <td>...</td>\n",
              "      <td>...</td>\n",
              "      <td>...</td>\n",
              "      <td>...</td>\n",
              "      <td>...</td>\n",
              "    </tr>\n",
              "    <tr>\n",
              "      <th>51760</th>\n",
              "      <td>لم استطع تسجيل جديد ورطونا بالاجازات المرضيه ...</td>\n",
              "      <td>[لم, استطع, تسجيل, جديد, ورطونا, بالاجازات, ال...</td>\n",
              "      <td>[لم, استطع, تسجيل, جديد, ورطونا, بالاجازات, ال...</td>\n",
              "      <td>[استطع, تسجيل, جديد, ورطونا, بالاجازات, المرضي...</td>\n",
              "      <td>استطع تسجيل جديد ورطونا بالاجازات المرضيه اطبع...</td>\n",
              "    </tr>\n",
              "    <tr>\n",
              "      <th>51761</th>\n",
              "      <td>التطبيق مهم ياريت تربطون الدخول له بنفس بيانا...</td>\n",
              "      <td>[التطبيق, مهم, ياريت, تربطون, الدخول, له, بنفس...</td>\n",
              "      <td>[التطبيق, مهم, ياريت, تربطون, الدخول, له, بنفس...</td>\n",
              "      <td>[التطبيق, مهم, ياريت, تربطون, الدخول, بنفس, بي...</td>\n",
              "      <td>التطبيق مهم ياريت تربطون الدخول بنفس بيانات ال...</td>\n",
              "    </tr>\n",
              "    <tr>\n",
              "      <th>51763</th>\n",
              "      <td>تجربة سيئة وتطبيق غبي لم أستطيع عمل التسجيل ا...</td>\n",
              "      <td>[تجربة, سيئة, وتطبيق, غبي, لم, أستطيع, عمل, ال...</td>\n",
              "      <td>[تجربة, سيئة, وتطبيق, غبي, لم, أستطيع, عمل, ال...</td>\n",
              "      <td>[تجربة, سيئة, وتطبيق, غبي, أستطيع, عمل, التسجي...</td>\n",
              "      <td>تجربة سيئة وتطبيق غبي أستطيع عمل التسجيل الجديد</td>\n",
              "    </tr>\n",
              "    <tr>\n",
              "      <th>51764</th>\n",
              "      <td>فيه مشاكل لا استطيع اختيار المركز ابي اطلع ال...</td>\n",
              "      <td>[فيه, مشاكل, لا, استطيع, اختيار, المركز, ابي, ...</td>\n",
              "      <td>[فيه, مشاكل, لا, استطيع, اختيار, المركز, ابي, ...</td>\n",
              "      <td>[مشاكل, استطيع, اختيار, المركز, ابي, اطلع, الا...</td>\n",
              "      <td>مشاكل استطيع اختيار المركز ابي اطلع الاجازة قد...</td>\n",
              "    </tr>\n",
              "    <tr>\n",
              "      <th>51765</th>\n",
              "      <td>تطبيق فاشل ليست كل المدن موجوده والا الأحياء ...</td>\n",
              "      <td>[تطبيق, فاشل, ليست, كل, المدن, موجوده, والا, ا...</td>\n",
              "      <td>[تطبيق, فاشل, ليست, كل, المدن, موجوده, والا, ا...</td>\n",
              "      <td>[تطبيق, فاشل, المدن, موجوده, والا, الأحياء, وا...</td>\n",
              "      <td>تطبيق فاشل المدن موجوده والا الأحياء واضحه</td>\n",
              "    </tr>\n",
              "  </tbody>\n",
              "</table>\n",
              "<p>7785 rows × 5 columns</p>\n",
              "</div>"
            ],
            "text/plain": [
              "                                                  Review  ...                                          processed\n",
              "2       تحميلك للتطبيق حتى لو بالخطأ يدخلك في عزل لمد...  ...  تحميلك للتطبيق بالخطأ يدخلك عزل لمدة ١٤ يوم بش...\n",
              "3       لا يعمل ولا يستجيب في مرحلة التسجيل لايتم ارس...  ...        يعمل يستجيب مرحلة التسجيل لايتم ارسال الكود\n",
              "4       للأسف تطبيق سيئ جدا بقالي يومين بحاول اسجل ول...  ...  للأسف تطبيق سيئ جدا بقالي يومين بحاول اسجل يرس...\n",
              "6       ما قدرت اسجل في التطبيق  اوصل ل آخر خطوه وهي ...  ...  قدرت اسجل التطبيق اوصل ل آخر خطوه وهي كود التح...\n",
              "7       نزلت البرنامج اكثر من مره وسجلت بياناتي كلها ...  ...  نزلت البرنامج اكثر مره وسجلت بياناتي كلها لاني...\n",
              "...                                                  ...  ...                                                ...\n",
              "51760   لم استطع تسجيل جديد ورطونا بالاجازات المرضيه ...  ...  استطع تسجيل جديد ورطونا بالاجازات المرضيه اطبع...\n",
              "51761   التطبيق مهم ياريت تربطون الدخول له بنفس بيانا...  ...  التطبيق مهم ياريت تربطون الدخول بنفس بيانات ال...\n",
              "51763   تجربة سيئة وتطبيق غبي لم أستطيع عمل التسجيل ا...  ...    تجربة سيئة وتطبيق غبي أستطيع عمل التسجيل الجديد\n",
              "51764   فيه مشاكل لا استطيع اختيار المركز ابي اطلع ال...  ...  مشاكل استطيع اختيار المركز ابي اطلع الاجازة قد...\n",
              "51765   تطبيق فاشل ليست كل المدن موجوده والا الأحياء ...  ...         تطبيق فاشل المدن موجوده والا الأحياء واضحه\n",
              "\n",
              "[7785 rows x 5 columns]"
            ]
          },
          "metadata": {
            "tags": []
          },
          "execution_count": 72
        }
      ]
    },
    {
      "cell_type": "code",
      "metadata": {
        "colab": {
          "base_uri": "https://localhost:8080/",
          "height": 399
        },
        "id": "II-e1BbaFM4r",
        "outputId": "582d7c68-24b1-4c3d-e81e-b65e1ca033f8"
      },
      "source": [
        "processed_Review = pd.DataFrame(clean_split, columns = ['processed'])\n",
        "processed_Review"
      ],
      "execution_count": null,
      "outputs": [
        {
          "output_type": "execute_result",
          "data": {
            "text/html": [
              "<div>\n",
              "<style scoped>\n",
              "    .dataframe tbody tr th:only-of-type {\n",
              "        vertical-align: middle;\n",
              "    }\n",
              "\n",
              "    .dataframe tbody tr th {\n",
              "        vertical-align: top;\n",
              "    }\n",
              "\n",
              "    .dataframe thead th {\n",
              "        text-align: right;\n",
              "    }\n",
              "</style>\n",
              "<table border=\"1\" class=\"dataframe\">\n",
              "  <thead>\n",
              "    <tr style=\"text-align: right;\">\n",
              "      <th></th>\n",
              "      <th>processed</th>\n",
              "    </tr>\n",
              "  </thead>\n",
              "  <tbody>\n",
              "    <tr>\n",
              "      <th>2</th>\n",
              "      <td>تحميلك للتطبيق بالخطأ يدخلك عزل لمدة ١٤ يوم بش...</td>\n",
              "    </tr>\n",
              "    <tr>\n",
              "      <th>3</th>\n",
              "      <td>يعمل يستجيب مرحلة التسجيل لايتم ارسال الكود</td>\n",
              "    </tr>\n",
              "    <tr>\n",
              "      <th>4</th>\n",
              "      <td>للأسف تطبيق سيئ جدا بقالي يومين بحاول اسجل يرس...</td>\n",
              "    </tr>\n",
              "    <tr>\n",
              "      <th>6</th>\n",
              "      <td>قدرت اسجل التطبيق اوصل ل آخر خطوه وهي كود التح...</td>\n",
              "    </tr>\n",
              "    <tr>\n",
              "      <th>7</th>\n",
              "      <td>نزلت البرنامج اكثر مره وسجلت بياناتي كلها لاني...</td>\n",
              "    </tr>\n",
              "    <tr>\n",
              "      <th>...</th>\n",
              "      <td>...</td>\n",
              "    </tr>\n",
              "    <tr>\n",
              "      <th>51760</th>\n",
              "      <td>استطع تسجيل جديد ورطونا بالاجازات المرضيه اطبع...</td>\n",
              "    </tr>\n",
              "    <tr>\n",
              "      <th>51761</th>\n",
              "      <td>التطبيق مهم ياريت تربطون الدخول بنفس بيانات ال...</td>\n",
              "    </tr>\n",
              "    <tr>\n",
              "      <th>51763</th>\n",
              "      <td>تجربة سيئة وتطبيق غبي أستطيع عمل التسجيل الجديد</td>\n",
              "    </tr>\n",
              "    <tr>\n",
              "      <th>51764</th>\n",
              "      <td>مشاكل استطيع اختيار المركز ابي اطلع الاجازة قد...</td>\n",
              "    </tr>\n",
              "    <tr>\n",
              "      <th>51765</th>\n",
              "      <td>تطبيق فاشل المدن موجوده والا الأحياء واضحه</td>\n",
              "    </tr>\n",
              "  </tbody>\n",
              "</table>\n",
              "<p>7785 rows × 1 columns</p>\n",
              "</div>"
            ],
            "text/plain": [
              "                                               processed\n",
              "2      تحميلك للتطبيق بالخطأ يدخلك عزل لمدة ١٤ يوم بش...\n",
              "3            يعمل يستجيب مرحلة التسجيل لايتم ارسال الكود\n",
              "4      للأسف تطبيق سيئ جدا بقالي يومين بحاول اسجل يرس...\n",
              "6      قدرت اسجل التطبيق اوصل ل آخر خطوه وهي كود التح...\n",
              "7      نزلت البرنامج اكثر مره وسجلت بياناتي كلها لاني...\n",
              "...                                                  ...\n",
              "51760  استطع تسجيل جديد ورطونا بالاجازات المرضيه اطبع...\n",
              "51761  التطبيق مهم ياريت تربطون الدخول بنفس بيانات ال...\n",
              "51763    تجربة سيئة وتطبيق غبي أستطيع عمل التسجيل الجديد\n",
              "51764  مشاكل استطيع اختيار المركز ابي اطلع الاجازة قد...\n",
              "51765         تطبيق فاشل المدن موجوده والا الأحياء واضحه\n",
              "\n",
              "[7785 rows x 1 columns]"
            ]
          },
          "metadata": {
            "tags": []
          },
          "execution_count": 73
        }
      ]
    },
    {
      "cell_type": "markdown",
      "metadata": {
        "id": "NC2YnicmF1Dh"
      },
      "source": [
        "# Phase5 : Word representation&hyperparameter tuning"
      ]
    },
    {
      "cell_type": "code",
      "metadata": {
        "id": "twaoeKQyNjSq"
      },
      "source": [
        "import pandas as pd\n",
        "import numpy as np\n",
        "import matplotlib.pyplot as plt\n",
        "import seaborn as sns\n",
        " \n",
        "plt.style.use('ggplot')\n",
        "sns.set(font_scale=1.5)\n",
        "%config InlineBackend.figure_format = 'retina'\n",
        "%matplotlib inline\n",
        "\n",
        "import warnings\n",
        "warnings.filterwarnings('ignore')\n",
        "import os, pickle, re, string\n",
        "from string import punctuation\n",
        "from nltk.corpus import stopwords\n",
        "# model imports\n",
        "from gensim.models.ldamulticore import LdaMulticore\n",
        "from gensim.models.word2vec import Word2Vec\n",
        "from sklearn.ensemble import RandomForestClassifier, AdaBoostClassifier\n",
        "from sklearn.linear_model import LogisticRegression\n",
        "# languange processing imports\n",
        "import nltk\n",
        "from gensim.corpora import Dictionary\n",
        "from collections import Counter\n",
        "\n",
        "import gensim\n",
        "from gensim.utils import simple_preprocess\n",
        "from gensim.parsing.preprocessing import STOPWORDS\n",
        "from nltk.stem import WordNetLemmatizer, SnowballStemmer\n",
        "from nltk.stem.porter import *"
      ],
      "execution_count": 1,
      "outputs": []
    },
    {
      "cell_type": "code",
      "metadata": {
        "id": "lQTaKxckNqeE"
      },
      "source": [
        "df = pd.read_csv(\"/content/split_dataset.csv\", sep=',' )"
      ],
      "execution_count": 2,
      "outputs": []
    },
    {
      "cell_type": "code",
      "metadata": {
        "colab": {
          "base_uri": "https://localhost:8080/",
          "height": 399
        },
        "id": "nkAy9WsEQ6de",
        "outputId": "3a684506-64bd-4d55-98e2-e33035896c80"
      },
      "source": [
        "processed_Review = pd.DataFrame(df, columns = ['processed'])\n",
        "processed_Review"
      ],
      "execution_count": 3,
      "outputs": [
        {
          "output_type": "execute_result",
          "data": {
            "text/html": [
              "<div>\n",
              "<style scoped>\n",
              "    .dataframe tbody tr th:only-of-type {\n",
              "        vertical-align: middle;\n",
              "    }\n",
              "\n",
              "    .dataframe tbody tr th {\n",
              "        vertical-align: top;\n",
              "    }\n",
              "\n",
              "    .dataframe thead th {\n",
              "        text-align: right;\n",
              "    }\n",
              "</style>\n",
              "<table border=\"1\" class=\"dataframe\">\n",
              "  <thead>\n",
              "    <tr style=\"text-align: right;\">\n",
              "      <th></th>\n",
              "      <th>processed</th>\n",
              "    </tr>\n",
              "  </thead>\n",
              "  <tbody>\n",
              "    <tr>\n",
              "      <th>0</th>\n",
              "      <td>تحميلك للتطبيق بالخطأ يدخلك عزل لمدة ١٤ يوم بش...</td>\n",
              "    </tr>\n",
              "    <tr>\n",
              "      <th>1</th>\n",
              "      <td>يعمل يستجيب مرحلة التسجيل لايتم ارسال الكود</td>\n",
              "    </tr>\n",
              "    <tr>\n",
              "      <th>2</th>\n",
              "      <td>للأسف تطبيق سيئ جدا بقالي يومين بحاول اسجل يرس...</td>\n",
              "    </tr>\n",
              "    <tr>\n",
              "      <th>3</th>\n",
              "      <td>قدرت اسجل التطبيق اوصل ل آخر خطوه وهي كود التح...</td>\n",
              "    </tr>\n",
              "    <tr>\n",
              "      <th>4</th>\n",
              "      <td>نزلت البرنامج اكثر مره وسجلت بياناتي كلها لاني...</td>\n",
              "    </tr>\n",
              "    <tr>\n",
              "      <th>...</th>\n",
              "      <td>...</td>\n",
              "    </tr>\n",
              "    <tr>\n",
              "      <th>7780</th>\n",
              "      <td>استطع تسجيل جديد ورطونا بالاجازات المرضيه اطبع...</td>\n",
              "    </tr>\n",
              "    <tr>\n",
              "      <th>7781</th>\n",
              "      <td>التطبيق مهم ياريت تربطون الدخول بنفس بيانات ال...</td>\n",
              "    </tr>\n",
              "    <tr>\n",
              "      <th>7782</th>\n",
              "      <td>تجربة سيئة وتطبيق غبي أستطيع عمل التسجيل الجديد</td>\n",
              "    </tr>\n",
              "    <tr>\n",
              "      <th>7783</th>\n",
              "      <td>مشاكل استطيع اختيار المركز ابي اطلع الاجازة قد...</td>\n",
              "    </tr>\n",
              "    <tr>\n",
              "      <th>7784</th>\n",
              "      <td>تطبيق فاشل المدن موجوده والا الأحياء واضحه</td>\n",
              "    </tr>\n",
              "  </tbody>\n",
              "</table>\n",
              "<p>7785 rows × 1 columns</p>\n",
              "</div>"
            ],
            "text/plain": [
              "                                              processed\n",
              "0     تحميلك للتطبيق بالخطأ يدخلك عزل لمدة ١٤ يوم بش...\n",
              "1           يعمل يستجيب مرحلة التسجيل لايتم ارسال الكود\n",
              "2     للأسف تطبيق سيئ جدا بقالي يومين بحاول اسجل يرس...\n",
              "3     قدرت اسجل التطبيق اوصل ل آخر خطوه وهي كود التح...\n",
              "4     نزلت البرنامج اكثر مره وسجلت بياناتي كلها لاني...\n",
              "...                                                 ...\n",
              "7780  استطع تسجيل جديد ورطونا بالاجازات المرضيه اطبع...\n",
              "7781  التطبيق مهم ياريت تربطون الدخول بنفس بيانات ال...\n",
              "7782    تجربة سيئة وتطبيق غبي أستطيع عمل التسجيل الجديد\n",
              "7783  مشاكل استطيع اختيار المركز ابي اطلع الاجازة قد...\n",
              "7784         تطبيق فاشل المدن موجوده والا الأحياء واضحه\n",
              "\n",
              "[7785 rows x 1 columns]"
            ]
          },
          "metadata": {
            "tags": []
          },
          "execution_count": 3
        }
      ]
    },
    {
      "cell_type": "code",
      "metadata": {
        "id": "Q1nYeLNIQ_Xn"
      },
      "source": [
        "processed_Review['processed'] = processed_Review['processed'].astype(str)"
      ],
      "execution_count": 4,
      "outputs": []
    },
    {
      "cell_type": "code",
      "metadata": {
        "colab": {
          "base_uri": "https://localhost:8080/"
        },
        "id": "Vwc6QgqyRCTN",
        "outputId": "a913f86d-5e19-4b5d-b1ee-4a0d952f00b6"
      },
      "source": [
        "import gensim\n",
        "from gensim.utils import simple_preprocess\n",
        "import nltk\n",
        "nltk.download('stopwords')\n",
        "from nltk.corpus import stopwords\n",
        "\n",
        "\n",
        "def sent_to_words(sentences):\n",
        "    for sentence in sentences:\n",
        "        # deacc=True removes punctuations\n",
        "        yield(gensim.utils.simple_preprocess(str(sentence), deacc=True))\n",
        "\n",
        "\n",
        "data = processed_Review.values.tolist()\n",
        "data_words = list(sent_to_words(data))"
      ],
      "execution_count": 5,
      "outputs": [
        {
          "output_type": "stream",
          "text": [
            "[nltk_data] Downloading package stopwords to /root/nltk_data...\n",
            "[nltk_data]   Unzipping corpora/stopwords.zip.\n"
          ],
          "name": "stdout"
        }
      ]
    },
    {
      "cell_type": "code",
      "metadata": {
        "id": "ScDpkyXvRS-x"
      },
      "source": [
        "#create bag of word \n",
        "words = []\n",
        "\n",
        "for i in processed_Review['processed']:\n",
        "  words.append(i.split(' '))"
      ],
      "execution_count": 6,
      "outputs": []
    },
    {
      "cell_type": "code",
      "metadata": {
        "colab": {
          "base_uri": "https://localhost:8080/"
        },
        "id": "rFgRC-zNRYLT",
        "outputId": "af12a2b5-cba8-4011-8bd6-b053aa4b6b8f"
      },
      "source": [
        "dictionary = gensim.corpora.Dictionary(words)\n",
        "\n",
        "count = 0\n",
        "for k, v in dictionary.iteritems():\n",
        "  print(k, v)\n",
        "  count += 1\n",
        "  if count > 10:\n",
        "    break"
      ],
      "execution_count": 7,
      "outputs": [
        {
          "output_type": "stream",
          "text": [
            "0 إصابتك\n",
            "1 اشتباه\n",
            "2 البرامج\n",
            "3 باصابتك\n",
            "4 بالخطأ\n",
            "5 بشكل\n",
            "6 تحميلك\n",
            "7 تلقائي\n",
            "8 حذفته\n",
            "9 صحتي\n",
            "10 عزل\n"
          ],
          "name": "stdout"
        }
      ]
    },
    {
      "cell_type": "code",
      "metadata": {
        "id": "0bJC29hVRkdU"
      },
      "source": [
        "## Filter out tokens in the dictionary by their frequency.\n",
        "dictionary.filter_extremes(no_below=15, no_above=0.5, keep_n=100000)"
      ],
      "execution_count": 8,
      "outputs": []
    },
    {
      "cell_type": "code",
      "metadata": {
        "colab": {
          "base_uri": "https://localhost:8080/"
        },
        "id": "4UBo5FY0Roi6",
        "outputId": "f6c98289-516b-40c2-b8e0-8c035c28c628"
      },
      "source": [
        "#Create Corpus -> term document frequency\n",
        "bow_corpus = [dictionary.doc2bow(doc) for doc in words]\n",
        "bow_corpus[7781]"
      ],
      "execution_count": 9,
      "outputs": [
        {
          "output_type": "execute_result",
          "data": {
            "text/plain": [
              "[(24, 1),\n",
              " (140, 2),\n",
              " (159, 1),\n",
              " (161, 1),\n",
              " (200, 1),\n",
              " (344, 1),\n",
              " (354, 1),\n",
              " (554, 1),\n",
              " (561, 1),\n",
              " (672, 1)]"
            ]
          },
          "metadata": {
            "tags": []
          },
          "execution_count": 9
        }
      ]
    },
    {
      "cell_type": "code",
      "metadata": {
        "colab": {
          "base_uri": "https://localhost:8080/"
        },
        "id": "0XuDJLBVRshi",
        "outputId": "af2b5139-fd23-486d-af2d-08dbd5855334"
      },
      "source": [
        "bow_doc_7781 = bow_corpus[7781]\n",
        "\n",
        "for i in range(len(bow_doc_7781)):\n",
        "  print(\"Word {} (\\\"{}\\\") appears {} time.\".format(bow_doc_7781[i][0], \n",
        "                                                   dictionary[bow_doc_7781[i][0]], bow_doc_7781[i][1]))"
      ],
      "execution_count": 10,
      "outputs": [
        {
          "output_type": "stream",
          "text": [
            "Word 24 (\"التطبيق\") appears 1 time.\n",
            "Word 140 (\"الدخول\") appears 2 time.\n",
            "Word 159 (\"مشكلة\") appears 1 time.\n",
            "Word 161 (\"يوجد\") appears 1 time.\n",
            "Word 200 (\"تسجيل\") appears 1 time.\n",
            "Word 344 (\"مستخدم\") appears 1 time.\n",
            "Word 354 (\"بنفس\") appears 1 time.\n",
            "Word 554 (\"مهم\") appears 1 time.\n",
            "Word 561 (\"ياريت\") appears 1 time.\n",
            "Word 672 (\"بيانات\") appears 1 time.\n"
          ],
          "name": "stdout"
        }
      ]
    },
    {
      "cell_type": "code",
      "metadata": {
        "id": "T5hhiPG_Rxkq"
      },
      "source": [
        "def document_to_bow(processed):\n",
        "  bow_corpus = [dictionary.doc2bow(doc) for doc in words]\n",
        "  processed['bow'] = list(map(lambda doc: bow_doc_7781 , processed_Review.processed))\n",
        "    \n",
        "document_to_bow(processed_Review)"
      ],
      "execution_count": 11,
      "outputs": []
    },
    {
      "cell_type": "code",
      "metadata": {
        "id": "m_FN-UBGRzAo"
      },
      "source": [
        "#tf-idf corpus\n",
        "from gensim import corpora, models\n",
        "\n",
        "tfidf = models.TfidfModel(bow_corpus)"
      ],
      "execution_count": 12,
      "outputs": []
    },
    {
      "cell_type": "code",
      "metadata": {
        "id": "F0U77IyiR6-a"
      },
      "source": [
        "corpus_tfidf = tfidf[bow_corpus]"
      ],
      "execution_count": 13,
      "outputs": []
    },
    {
      "cell_type": "code",
      "metadata": {
        "colab": {
          "base_uri": "https://localhost:8080/"
        },
        "id": "03l2UQYmR8eb",
        "outputId": "0b8d3ce7-7399-4c8c-f37b-e8875a6091ac"
      },
      "source": [
        "from pprint import pprint\n",
        "\n",
        "for doc in corpus_tfidf:\n",
        "    pprint(doc)\n",
        "    break"
      ],
      "execution_count": 14,
      "outputs": [
        {
          "output_type": "stream",
          "text": [
            "[(0, 0.3722194561401363),\n",
            " (1, 0.2650684574335239),\n",
            " (2, 0.3238854836623631),\n",
            " (3, 0.3418369049976069),\n",
            " (4, 0.330763757046554),\n",
            " (5, 0.3844290820845282),\n",
            " (6, 0.29020558587261963),\n",
            " (7, 0.26153123977645804),\n",
            " (8, 0.39953580517948745)]\n"
          ],
          "name": "stdout"
        }
      ]
    },
    {
      "cell_type": "code",
      "metadata": {
        "id": "wMvIy2nSFumc"
      },
      "source": [
        "#this cell will run  througth diffrent alpha and beta and k range between  2 to 11 and calculate the coherance score\n",
        "#we get exel file then we check the highest values for each K\n",
        "\n",
        "import numpy as np\n",
        "import tqdm\n",
        "grid = {}\n",
        "grid['Validation_Set'] = {}\n",
        "# Topics range\n",
        "min_topics = 2\n",
        "max_topics = 11\n",
        "step_size = 1\n",
        "topics_range = range(min_topics, max_topics, step_size)\n",
        "# Alpha parameter\n",
        "alpha = list(np.arange(0.01, 1, 0.3))\n",
        "alpha.append('symmetric')\n",
        "alpha.append('asymmetric')\n",
        "# Beta parameter\n",
        "beta = list(np.arange(0.01, 1, 0.3))\n",
        "beta.append('symmetric')\n",
        "# Validation sets\n",
        "num_of_docs = len(corpus)\n",
        "corpus_sets = [# gensim.utils.ClippedCorpus(corpus, num_of_docs*0.25), \n",
        "               # gensim.utils.ClippedCorpus(corpus, num_of_docs*0.5), \n",
        "               gensim.utils.ClippedCorpus(corpus, int(num_of_docs*0.75)), \n",
        "               corpus]\n",
        "corpus_title = ['75% Corpus', '100% Corpus']\n",
        "model_results = {'Validation_Set': [],\n",
        "                 'Topics': [],\n",
        "                 'Alpha': [],\n",
        "                 'Beta': [],\n",
        "                 'Coherence': []\n",
        "                }\n",
        "# Can take a long time to run\n",
        "if 1 == 1:\n",
        "    pbar = tqdm.tqdm(total=540)\n",
        "    \n",
        "    # iterate through validation corpuses\n",
        "    for i in range(len(corpus_sets)):\n",
        "        # iterate through number of topics\n",
        "        for k in topics_range:\n",
        "            # iterate through alpha values\n",
        "            for a in alpha:\n",
        "                # iterare through beta values\n",
        "                for b in beta:\n",
        "                    # get the coherence score for the given parameters\n",
        "                    cv = compute_coherence_values(corpus=corpus_sets[i], dictionary=id2word, \n",
        "                                                  k=k, a=a, b=b)\n",
        "                    # Save the model results\n",
        "                    model_results['Validation_Set'].append(corpus_title[i])\n",
        "                    model_results['Topics'].append(k)\n",
        "                    model_results['Alpha'].append(a)\n",
        "                    model_results['Beta'].append(b)\n",
        "                    model_results['Coherence'].append(cv)\n",
        "                    \n",
        "                    pbar.update(1)\n",
        "    pd.DataFrame(model_results).to_csv('lda_tuning_results.csv', index=False , encoding=\"utf-8-sig\")\n",
        "    pbar.close()"
      ],
      "execution_count": null,
      "outputs": []
    },
    {
      "cell_type": "markdown",
      "metadata": {
        "id": "k0rAki7-Sf58"
      },
      "source": [
        "# Phase6 : Modeling "
      ]
    },
    {
      "cell_type": "code",
      "metadata": {
        "id": "P92zX73gSmpE"
      },
      "source": [
        "## for our modeling we get appropriate number for topics is 5 and alpha =symmetric , beta=0.91\n",
        "lda_model_tfidf = gensim.models.LdaMulticore(corpus_tfidf, num_topics=5, id2word=dictionary, alpha='symmetric', eta=0.91)\n"
      ],
      "execution_count": 48,
      "outputs": []
    },
    {
      "cell_type": "code",
      "metadata": {
        "colab": {
          "base_uri": "https://localhost:8080/"
        },
        "id": "Vh2FtVcJTCm3",
        "outputId": "dfb106f5-c4a4-4b1a-a5ba-c5f4afdac43a"
      },
      "source": [
        "for idx, topic in lda_model_tfidf.print_topics(-1):\n",
        "    print('Topic: {} \\nWords: {}'.format(idx, topic))"
      ],
      "execution_count": 49,
      "outputs": [
        {
          "output_type": "stream",
          "text": [
            "Topic: 0 \n",
            "Words: 0.014*\"الله\" + 0.011*\"التطبيق\" + 0.009*\"التسجيل\" + 0.009*\"لايعمل\" + 0.008*\"برنامج\" + 0.008*\"تسجيل\" + 0.007*\"تطبيق\" + 0.006*\"التابعين\" + 0.006*\"يوجد\" + 0.006*\"اكثر\"\n",
            "Topic: 1 \n",
            "Words: 0.020*\"التسجيل\" + 0.014*\"التطبيق\" + 0.012*\"يقبل\" + 0.010*\"الموقع\" + 0.009*\"و\" + 0.008*\"البرنامج\" + 0.007*\"تسجيل\" + 0.007*\"الدخول\" + 0.007*\"سيء\" + 0.007*\"رقم\"\n",
            "Topic: 2 \n",
            "Words: 0.011*\"موعد\" + 0.010*\"التطبيق\" + 0.009*\"استطيع\" + 0.009*\"البرنامج\" + 0.009*\"التحديث\" + 0.008*\"التسجيل\" + 0.006*\"او\" + 0.006*\"سيء\" + 0.006*\"حل\" + 0.006*\"تطبيق\"\n",
            "Topic: 3 \n",
            "Words: 0.031*\"جدا\" + 0.018*\"يعمل\" + 0.016*\"التطبيق\" + 0.016*\"فاشل\" + 0.011*\"سيئ\" + 0.010*\"تطبيق\" + 0.010*\"البرنامج\" + 0.009*\"يعلق\" + 0.009*\"سيء\" + 0.009*\"برنامج\"\n",
            "Topic: 4 \n",
            "Words: 0.023*\"يعمل\" + 0.020*\"تطبيق\" + 0.020*\"التطبيق\" + 0.016*\"البرنامج\" + 0.012*\"ممتاز\" + 0.011*\"جدا\" + 0.008*\"يقول\" + 0.008*\"يشتغل\" + 0.008*\"الله\" + 0.008*\"خطأ\"\n"
          ],
          "name": "stdout"
        }
      ]
    },
    {
      "cell_type": "markdown",
      "metadata": {
        "id": "dwpB6LN2XrPo"
      },
      "source": [
        "# Phase7 : Performance evaluation"
      ]
    },
    {
      "cell_type": "code",
      "metadata": {
        "colab": {
          "base_uri": "https://localhost:8080/",
          "height": 36
        },
        "id": "KGSwyHRBXuyk",
        "outputId": "cb773d83-b739-44b8-c2d5-e178bf014dc1"
      },
      "source": [
        "processed_docs = df['stem_meaningful']\n",
        "processed_docs[50]"
      ],
      "execution_count": 50,
      "outputs": [
        {
          "output_type": "execute_result",
          "data": {
            "application/vnd.google.colaboratory.intrinsic+json": {
              "type": "string"
            },
            "text/plain": [
              "\"['يوجد', 'مشكله', 'بموضوع', 'الاستبيان', 'بالنسبه', 'لجهاز', 'اندرويد', 'التطبيق', 'بفتح', 'مباشره', 'صفحة', 'استبيان', 'اليوم', 'يوجد', 'اي', 'معلومات', 'او', 'استبيان', 'لتعبئة']\""
            ]
          },
          "metadata": {
            "tags": []
          },
          "execution_count": 50
        }
      ]
    },
    {
      "cell_type": "code",
      "metadata": {
        "colab": {
          "base_uri": "https://localhost:8080/"
        },
        "id": "X5vWXIvkX0Pc",
        "outputId": "2e131a40-e649-4db6-ede9-58d0b4ef7145"
      },
      "source": [
        "for index, score in sorted(lda_model_tfidf[corpus_tfidf[50]], key=lambda tup: -1*tup[1]):\n",
        "    print(\"\\nScore: {}\\t \\nTopic: {}\".format(score, lda_model_tfidf.print_topic(index, 10)))"
      ],
      "execution_count": 51,
      "outputs": [
        {
          "output_type": "stream",
          "text": [
            "\n",
            "Score: 0.7947817444801331\t \n",
            "Topic: 0.014*\"الله\" + 0.011*\"التطبيق\" + 0.009*\"التسجيل\" + 0.009*\"لايعمل\" + 0.008*\"برنامج\" + 0.008*\"تسجيل\" + 0.007*\"تطبيق\" + 0.006*\"التابعين\" + 0.006*\"يوجد\" + 0.006*\"اكثر\"\n",
            "\n",
            "Score: 0.05167415738105774\t \n",
            "Topic: 0.011*\"موعد\" + 0.010*\"التطبيق\" + 0.009*\"استطيع\" + 0.009*\"البرنامج\" + 0.009*\"التحديث\" + 0.008*\"التسجيل\" + 0.006*\"او\" + 0.006*\"سيء\" + 0.006*\"حل\" + 0.006*\"تطبيق\"\n",
            "\n",
            "Score: 0.05150705948472023\t \n",
            "Topic: 0.031*\"جدا\" + 0.018*\"يعمل\" + 0.016*\"التطبيق\" + 0.016*\"فاشل\" + 0.011*\"سيئ\" + 0.010*\"تطبيق\" + 0.010*\"البرنامج\" + 0.009*\"يعلق\" + 0.009*\"سيء\" + 0.009*\"برنامج\"\n",
            "\n",
            "Score: 0.051051970571279526\t \n",
            "Topic: 0.023*\"يعمل\" + 0.020*\"تطبيق\" + 0.020*\"التطبيق\" + 0.016*\"البرنامج\" + 0.012*\"ممتاز\" + 0.011*\"جدا\" + 0.008*\"يقول\" + 0.008*\"يشتغل\" + 0.008*\"الله\" + 0.008*\"خطأ\"\n",
            "\n",
            "Score: 0.050985101610422134\t \n",
            "Topic: 0.020*\"التسجيل\" + 0.014*\"التطبيق\" + 0.012*\"يقبل\" + 0.010*\"الموقع\" + 0.009*\"و\" + 0.008*\"البرنامج\" + 0.007*\"تسجيل\" + 0.007*\"الدخول\" + 0.007*\"سيء\" + 0.007*\"رقم\"\n"
          ],
          "name": "stdout"
        }
      ]
    },
    {
      "cell_type": "code",
      "metadata": {
        "colab": {
          "base_uri": "https://localhost:8080/"
        },
        "id": "BkA0d7fwYLKg",
        "outputId": "e03b80f5-f507-49d4-93dd-cf8afd77fb4e"
      },
      "source": [
        "unseen_review = 'التطبيق يرفض تسجيل الدخول'\n",
        "#Tokenize the unseen review into words\n",
        "tokens = [word for word in unseen_review.split()]\n",
        "bow_vector = dictionary.doc2bow((tokens))\n",
        "\n",
        "for index, score in sorted(lda_model_tfidf[bow_vector], key=lambda tup: -1*tup[1]):\n",
        "    print(\"Score: {}\\t Topic: {}\".format(score, lda_model_tfidf.print_topic(index, 5)))"
      ],
      "execution_count": 52,
      "outputs": [
        {
          "output_type": "stream",
          "text": [
            "Score: 0.8367956280708313\t Topic: 0.020*\"التسجيل\" + 0.014*\"التطبيق\" + 0.012*\"يقبل\" + 0.010*\"الموقع\" + 0.009*\"و\"\n",
            "Score: 0.04087464511394501\t Topic: 0.014*\"الله\" + 0.011*\"التطبيق\" + 0.009*\"التسجيل\" + 0.009*\"لايعمل\" + 0.008*\"برنامج\"\n",
            "Score: 0.04086877405643463\t Topic: 0.031*\"جدا\" + 0.018*\"يعمل\" + 0.016*\"التطبيق\" + 0.016*\"فاشل\" + 0.011*\"سيئ\"\n",
            "Score: 0.0407775454223156\t Topic: 0.023*\"يعمل\" + 0.020*\"تطبيق\" + 0.020*\"التطبيق\" + 0.016*\"البرنامج\" + 0.012*\"ممتاز\"\n",
            "Score: 0.040683455765247345\t Topic: 0.011*\"موعد\" + 0.010*\"التطبيق\" + 0.009*\"استطيع\" + 0.009*\"البرنامج\" + 0.009*\"التحديث\"\n"
          ],
          "name": "stdout"
        }
      ]
    },
    {
      "cell_type": "code",
      "metadata": {
        "colab": {
          "base_uri": "https://localhost:8080/"
        },
        "id": "kJy_9S0vcqrV",
        "outputId": "ede0bfeb-5e36-437e-c82e-8dd2e60d0132"
      },
      "source": [
        "unseen_review = 'االتطبيق مشكله فنيه يغلق نفسه  '\n",
        "#Tokenize the unseen review into words\n",
        "tokens = [word for word in unseen_review.split()]\n",
        "bow_vector = dictionary.doc2bow((tokens))\n",
        "\n",
        "for index, score in sorted(lda_model_tfidf[bow_vector], key=lambda tup: -1*tup[1]):\n",
        "    print(\"Score: {}\\t Topic: {}\".format(score, lda_model_tfidf.print_topic(index, 5)))"
      ],
      "execution_count": 53,
      "outputs": [
        {
          "output_type": "stream",
          "text": [
            "Score: 0.7981973886489868\t Topic: 0.031*\"جدا\" + 0.018*\"يعمل\" + 0.016*\"التطبيق\" + 0.016*\"فاشل\" + 0.011*\"سيئ\"\n",
            "Score: 0.050661176443099976\t Topic: 0.020*\"التسجيل\" + 0.014*\"التطبيق\" + 0.012*\"يقبل\" + 0.010*\"الموقع\" + 0.009*\"و\"\n",
            "Score: 0.05042291805148125\t Topic: 0.023*\"يعمل\" + 0.020*\"تطبيق\" + 0.020*\"التطبيق\" + 0.016*\"البرنامج\" + 0.012*\"ممتاز\"\n",
            "Score: 0.05037877708673477\t Topic: 0.014*\"الله\" + 0.011*\"التطبيق\" + 0.009*\"التسجيل\" + 0.009*\"لايعمل\" + 0.008*\"برنامج\"\n",
            "Score: 0.05033966153860092\t Topic: 0.011*\"موعد\" + 0.010*\"التطبيق\" + 0.009*\"استطيع\" + 0.009*\"البرنامج\" + 0.009*\"التحديث\"\n"
          ],
          "name": "stdout"
        }
      ]
    }
  ]
}