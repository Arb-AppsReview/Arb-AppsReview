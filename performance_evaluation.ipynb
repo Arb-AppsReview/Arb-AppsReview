{
  "nbformat": 4,
  "nbformat_minor": 0,
  "metadata": {
    "colab": {
      "name": "performance evaluation.ipynb",
      "provenance": [],
      "collapsed_sections": [
        "6DEcbNgFT_lJ"
      ],
      "authorship_tag": "ABX9TyMlaSSxeGlv8YSortU2Naoe"
    },
    "kernelspec": {
      "name": "python3",
      "display_name": "Python 3"
    },
    "language_info": {
      "name": "python"
    }
  },
  "cells": [
    {
      "cell_type": "code",
      "metadata": {
        "id": "pvjXuBp0D4Fu"
      },
      "source": [
        "import pandas as pd\n",
        "import numpy as np\n",
        "import matplotlib.pyplot as plt\n",
        "import seaborn as sns\n",
        " \n",
        "plt.style.use('ggplot')\n",
        "sns.set(font_scale=1.5)\n",
        "%config InlineBackend.figure_format = 'retina'\n",
        "%matplotlib inline\n",
        "\n",
        "import warnings\n",
        "warnings.filterwarnings('ignore')\n",
        "import os, pickle, re, string\n",
        "from string import punctuation\n",
        "from nltk.corpus import stopwords\n",
        "# model imports\n",
        "from gensim.models.ldamulticore import LdaMulticore\n",
        "from gensim.models.word2vec import Word2Vec\n",
        "from sklearn.ensemble import RandomForestClassifier, AdaBoostClassifier\n",
        "from sklearn.linear_model import LogisticRegression\n",
        "# languange processing imports\n",
        "import nltk\n",
        "from gensim.corpora import Dictionary\n",
        "from collections import Counter\n",
        "\n",
        "import gensim\n",
        "from gensim.utils import simple_preprocess\n",
        "from gensim.parsing.preprocessing import STOPWORDS\n",
        "from nltk.stem import WordNetLemmatizer, SnowballStemmer\n",
        "from nltk.stem.porter import *"
      ],
      "execution_count": null,
      "outputs": []
    },
    {
      "cell_type": "code",
      "metadata": {
        "colab": {
          "base_uri": "https://localhost:8080/"
        },
        "id": "gGroRXYxMkuh",
        "outputId": "3000fd87-ca6a-46a8-861f-0906cadb16a3"
      },
      "source": [
        "import nltk\n",
        "nltk.download('punkt')\n",
        "nltk.download('stopwords')"
      ],
      "execution_count": null,
      "outputs": [
        {
          "output_type": "stream",
          "text": [
            "[nltk_data] Downloading package punkt to /root/nltk_data...\n",
            "[nltk_data]   Unzipping tokenizers/punkt.zip.\n",
            "[nltk_data] Downloading package stopwords to /root/nltk_data...\n",
            "[nltk_data]   Unzipping corpora/stopwords.zip.\n"
          ],
          "name": "stdout"
        },
        {
          "output_type": "execute_result",
          "data": {
            "text/plain": [
              "True"
            ]
          },
          "metadata": {
            "tags": []
          },
          "execution_count": 2
        }
      ]
    },
    {
      "cell_type": "code",
      "metadata": {
        "id": "6Z61UVM8Oxm2"
      },
      "source": [
        "df = pd.read_csv(\"/content/split_dataset.csv\", sep=',' )"
      ],
      "execution_count": null,
      "outputs": []
    },
    {
      "cell_type": "code",
      "metadata": {
        "colab": {
          "base_uri": "https://localhost:8080/",
          "height": 407
        },
        "id": "2t9VCwgEO0tk",
        "outputId": "187e62f2-d912-45ff-d7a4-7dda0d9148ea"
      },
      "source": [
        "processed_Review = pd.DataFrame(df, columns = ['processed'])\n",
        "processed_Review"
      ],
      "execution_count": null,
      "outputs": [
        {
          "output_type": "execute_result",
          "data": {
            "text/html": [
              "<div>\n",
              "<style scoped>\n",
              "    .dataframe tbody tr th:only-of-type {\n",
              "        vertical-align: middle;\n",
              "    }\n",
              "\n",
              "    .dataframe tbody tr th {\n",
              "        vertical-align: top;\n",
              "    }\n",
              "\n",
              "    .dataframe thead th {\n",
              "        text-align: right;\n",
              "    }\n",
              "</style>\n",
              "<table border=\"1\" class=\"dataframe\">\n",
              "  <thead>\n",
              "    <tr style=\"text-align: right;\">\n",
              "      <th></th>\n",
              "      <th>processed</th>\n",
              "    </tr>\n",
              "  </thead>\n",
              "  <tbody>\n",
              "    <tr>\n",
              "      <th>0</th>\n",
              "      <td>تحميلك للتطبيق بالخطأ يدخلك عزل لمدة ١٤ يوم بش...</td>\n",
              "    </tr>\n",
              "    <tr>\n",
              "      <th>1</th>\n",
              "      <td>يعمل يستجيب مرحلة التسجيل لايتم ارسال الكود</td>\n",
              "    </tr>\n",
              "    <tr>\n",
              "      <th>2</th>\n",
              "      <td>للأسف تطبيق سيئ جدا بقالي يومين بحاول اسجل يرس...</td>\n",
              "    </tr>\n",
              "    <tr>\n",
              "      <th>3</th>\n",
              "      <td>قدرت اسجل التطبيق اوصل ل آخر خطوه وهي كود التح...</td>\n",
              "    </tr>\n",
              "    <tr>\n",
              "      <th>4</th>\n",
              "      <td>نزلت البرنامج اكثر مره وسجلت بياناتي كلها لاني...</td>\n",
              "    </tr>\n",
              "    <tr>\n",
              "      <th>...</th>\n",
              "      <td>...</td>\n",
              "    </tr>\n",
              "    <tr>\n",
              "      <th>7780</th>\n",
              "      <td>استطع تسجيل جديد ورطونا بالاجازات المرضيه اطبع...</td>\n",
              "    </tr>\n",
              "    <tr>\n",
              "      <th>7781</th>\n",
              "      <td>التطبيق مهم ياريت تربطون الدخول بنفس بيانات ال...</td>\n",
              "    </tr>\n",
              "    <tr>\n",
              "      <th>7782</th>\n",
              "      <td>تجربة سيئة وتطبيق غبي أستطيع عمل التسجيل الجديد</td>\n",
              "    </tr>\n",
              "    <tr>\n",
              "      <th>7783</th>\n",
              "      <td>مشاكل استطيع اختيار المركز ابي اطلع الاجازة قد...</td>\n",
              "    </tr>\n",
              "    <tr>\n",
              "      <th>7784</th>\n",
              "      <td>تطبيق فاشل المدن موجوده والا الأحياء واضحه</td>\n",
              "    </tr>\n",
              "  </tbody>\n",
              "</table>\n",
              "<p>7785 rows × 1 columns</p>\n",
              "</div>"
            ],
            "text/plain": [
              "                                              processed\n",
              "0     تحميلك للتطبيق بالخطأ يدخلك عزل لمدة ١٤ يوم بش...\n",
              "1           يعمل يستجيب مرحلة التسجيل لايتم ارسال الكود\n",
              "2     للأسف تطبيق سيئ جدا بقالي يومين بحاول اسجل يرس...\n",
              "3     قدرت اسجل التطبيق اوصل ل آخر خطوه وهي كود التح...\n",
              "4     نزلت البرنامج اكثر مره وسجلت بياناتي كلها لاني...\n",
              "...                                                 ...\n",
              "7780  استطع تسجيل جديد ورطونا بالاجازات المرضيه اطبع...\n",
              "7781  التطبيق مهم ياريت تربطون الدخول بنفس بيانات ال...\n",
              "7782    تجربة سيئة وتطبيق غبي أستطيع عمل التسجيل الجديد\n",
              "7783  مشاكل استطيع اختيار المركز ابي اطلع الاجازة قد...\n",
              "7784         تطبيق فاشل المدن موجوده والا الأحياء واضحه\n",
              "\n",
              "[7785 rows x 1 columns]"
            ]
          },
          "metadata": {
            "tags": []
          },
          "execution_count": 4
        }
      ]
    },
    {
      "cell_type": "code",
      "metadata": {
        "id": "aZ645mFDQzUM"
      },
      "source": [
        "processed_Review['processed'] = processed_Review['processed'].astype(str)"
      ],
      "execution_count": null,
      "outputs": []
    },
    {
      "cell_type": "code",
      "metadata": {
        "colab": {
          "base_uri": "https://localhost:8080/"
        },
        "id": "bhaCWRtfQ4fU",
        "outputId": "5a77f24e-586f-46e3-c7f3-0f0f4eecccc2"
      },
      "source": [
        "import gensim\n",
        "from gensim.utils import simple_preprocess\n",
        "import nltk\n",
        "nltk.download('stopwords')\n",
        "from nltk.corpus import stopwords\n",
        "\n",
        "\n",
        "def sent_to_words(sentences):\n",
        "    for sentence in sentences:\n",
        "        # deacc=True removes punctuations\n",
        "        yield(gensim.utils.simple_preprocess(str(sentence), deacc=True))\n",
        "\n",
        "\n",
        "data = processed_Review.values.tolist()\n",
        "data_words = list(sent_to_words(data))"
      ],
      "execution_count": null,
      "outputs": [
        {
          "output_type": "stream",
          "text": [
            "[nltk_data] Downloading package stopwords to /root/nltk_data...\n",
            "[nltk_data]   Package stopwords is already up-to-date!\n"
          ],
          "name": "stdout"
        }
      ]
    },
    {
      "cell_type": "markdown",
      "metadata": {
        "id": "PxBWAuCSRIeW"
      },
      "source": [
        "# Create dictianry and corpus"
      ]
    },
    {
      "cell_type": "code",
      "metadata": {
        "colab": {
          "base_uri": "https://localhost:8080/"
        },
        "id": "FDGxud-dRCho",
        "outputId": "6d49820f-5d6a-4145-a1e2-949a36958ba7"
      },
      "source": [
        "# use Gensim to create a dictionary \n",
        "import gensim.corpora as corpora\n",
        "\n",
        "# Create Dictionary\n",
        "id2word = corpora.Dictionary(data_words)\n",
        "\n",
        "# Create Corpus\n",
        "texts = data_words\n",
        "\n",
        "# Term Document Frequency\n",
        "corpus = [id2word.doc2bow(text) for text in texts]\n",
        "\n",
        "print('Number of unique tokens: %d' % len(data_words))\n",
        "print('Number of documents: %d' % len(corpus))\n",
        "\n",
        "\n",
        "# View\n",
        "print(corpus[:1][0][:30])"
      ],
      "execution_count": null,
      "outputs": [
        {
          "output_type": "stream",
          "text": [
            "Number of unique tokens: 7785\n",
            "Number of documents: 7785\n",
            "[(0, 2), (1, 1), (2, 1), (3, 1), (4, 1), (5, 1), (6, 1), (7, 1), (8, 1), (9, 1), (10, 1), (11, 1), (12, 1), (13, 1), (14, 1), (15, 1), (16, 1), (17, 1), (18, 1), (19, 1), (20, 1)]\n"
          ],
          "name": "stdout"
        }
      ]
    },
    {
      "cell_type": "code",
      "metadata": {
        "colab": {
          "base_uri": "https://localhost:8080/"
        },
        "id": "xsOb_vtVRY_s",
        "outputId": "970c64e7-3b29-414d-9c2d-73d5475c3c76"
      },
      "source": [
        "lda_model = gensim.models.LdaMulticore(corpus=corpus,\n",
        "                                           id2word=id2word,\n",
        "                                           num_topics=5, \n",
        "                                           alpha='symmetric',\n",
        "                                       chunksize=100,\n",
        "                                       passes=1,\n",
        "                                       per_word_topics=True,\n",
        "                                           eta=0.91)\n",
        "from pprint import pprint\n",
        "# Print the Keyword in the  topics\n",
        "pprint(lda_model.print_topics())\n",
        "doc_lda = lda_model[corpus]"
      ],
      "execution_count": null,
      "outputs": [
        {
          "output_type": "stream",
          "text": [
            "[(0,\n",
            "  '0.019*\"التسجيل\" + 0.018*\"التطبيق\" + 0.013*\"خطا\" + 0.012*\"البرنامج\" + '\n",
            "  '0.010*\"يقول\" + 0.009*\"الدخول\" + 0.008*\"تسجيل\" + 0.006*\"الخادم\" + '\n",
            "  '0.006*\"اسجل\" + 0.006*\"جديد\"'),\n",
            " (1,\n",
            "  '0.005*\"موعد\" + 0.003*\"فقط\" + 0.003*\"اختيار\" + 0.003*\"تستطيع\" + 0.003*\"خدمة\" '\n",
            "  '+ 0.002*\"وزارة\" + 0.002*\"الوقت\" + 0.002*\"المدينة\" + 0.002*\"مركز\" + '\n",
            "  '0.002*\"يعطيك\"'),\n",
            " (2,\n",
            "  '0.012*\"كلمة\" + 0.009*\"المرور\" + 0.007*\"الموقع\" + 0.005*\"يطلب\" + '\n",
            "  '0.005*\"تحديد\" + 0.003*\"عدم\" + 0.003*\"زي\" + 0.003*\"المرضية\" + '\n",
            "  '0.003*\"الاجازات\" + 0.002*\"السر\"'),\n",
            " (3,\n",
            "  '0.012*\"الله\" + 0.009*\"نجمه\" + 0.004*\"راضي\" + 0.003*\"مو\" + 0.003*\"ليه\" + '\n",
            "  '0.003*\"العظيم\" + 0.002*\"ونعم\" + 0.002*\"بالله\" + 0.002*\"الوكيل\" + '\n",
            "  '0.002*\"حسبي\"'),\n",
            " (4,\n",
            "  '0.031*\"جدا\" + 0.024*\"تطبيق\" + 0.020*\"التطبيق\" + 0.012*\"سيء\" + 0.011*\"يعمل\" '\n",
            "  '+ 0.011*\"فاشل\" + 0.010*\"برنامج\" + 0.009*\"موعد\" + 0.009*\"سيي\" + '\n",
            "  '0.007*\"البرنامج\"')]\n"
          ],
          "name": "stdout"
        }
      ]
    },
    {
      "cell_type": "code",
      "metadata": {
        "id": "q69z2-wqafW0"
      },
      "source": [
        "from gensim.models.coherencemodel import CoherenceModel"
      ],
      "execution_count": null,
      "outputs": []
    },
    {
      "cell_type": "code",
      "metadata": {
        "colab": {
          "base_uri": "https://localhost:8080/"
        },
        "id": "j9Jfvc6HaQnC",
        "outputId": "b8e801f0-6d00-4298-8b34-0dd3d536b682"
      },
      "source": [
        "# Compute Coherence Score using c_v\n",
        "coherence_model_lda = CoherenceModel(model=lda_model, texts=texts, dictionary=id2word, coherence='c_v')\n",
        "coherence_lda = coherence_model_lda.get_coherence()\n",
        "print('\\nCoherence Score: ', coherence_lda)"
      ],
      "execution_count": null,
      "outputs": [
        {
          "output_type": "stream",
          "text": [
            "\n",
            "Coherence Score:  0.3374948428116665\n"
          ],
          "name": "stdout"
        }
      ]
    },
    {
      "cell_type": "markdown",
      "metadata": {
        "id": "h8oboC5pSVCS"
      },
      "source": [
        "# Bag of Words"
      ]
    },
    {
      "cell_type": "code",
      "metadata": {
        "id": "xCgmwU5JSOXp"
      },
      "source": [
        "words = []\n",
        "\n",
        "for i in processed_Review['processed']:\n",
        "  words.append(i.split(' '))"
      ],
      "execution_count": null,
      "outputs": []
    },
    {
      "cell_type": "code",
      "metadata": {
        "colab": {
          "base_uri": "https://localhost:8080/"
        },
        "id": "Yeg2Fm-HSd1u",
        "outputId": "940e0ad2-e33c-4e57-dd0e-dccd18ccb763"
      },
      "source": [
        "dictionary = gensim.corpora.Dictionary(words)\n",
        "\n",
        "count = 0\n",
        "for k, v in dictionary.iteritems():\n",
        "  print(k, v)\n",
        "  count += 1\n",
        "  if count > 10:\n",
        "    break"
      ],
      "execution_count": null,
      "outputs": [
        {
          "output_type": "stream",
          "text": [
            "0 إصابتك\n",
            "1 اشتباه\n",
            "2 البرامج\n",
            "3 باصابتك\n",
            "4 بالخطأ\n",
            "5 بشكل\n",
            "6 تحميلك\n",
            "7 تلقائي\n",
            "8 حذفته\n",
            "9 صحتي\n",
            "10 عزل\n"
          ],
          "name": "stdout"
        }
      ]
    },
    {
      "cell_type": "code",
      "metadata": {
        "id": "FWyXor9VSjQv"
      },
      "source": [
        "## Filter out tokens in the dictionary by their frequency.\n",
        "dictionary.filter_extremes(no_below=15, no_above=0.5, keep_n=100000)"
      ],
      "execution_count": null,
      "outputs": []
    },
    {
      "cell_type": "code",
      "metadata": {
        "colab": {
          "base_uri": "https://localhost:8080/"
        },
        "id": "PsggEjRZSozu",
        "outputId": "bd5afbb0-a325-4594-a792-d7bb65c710db"
      },
      "source": [
        "#Create Corpus -> term document frequency\n",
        "bow_corpus = [dictionary.doc2bow(doc) for doc in words]\n",
        "bow_corpus[7781]"
      ],
      "execution_count": null,
      "outputs": [
        {
          "output_type": "execute_result",
          "data": {
            "text/plain": [
              "[(24, 1),\n",
              " (140, 2),\n",
              " (159, 1),\n",
              " (161, 1),\n",
              " (200, 1),\n",
              " (344, 1),\n",
              " (354, 1),\n",
              " (554, 1),\n",
              " (561, 1),\n",
              " (672, 1)]"
            ]
          },
          "metadata": {
            "tags": []
          },
          "execution_count": 12
        }
      ]
    },
    {
      "cell_type": "code",
      "metadata": {
        "colab": {
          "base_uri": "https://localhost:8080/"
        },
        "id": "w5Y-ImJPSt92",
        "outputId": "dfb8f681-7f43-4b2d-b8bb-b9a1c671164e"
      },
      "source": [
        "bow_doc_7781 = bow_corpus[7781]\n",
        "\n",
        "for i in range(len(bow_doc_7781)):\n",
        "  print(\"Word {} (\\\"{}\\\") appears {} time.\".format(bow_doc_7781[i][0], \n",
        "                                                   dictionary[bow_doc_7781[i][0]], bow_doc_7781[i][1]))"
      ],
      "execution_count": null,
      "outputs": [
        {
          "output_type": "stream",
          "text": [
            "Word 24 (\"التطبيق\") appears 1 time.\n",
            "Word 140 (\"الدخول\") appears 2 time.\n",
            "Word 159 (\"مشكلة\") appears 1 time.\n",
            "Word 161 (\"يوجد\") appears 1 time.\n",
            "Word 200 (\"تسجيل\") appears 1 time.\n",
            "Word 344 (\"مستخدم\") appears 1 time.\n",
            "Word 354 (\"بنفس\") appears 1 time.\n",
            "Word 554 (\"مهم\") appears 1 time.\n",
            "Word 561 (\"ياريت\") appears 1 time.\n",
            "Word 672 (\"بيانات\") appears 1 time.\n"
          ],
          "name": "stdout"
        }
      ]
    },
    {
      "cell_type": "code",
      "metadata": {
        "id": "ByZHu8MaTNWy"
      },
      "source": [
        "def document_to_bow(processed):\n",
        "  bow_corpus = [dictionary.doc2bow(doc) for doc in words]\n",
        "  processed['bow'] = list(map(lambda doc: bow_doc_7781 , processed_Review.processed))\n",
        "    \n",
        "document_to_bow(processed_Review)"
      ],
      "execution_count": null,
      "outputs": []
    },
    {
      "cell_type": "markdown",
      "metadata": {
        "id": "Xjci4PXDTlIG"
      },
      "source": [
        "# TF-IDF"
      ]
    },
    {
      "cell_type": "code",
      "metadata": {
        "id": "n8cSkuwRTiGf"
      },
      "source": [
        "from gensim import corpora, models\n",
        "\n",
        "tfidf = models.TfidfModel(bow_corpus)"
      ],
      "execution_count": null,
      "outputs": []
    },
    {
      "cell_type": "code",
      "metadata": {
        "id": "SqhuG_-6Tqt6"
      },
      "source": [
        "corpus_tfidf = tfidf[bow_corpus]\n"
      ],
      "execution_count": null,
      "outputs": []
    },
    {
      "cell_type": "code",
      "metadata": {
        "colab": {
          "base_uri": "https://localhost:8080/"
        },
        "id": "MT5UmrmSTvS1",
        "outputId": "e89daa1a-f0c7-4952-df82-992550f97e85"
      },
      "source": [
        "from pprint import pprint\n",
        "\n",
        "for doc in corpus_tfidf:\n",
        "    pprint(doc)\n",
        "    break"
      ],
      "execution_count": null,
      "outputs": [
        {
          "output_type": "stream",
          "text": [
            "[(0, 0.3722194561401363),\n",
            " (1, 0.2650684574335239),\n",
            " (2, 0.3238854836623631),\n",
            " (3, 0.3418369049976069),\n",
            " (4, 0.330763757046554),\n",
            " (5, 0.3844290820845282),\n",
            " (6, 0.29020558587261963),\n",
            " (7, 0.26153123977645804),\n",
            " (8, 0.39953580517948745)]\n"
          ],
          "name": "stdout"
        }
      ]
    },
    {
      "cell_type": "markdown",
      "metadata": {
        "id": "6DEcbNgFT_lJ"
      },
      "source": [
        "# Runing LDA using bag of words corpus"
      ]
    },
    {
      "cell_type": "code",
      "metadata": {
        "id": "QaPEpruNUE0E"
      },
      "source": [
        "lda_model_bow = gensim.models.LdaMulticore(bow_corpus, num_topics=5, id2word=dictionary, alpha='symmetric', eta=0.91)"
      ],
      "execution_count": null,
      "outputs": []
    },
    {
      "cell_type": "code",
      "metadata": {
        "colab": {
          "base_uri": "https://localhost:8080/"
        },
        "id": "8qjoKG2HUOQL",
        "outputId": "bc304be9-31c4-49f8-c771-cab1c5920345"
      },
      "source": [
        "for idx, topic in lda_model_bow.print_topics(-1):\n",
        "    print('Topic: {} \\nWords: {}'.format(idx, topic))"
      ],
      "execution_count": null,
      "outputs": [
        {
          "output_type": "stream",
          "text": [
            "Topic: 0 \n",
            "Words: 0.029*\"تطبيق\" + 0.020*\"التسجيل\" + 0.020*\"فاشل\" + 0.012*\"البرنامج\" + 0.010*\"رقم\" + 0.010*\"موعد\" + 0.010*\"جدا\" + 0.009*\"خطأ\" + 0.009*\"التطبيق\" + 0.009*\"راضي\"\n",
            "Topic: 1 \n",
            "Words: 0.029*\"التحديث\" + 0.029*\"التطبيق\" + 0.014*\"التسجيل\" + 0.013*\"الله\" + 0.012*\"خطأ\" + 0.011*\"موعد\" + 0.010*\"يعمل\" + 0.008*\"يقبل\" + 0.007*\"انه\" + 0.007*\"الدخول\"\n",
            "Topic: 2 \n",
            "Words: 0.060*\"التطبيق\" + 0.022*\"البرنامج\" + 0.013*\"تطبيق\" + 0.013*\"الدخول\" + 0.012*\"يقول\" + 0.011*\"التسجيل\" + 0.011*\"خطأ\" + 0.011*\"الله\" + 0.009*\"تسجيل\" + 0.009*\"برنامج\"\n",
            "Topic: 3 \n",
            "Words: 0.026*\"و\" + 0.019*\"جدا\" + 0.017*\"يقول\" + 0.017*\"تطبيق\" + 0.015*\"الموقع\" + 0.014*\"التطبيق\" + 0.009*\"اسجل\" + 0.009*\"موعد\" + 0.009*\"ان\" + 0.008*\"كلمة\"\n",
            "Topic: 4 \n",
            "Words: 0.049*\"التطبيق\" + 0.044*\"جدا\" + 0.034*\"يعمل\" + 0.030*\"البرنامج\" + 0.016*\"التسجيل\" + 0.012*\"سيء\" + 0.012*\"و\" + 0.011*\"برنامج\" + 0.011*\"ممتاز\" + 0.009*\"تطبيق\"\n"
          ],
          "name": "stdout"
        }
      ]
    },
    {
      "cell_type": "code",
      "metadata": {
        "colab": {
          "base_uri": "https://localhost:8080/"
        },
        "id": "oMKc0Vp0Ud61",
        "outputId": "f3b48ff8-3043-4284-f06c-a8dff4c1e931"
      },
      "source": [
        "# Compute Perplexity\n",
        "print('\\nPerplexity: ', lda_model_bow.log_perplexity(bow_corpus)) "
      ],
      "execution_count": null,
      "outputs": [
        {
          "output_type": "stream",
          "text": [
            "\n",
            "Perplexity:  -6.560098483950876\n"
          ],
          "name": "stdout"
        }
      ]
    },
    {
      "cell_type": "markdown",
      "metadata": {
        "id": "JFqaArzUUkEb"
      },
      "source": [
        "# Running LDA using tf-idf"
      ]
    },
    {
      "cell_type": "code",
      "metadata": {
        "id": "NWTi0ABSUieH"
      },
      "source": [
        "lda_model_tfidf = gensim.models.LdaMulticore(corpus_tfidf, num_topics=5, id2word=dictionary, alpha='symmetric', eta=0.91)\n"
      ],
      "execution_count": null,
      "outputs": []
    },
    {
      "cell_type": "code",
      "metadata": {
        "colab": {
          "base_uri": "https://localhost:8080/"
        },
        "id": "zx-xx-QuU1B1",
        "outputId": "93f36276-6c42-4945-989f-4a036ce333ba"
      },
      "source": [
        "for idx, topic in lda_model_tfidf.print_topics(-1):\n",
        "    print('Topic: {} \\nWords: {}'.format(idx, topic))"
      ],
      "execution_count": null,
      "outputs": [
        {
          "output_type": "stream",
          "text": [
            "Topic: 0 \n",
            "Words: 0.020*\"جدا\" + 0.018*\"فاشل\" + 0.015*\"سيء\" + 0.014*\"تطبيق\" + 0.014*\"التسجيل\" + 0.012*\"التطبيق\" + 0.012*\"جيد\" + 0.012*\"البرنامج\" + 0.011*\"يفتح\" + 0.010*\"يحتاج\"\n",
            "Topic: 1 \n",
            "Words: 0.015*\"البرنامج\" + 0.013*\"تطبيق\" + 0.012*\"برنامج\" + 0.010*\"التطبيق\" + 0.009*\"تحديث\" + 0.009*\"التحديث\" + 0.006*\"متاح\" + 0.006*\"التسجيل\" + 0.006*\"يوجد\" + 0.006*\"ليه\"\n",
            "Topic: 2 \n",
            "Words: 0.016*\"جدا\" + 0.012*\"ممتاز\" + 0.011*\"التسجيل\" + 0.011*\"التطبيق\" + 0.010*\"الدخول\" + 0.008*\"تسجيل\" + 0.008*\"خطأ\" + 0.008*\"موعد\" + 0.007*\"مو\" + 0.007*\"تطبيق\"\n",
            "Topic: 3 \n",
            "Words: 0.044*\"يعمل\" + 0.029*\"التطبيق\" + 0.013*\"الله\" + 0.011*\"سيئ\" + 0.010*\"البرنامج\" + 0.009*\"لايعمل\" + 0.009*\"تطبيق\" + 0.008*\"جدا\" + 0.007*\"مشكلة\" + 0.006*\"لماذا\"\n",
            "Topic: 4 \n",
            "Words: 0.018*\"يقبل\" + 0.015*\"التسجيل\" + 0.013*\"التطبيق\" + 0.012*\"و\" + 0.009*\"التحديث\" + 0.008*\"يقول\" + 0.008*\"خطأ\" + 0.007*\"يعلق\" + 0.006*\"البرنامج\" + 0.006*\"لايعمل\"\n"
          ],
          "name": "stdout"
        }
      ]
    },
    {
      "cell_type": "code",
      "metadata": {
        "colab": {
          "base_uri": "https://localhost:8080/"
        },
        "id": "mX9fZXrmaLGn",
        "outputId": "817a3b34-b415-406e-d545-967c7b368e05"
      },
      "source": [
        "# Compute Coherence Score using c_v\n",
        "coherence_model_lda = CoherenceModel(model=lda_model_tfidf, texts=corpus_tfidf, dictionary=id2word, coherence='c_v')\n",
        "coherence_lda = coherence_model_lda.get_coherence()\n",
        "print('\\nCoherence Score: ', coherence_lda)"
      ],
      "execution_count": null,
      "outputs": [
        {
          "output_type": "stream",
          "text": [
            "\n",
            "Coherence Score:  nan\n"
          ],
          "name": "stdout"
        }
      ]
    },
    {
      "cell_type": "code",
      "metadata": {
        "colab": {
          "base_uri": "https://localhost:8080/"
        },
        "id": "GbPgucKiVA2N",
        "outputId": "7ddd237d-731a-4725-e2e1-4b56b032c2e2"
      },
      "source": [
        "# Compute Perplexity\n",
        "print('\\nPerplexity: ', lda_model_tfidf.log_perplexity(corpus_tfidf)) "
      ],
      "execution_count": null,
      "outputs": [
        {
          "output_type": "stream",
          "text": [
            "\n",
            "Perplexity:  -7.389744103471655\n"
          ],
          "name": "stdout"
        }
      ]
    },
    {
      "cell_type": "markdown",
      "metadata": {
        "id": "JhSlmPqSVELh"
      },
      "source": [
        "# Performance evaluation by classifying sample document using Basic LDA"
      ]
    },
    {
      "cell_type": "code",
      "metadata": {
        "colab": {
          "base_uri": "https://localhost:8080/",
          "height": 35
        },
        "id": "6n2zePEzVIVz",
        "outputId": "d5471f1a-aac7-490f-c41e-955cb549783f"
      },
      "source": [
        "processed_docs = df['stem_meaningful']\n",
        "processed_docs[50]\n"
      ],
      "execution_count": null,
      "outputs": [
        {
          "output_type": "execute_result",
          "data": {
            "application/vnd.google.colaboratory.intrinsic+json": {
              "type": "string"
            },
            "text/plain": [
              "\"['يوجد', 'مشكله', 'بموضوع', 'الاستبيان', 'بالنسبه', 'لجهاز', 'اندرويد', 'التطبيق', 'بفتح', 'مباشره', 'صفحة', 'استبيان', 'اليوم', 'يوجد', 'اي', 'معلومات', 'او', 'استبيان', 'لتعبئة']\""
            ]
          },
          "metadata": {
            "tags": []
          },
          "execution_count": 47
        }
      ]
    },
    {
      "cell_type": "code",
      "metadata": {
        "colab": {
          "base_uri": "https://localhost:8080/"
        },
        "id": "BKKJtJd8VdS8",
        "outputId": "b1d006a2-c615-460d-94c5-04e3739e818a"
      },
      "source": [
        "for index, score in sorted(lda_model_tfidf[corpus_tfidf[50]], key=lambda tup: -1*tup[1]):\n",
        "    print(\"\\nScore: {}\\t \\nTopic: {}\".format(score, lda_model_tfidf.print_topic(index, 10)))"
      ],
      "execution_count": null,
      "outputs": [
        {
          "output_type": "stream",
          "text": [
            "\n",
            "Score: 0.5450183153152466\t \n",
            "Topic: 0.029*\"يعمل\" + 0.024*\"التطبيق\" + 0.019*\"البرنامج\" + 0.015*\"التحديث\" + 0.013*\"جدا\" + 0.013*\"جيد\" + 0.009*\"يفتح\" + 0.009*\"يشتغل\" + 0.008*\"فاشل\" + 0.007*\"لايعمل\"\n",
            "\n",
            "Score: 0.23717613518238068\t \n",
            "Topic: 0.023*\"التسجيل\" + 0.020*\"جدا\" + 0.015*\"يقبل\" + 0.015*\"سيء\" + 0.013*\"التطبيق\" + 0.012*\"يعمل\" + 0.009*\"البرنامج\" + 0.009*\"برنامج\" + 0.008*\"لايقبل\" + 0.008*\"خطأ\"\n",
            "\n",
            "Score: 0.19737644493579865\t \n",
            "Topic: 0.017*\"الله\" + 0.011*\"التطبيق\" + 0.011*\"تطبيق\" + 0.008*\"و\" + 0.008*\"يعمل\" + 0.007*\"جدا\" + 0.006*\"نجمه\" + 0.006*\"البرنامج\" + 0.006*\"مشكلة\" + 0.005*\"موعد\"\n",
            "\n",
            "Score: 0.01021482702344656\t \n",
            "Topic: 0.014*\"ممتاز\" + 0.011*\"التطبيق\" + 0.010*\"متاح\" + 0.009*\"خطأ\" + 0.009*\"برنامج\" + 0.009*\"يقول\" + 0.009*\"جدا\" + 0.009*\"فاشل\" + 0.008*\"التسجيل\" + 0.008*\"الدخول\"\n",
            "\n",
            "Score: 0.010214326903223991\t \n",
            "Topic: 0.018*\"تطبيق\" + 0.013*\"التطبيق\" + 0.011*\"يقول\" + 0.009*\"التسجيل\" + 0.008*\"و\" + 0.007*\"موعد\" + 0.006*\"تسجيل\" + 0.006*\"جديد\" + 0.006*\"الله\" + 0.006*\"حل\"\n"
          ],
          "name": "stdout"
        }
      ]
    },
    {
      "cell_type": "markdown",
      "metadata": {
        "id": "SRq7n2hlYDeB"
      },
      "source": [
        "# Testing each model accuracy on unseen reviews\n"
      ]
    },
    {
      "cell_type": "code",
      "metadata": {
        "colab": {
          "base_uri": "https://localhost:8080/"
        },
        "id": "P83t3FWRXeMQ",
        "outputId": "28c1471c-b6e4-4aad-fd8e-75dad445de0b"
      },
      "source": [
        "test_corpus = df.processed[50:70]\n",
        "test_corpus"
      ],
      "execution_count": null,
      "outputs": [
        {
          "output_type": "execute_result",
          "data": {
            "text/plain": [
              "50    يوجد مشكله بموضوع الاستبيان بالنسبه لجهاز اندر...\n",
              "51    السلام عليكم ورحمه الله سمحتو ياجماعه انا حملت...\n",
              "52    مافيه شي مميز ولايقدم اي ارشادات ولافيه تسجيل ...\n",
              "53    تسجيل الدخول يعطيني خطاء البيانات وعند التسجيل...\n",
              "54                          معلق ارسال الاستبيان اليومي\n",
              "55    عندي اشتراك بالتطبيق يفتح ورقم الاثبات والجوال...\n",
              "56    فين الاستبيانات اذا التطبيق مو شغال نحط التقيي...\n",
              "57    التطبيق مشكله فنيه يغلق نفسه اختيار الدوله يست...\n",
              "58    التطبيق مخبط يطلب اسبيان تقدر تكتب اي ملاحظة ف...\n",
              "59    التطبيق لايعمل انشاء حساب يرفض الدخول بسبب ه خ...\n",
              "60                                       سيء يفتح تعليق\n",
              "61      مو حلو مابي ادخل الهويه ومدري وش وش دا يع بمسحو\n",
              "62                                      سيئ جدا جدا جدا\n",
              "63                   تبديل التاريخ ميلادى هجرة مش موجود\n",
              "64    سجلت التطبيق طلع حجر ١٤ يوم اني اعاني اي شي ار...\n",
              "65    البرنامج يعلق حالة الاستبيان للمصاب الرجاء إصل...\n",
              "66                                         التطبيق يعمل\n",
              "67                                   خاص لدولة السعودية\n",
              "68    انا كنت جاي مصر وسجلت المفروض الحجر المنزلي ٧ا...\n",
              "69          عدم التفاعل و عدم الاجابه الرسائل برنامج سئ\n",
              "Name: processed, dtype: object"
            ]
          },
          "metadata": {
            "tags": []
          },
          "execution_count": 50
        }
      ]
    },
    {
      "cell_type": "code",
      "metadata": {
        "colab": {
          "base_uri": "https://localhost:8080/"
        },
        "id": "4OG1kaITXAc5",
        "outputId": "4ea00302-9f50-4cf4-b59d-3e69e37cc33e"
      },
      "source": [
        "unseen_review = 'التطبيق يرفض تسجيل الدخول'\n",
        "#Tokenize the unseen review into words\n",
        "tokens = [word for word in unseen_review.split()]\n",
        "bow_vector = dictionary.doc2bow((tokens))\n",
        "\n",
        "for index, score in sorted(lda_model_tfidf[bow_vector], key=lambda tup: -1*tup[1]):\n",
        "    print(\"Score: {}\\t Topic: {}\".format(score, lda_model_tfidf.print_topic(index, 5)))"
      ],
      "execution_count": null,
      "outputs": [
        {
          "output_type": "stream",
          "text": [
            "Score: 0.8370928764343262\t Topic: 0.029*\"يعمل\" + 0.024*\"التطبيق\" + 0.019*\"البرنامج\" + 0.015*\"التحديث\" + 0.013*\"جدا\"\n",
            "Score: 0.04094498232007027\t Topic: 0.018*\"تطبيق\" + 0.013*\"التطبيق\" + 0.011*\"يقول\" + 0.009*\"التسجيل\" + 0.008*\"و\"\n",
            "Score: 0.04081331938505173\t Topic: 0.023*\"التسجيل\" + 0.020*\"جدا\" + 0.015*\"يقبل\" + 0.015*\"سيء\" + 0.013*\"التطبيق\"\n",
            "Score: 0.0408010296523571\t Topic: 0.014*\"ممتاز\" + 0.011*\"التطبيق\" + 0.010*\"متاح\" + 0.009*\"خطأ\" + 0.009*\"برنامج\"\n",
            "Score: 0.04034784808754921\t Topic: 0.017*\"الله\" + 0.011*\"التطبيق\" + 0.011*\"تطبيق\" + 0.008*\"و\" + 0.008*\"يعمل\"\n"
          ],
          "name": "stdout"
        }
      ]
    },
    {
      "cell_type": "code",
      "metadata": {
        "colab": {
          "base_uri": "https://localhost:8080/"
        },
        "id": "sAq5yJ8KXYzd",
        "outputId": "8a647378-1988-4aa3-ed2a-9aae2087282a"
      },
      "source": [
        "unseen_review = 'االتطبيق مشكله فنيه يغلق نفسه  '\n",
        "#Tokenize the unseen review into words\n",
        "tokens = [word for word in unseen_review.split()]\n",
        "bow_vector = dictionary.doc2bow((tokens))\n",
        "\n",
        "for index, score in sorted(lda_model_tfidf[bow_vector], key=lambda tup: -1*tup[1]):\n",
        "    print(\"Score: {}\\t Topic: {}\".format(score, lda_model_tfidf.print_topic(index, 5)))"
      ],
      "execution_count": null,
      "outputs": [
        {
          "output_type": "stream",
          "text": [
            "Score: 0.7970845699310303\t Topic: 0.023*\"التسجيل\" + 0.020*\"جدا\" + 0.015*\"يقبل\" + 0.015*\"سيء\" + 0.013*\"التطبيق\"\n",
            "Score: 0.05105307325720787\t Topic: 0.029*\"يعمل\" + 0.024*\"التطبيق\" + 0.019*\"البرنامج\" + 0.015*\"التحديث\" + 0.013*\"جدا\"\n",
            "Score: 0.05083850026130676\t Topic: 0.014*\"ممتاز\" + 0.011*\"التطبيق\" + 0.010*\"متاح\" + 0.009*\"خطأ\" + 0.009*\"برنامج\"\n",
            "Score: 0.05061442404985428\t Topic: 0.017*\"الله\" + 0.011*\"التطبيق\" + 0.011*\"تطبيق\" + 0.008*\"و\" + 0.008*\"يعمل\"\n",
            "Score: 0.050409458577632904\t Topic: 0.018*\"تطبيق\" + 0.013*\"التطبيق\" + 0.011*\"يقول\" + 0.009*\"التسجيل\" + 0.008*\"و\"\n"
          ],
          "name": "stdout"
        }
      ]
    },
    {
      "cell_type": "code",
      "metadata": {
        "colab": {
          "base_uri": "https://localhost:8080/"
        },
        "id": "T5qt5q0AYesl",
        "outputId": "c5dac4b4-8450-4e8d-cf08-9042b1919cf9"
      },
      "source": [
        "unseen_review = 'تسجيل الدخول يعطيني خطاء البيانات وعند التسجيل'\n",
        "#Tokenize the unseen review into words\n",
        "tokens = [word for word in unseen_review.split()]\n",
        "bow_vector = dictionary.doc2bow((tokens))\n",
        "\n",
        "for index, score in sorted(lda_model_tfidf[bow_vector], key=lambda tup: -1*tup[1]):\n",
        "    print(\"Score: {}\\t Topic: {}\".format(score, lda_model_tfidf.print_topic(index, 5)))"
      ],
      "execution_count": null,
      "outputs": [
        {
          "output_type": "stream",
          "text": [
            "Score: 0.8971348404884338\t Topic: 0.014*\"ممتاز\" + 0.011*\"التطبيق\" + 0.010*\"متاح\" + 0.009*\"خطأ\" + 0.009*\"برنامج\"\n",
            "Score: 0.02591741271317005\t Topic: 0.023*\"التسجيل\" + 0.020*\"جدا\" + 0.015*\"يقبل\" + 0.015*\"سيء\" + 0.013*\"التطبيق\"\n",
            "Score: 0.02571820467710495\t Topic: 0.029*\"يعمل\" + 0.024*\"التطبيق\" + 0.019*\"البرنامج\" + 0.015*\"التحديث\" + 0.013*\"جدا\"\n",
            "Score: 0.025672482326626778\t Topic: 0.018*\"تطبيق\" + 0.013*\"التطبيق\" + 0.011*\"يقول\" + 0.009*\"التسجيل\" + 0.008*\"و\"\n",
            "Score: 0.02555706910789013\t Topic: 0.017*\"الله\" + 0.011*\"التطبيق\" + 0.011*\"تطبيق\" + 0.008*\"و\" + 0.008*\"يعمل\"\n"
          ],
          "name": "stdout"
        }
      ]
    }
  ]
}